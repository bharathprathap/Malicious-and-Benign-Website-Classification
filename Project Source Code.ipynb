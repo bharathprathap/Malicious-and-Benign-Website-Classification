{
  "nbformat": 4,
  "nbformat_minor": 0,
  "metadata": {
    "colab": {
      "name": "Malicious and Benign Website Classification.ipynb",
      "provenance": [],
      "collapsed_sections": [],
      "machine_shape": "hm"
    },
    "kernelspec": {
      "display_name": "Python 3",
      "name": "python3"
    },
    "language_info": {
      "name": "python"
    }
  },
  "cells": [
    {
      "cell_type": "markdown",
      "metadata": {
        "id": "FyuEceMP7SrH"
      },
      "source": [
        "## Importing Libraries"
      ]
    },
    {
      "cell_type": "code",
      "metadata": {
        "id": "Vz8D7qmi_LcW"
      },
      "source": [
        "import pandas as pd\n",
        "import numpy as np\n",
        "import matplotlib.pyplot as plt\n",
        "from sklearn.preprocessing import LabelEncoder\n",
        "import seaborn as sns\n",
        "import nltk\n",
        "from nltk.corpus import stopwords\n",
        "import plotly.express as px\n",
        "import re\n",
        "from textblob import TextBlob\n",
        "import plotly.graph_objects as go\n",
        "from sklearn.feature_extraction.text import CountVectorizer\n",
        "from nltk.stem import PorterStemmer\n",
        "from sklearn.model_selection import train_test_split\n",
        "from sklearn.preprocessing import StandardScaler\n",
        "from sklearn.metrics import classification_report, confusion_matrix\n",
        "from sklearn.metrics import accuracy_score\n",
        "from sklearn.naive_bayes import GaussianNB\n",
        "from sklearn.neighbors import KNeighborsClassifier  \n",
        "from sklearn.linear_model import LogisticRegression\n",
        "from sklearn.tree import DecisionTreeClassifier\n",
        "from sklearn.svm import SVC\n",
        "from tqdm import tqdm\n",
        "from sklearn.model_selection import cross_val_score\n",
        "from sklearn.model_selection import KFold, GridSearchCV\n",
        "from sklearn.ensemble import RandomForestClassifier\n",
        "from sklearn.model_selection import cross_val_score\n",
        "from sklearn.model_selection import RepeatedStratifiedKFold\n",
        "from sklearn.naive_bayes import MultinomialNB\n",
        "from sklearn.ensemble import RandomForestClassifier"
      ],
      "execution_count": null,
      "outputs": []
    },
    {
      "cell_type": "code",
      "metadata": {
        "colab": {
          "base_uri": "https://localhost:8080/"
        },
        "id": "Q8bMs85wCHgQ",
        "outputId": "2a794c3d-c456-4776-a238-71edb52927e2"
      },
      "source": [
        "from google.colab import drive\n",
        "drive.mount('/content/drive')"
      ],
      "execution_count": null,
      "outputs": [
        {
          "output_type": "stream",
          "name": "stdout",
          "text": [
            "Mounted at /content/drive\n"
          ]
        }
      ]
    },
    {
      "cell_type": "code",
      "metadata": {
        "colab": {
          "base_uri": "https://localhost:8080/"
        },
        "id": "-ftvx1z5Ehxg",
        "outputId": "f11b4a96-a05c-495f-96f3-dee4e9547bae"
      },
      "source": [
        "nltk.download('punkt')\n",
        "nltk.download('wordnet')\n",
        "nltk.download('stopwords')"
      ],
      "execution_count": null,
      "outputs": [
        {
          "output_type": "stream",
          "name": "stdout",
          "text": [
            "[nltk_data] Downloading package punkt to /root/nltk_data...\n",
            "[nltk_data]   Unzipping tokenizers/punkt.zip.\n",
            "[nltk_data] Downloading package wordnet to /root/nltk_data...\n",
            "[nltk_data]   Unzipping corpora/wordnet.zip.\n",
            "[nltk_data] Downloading package stopwords to /root/nltk_data...\n",
            "[nltk_data]   Unzipping corpora/stopwords.zip.\n"
          ]
        },
        {
          "output_type": "execute_result",
          "data": {
            "text/plain": [
              "True"
            ]
          },
          "metadata": {},
          "execution_count": 3
        }
      ]
    },
    {
      "cell_type": "markdown",
      "metadata": {
        "id": "NeFtOm2kl9f9"
      },
      "source": [
        "## Importing Dataset"
      ]
    },
    {
      "cell_type": "code",
      "metadata": {
        "id": "nq9LyOzrCTfS"
      },
      "source": [
        "df = pd.read_csv('/content/drive/MyDrive/FDS/Webpages_Classification_test_data.csv')"
      ],
      "execution_count": null,
      "outputs": []
    },
    {
      "cell_type": "code",
      "metadata": {
        "id": "rEZfCqve70z9"
      },
      "source": [
        "df.drop(['Unnamed: 0'], axis=1, inplace=True)"
      ],
      "execution_count": null,
      "outputs": []
    },
    {
      "cell_type": "markdown",
      "metadata": {
        "id": "1FuBV9AE7iff"
      },
      "source": [
        "## Data summarization"
      ]
    },
    {
      "cell_type": "code",
      "metadata": {
        "colab": {
          "base_uri": "https://localhost:8080/",
          "height": 380
        },
        "id": "u3ym60e9CneM",
        "outputId": "5db7066e-6443-40ae-bf9b-dc699447080f"
      },
      "source": [
        "df.head()"
      ],
      "execution_count": null,
      "outputs": [
        {
          "output_type": "execute_result",
          "data": {
            "text/html": [
              "<div>\n",
              "<style scoped>\n",
              "    .dataframe tbody tr th:only-of-type {\n",
              "        vertical-align: middle;\n",
              "    }\n",
              "\n",
              "    .dataframe tbody tr th {\n",
              "        vertical-align: top;\n",
              "    }\n",
              "\n",
              "    .dataframe thead th {\n",
              "        text-align: right;\n",
              "    }\n",
              "</style>\n",
              "<table border=\"1\" class=\"dataframe\">\n",
              "  <thead>\n",
              "    <tr style=\"text-align: right;\">\n",
              "      <th></th>\n",
              "      <th>url</th>\n",
              "      <th>url_len</th>\n",
              "      <th>ip_add</th>\n",
              "      <th>geo_loc</th>\n",
              "      <th>tld</th>\n",
              "      <th>who_is</th>\n",
              "      <th>https</th>\n",
              "      <th>js_len</th>\n",
              "      <th>js_obf_len</th>\n",
              "      <th>content</th>\n",
              "      <th>label</th>\n",
              "    </tr>\n",
              "  </thead>\n",
              "  <tbody>\n",
              "    <tr>\n",
              "      <th>0</th>\n",
              "      <td>http://www.dutchthewiz.com/freeware/</td>\n",
              "      <td>36</td>\n",
              "      <td>175.67.214.68</td>\n",
              "      <td>China</td>\n",
              "      <td>com</td>\n",
              "      <td>complete</td>\n",
              "      <td>yes</td>\n",
              "      <td>38.5</td>\n",
              "      <td>0.0</td>\n",
              "      <td>Decay suggest in 1315.. Current constitution, ...</td>\n",
              "      <td>good</td>\n",
              "    </tr>\n",
              "    <tr>\n",
              "      <th>1</th>\n",
              "      <td>http://www.collectiblejewels.com</td>\n",
              "      <td>32</td>\n",
              "      <td>188.120.171.121</td>\n",
              "      <td>Sweden</td>\n",
              "      <td>com</td>\n",
              "      <td>incomplete</td>\n",
              "      <td>yes</td>\n",
              "      <td>187.0</td>\n",
              "      <td>0.0</td>\n",
              "      <td>breast addict nudger whash ky darkie catholics...</td>\n",
              "      <td>good</td>\n",
              "    </tr>\n",
              "    <tr>\n",
              "      <th>2</th>\n",
              "      <td>http://www.deadlinedata.com</td>\n",
              "      <td>27</td>\n",
              "      <td>193.51.170.1</td>\n",
              "      <td>France</td>\n",
              "      <td>com</td>\n",
              "      <td>complete</td>\n",
              "      <td>yes</td>\n",
              "      <td>31.0</td>\n",
              "      <td>0.0</td>\n",
              "      <td>Nato's military stoic philosophy says to accep...</td>\n",
              "      <td>good</td>\n",
              "    </tr>\n",
              "    <tr>\n",
              "      <th>3</th>\n",
              "      <td>http://www.mil.fi/maavoimat/kalustoesittely/00...</td>\n",
              "      <td>56</td>\n",
              "      <td>13.237.35.44</td>\n",
              "      <td>Australia</td>\n",
              "      <td>fi</td>\n",
              "      <td>complete</td>\n",
              "      <td>yes</td>\n",
              "      <td>152.0</td>\n",
              "      <td>0.0</td>\n",
              "      <td>Night being newton. according to the formation...</td>\n",
              "      <td>good</td>\n",
              "    </tr>\n",
              "    <tr>\n",
              "      <th>4</th>\n",
              "      <td>http://www.avclub.com/content/node/24539</td>\n",
              "      <td>40</td>\n",
              "      <td>220.193.62.89</td>\n",
              "      <td>China</td>\n",
              "      <td>com</td>\n",
              "      <td>complete</td>\n",
              "      <td>yes</td>\n",
              "      <td>150.0</td>\n",
              "      <td>0.0</td>\n",
              "      <td>34 per two children. if we exercise simple pra...</td>\n",
              "      <td>good</td>\n",
              "    </tr>\n",
              "  </tbody>\n",
              "</table>\n",
              "</div>"
            ],
            "text/plain": [
              "                                                 url  ...  label\n",
              "0               http://www.dutchthewiz.com/freeware/  ...   good\n",
              "1                   http://www.collectiblejewels.com  ...   good\n",
              "2                        http://www.deadlinedata.com  ...   good\n",
              "3  http://www.mil.fi/maavoimat/kalustoesittely/00...  ...   good\n",
              "4           http://www.avclub.com/content/node/24539  ...   good\n",
              "\n",
              "[5 rows x 11 columns]"
            ]
          },
          "metadata": {},
          "execution_count": 6
        }
      ]
    },
    {
      "cell_type": "code",
      "metadata": {
        "colab": {
          "base_uri": "https://localhost:8080/"
        },
        "id": "rQJOIdvUCiwS",
        "outputId": "58ed8847-974b-439d-fbe9-7e0753d78a7d"
      },
      "source": [
        "df.shape"
      ],
      "execution_count": null,
      "outputs": [
        {
          "output_type": "execute_result",
          "data": {
            "text/plain": [
              "(361934, 11)"
            ]
          },
          "metadata": {},
          "execution_count": 7
        }
      ]
    },
    {
      "cell_type": "code",
      "metadata": {
        "colab": {
          "base_uri": "https://localhost:8080/"
        },
        "id": "qpEPRdJICpCK",
        "outputId": "470bfedb-9162-4154-be47-52af939df511"
      },
      "source": [
        "df.info()"
      ],
      "execution_count": null,
      "outputs": [
        {
          "output_type": "stream",
          "name": "stdout",
          "text": [
            "<class 'pandas.core.frame.DataFrame'>\n",
            "RangeIndex: 361934 entries, 0 to 361933\n",
            "Data columns (total 11 columns):\n",
            " #   Column      Non-Null Count   Dtype  \n",
            "---  ------      --------------   -----  \n",
            " 0   url         361934 non-null  object \n",
            " 1   url_len     361934 non-null  int64  \n",
            " 2   ip_add      361934 non-null  object \n",
            " 3   geo_loc     361934 non-null  object \n",
            " 4   tld         361934 non-null  object \n",
            " 5   who_is      361934 non-null  object \n",
            " 6   https       361934 non-null  object \n",
            " 7   js_len      361934 non-null  float64\n",
            " 8   js_obf_len  361934 non-null  float64\n",
            " 9   content     361934 non-null  object \n",
            " 10  label       361934 non-null  object \n",
            "dtypes: float64(2), int64(1), object(8)\n",
            "memory usage: 30.4+ MB\n"
          ]
        }
      ]
    },
    {
      "cell_type": "code",
      "metadata": {
        "colab": {
          "base_uri": "https://localhost:8080/",
          "height": 143
        },
        "id": "oI-53IHE74yA",
        "outputId": "dcb2b73f-a5f4-44f7-bb64-0e7a85beb98f"
      },
      "source": [
        "df.describe().T"
      ],
      "execution_count": null,
      "outputs": [
        {
          "output_type": "execute_result",
          "data": {
            "text/html": [
              "<div>\n",
              "<style scoped>\n",
              "    .dataframe tbody tr th:only-of-type {\n",
              "        vertical-align: middle;\n",
              "    }\n",
              "\n",
              "    .dataframe tbody tr th {\n",
              "        vertical-align: top;\n",
              "    }\n",
              "\n",
              "    .dataframe thead th {\n",
              "        text-align: right;\n",
              "    }\n",
              "</style>\n",
              "<table border=\"1\" class=\"dataframe\">\n",
              "  <thead>\n",
              "    <tr style=\"text-align: right;\">\n",
              "      <th></th>\n",
              "      <th>count</th>\n",
              "      <th>mean</th>\n",
              "      <th>std</th>\n",
              "      <th>min</th>\n",
              "      <th>25%</th>\n",
              "      <th>50%</th>\n",
              "      <th>75%</th>\n",
              "      <th>max</th>\n",
              "    </tr>\n",
              "  </thead>\n",
              "  <tbody>\n",
              "    <tr>\n",
              "      <th>url_len</th>\n",
              "      <td>361934.0</td>\n",
              "      <td>35.847472</td>\n",
              "      <td>14.413012</td>\n",
              "      <td>13.0</td>\n",
              "      <td>26.0</td>\n",
              "      <td>32.0</td>\n",
              "      <td>42.0</td>\n",
              "      <td>620.000</td>\n",
              "    </tr>\n",
              "    <tr>\n",
              "      <th>js_len</th>\n",
              "      <td>361934.0</td>\n",
              "      <td>118.917216</td>\n",
              "      <td>89.995030</td>\n",
              "      <td>0.0</td>\n",
              "      <td>66.0</td>\n",
              "      <td>112.0</td>\n",
              "      <td>158.0</td>\n",
              "      <td>854.100</td>\n",
              "    </tr>\n",
              "    <tr>\n",
              "      <th>js_obf_len</th>\n",
              "      <td>361934.0</td>\n",
              "      <td>8.085418</td>\n",
              "      <td>60.131536</td>\n",
              "      <td>0.0</td>\n",
              "      <td>0.0</td>\n",
              "      <td>0.0</td>\n",
              "      <td>0.0</td>\n",
              "      <td>802.854</td>\n",
              "    </tr>\n",
              "  </tbody>\n",
              "</table>\n",
              "</div>"
            ],
            "text/plain": [
              "               count        mean        std   min   25%    50%    75%      max\n",
              "url_len     361934.0   35.847472  14.413012  13.0  26.0   32.0   42.0  620.000\n",
              "js_len      361934.0  118.917216  89.995030   0.0  66.0  112.0  158.0  854.100\n",
              "js_obf_len  361934.0    8.085418  60.131536   0.0   0.0    0.0    0.0  802.854"
            ]
          },
          "metadata": {},
          "execution_count": 9
        }
      ]
    },
    {
      "cell_type": "code",
      "metadata": {
        "colab": {
          "base_uri": "https://localhost:8080/",
          "height": 300
        },
        "id": "o09LgwCN8HRr",
        "outputId": "29d54307-3cdd-4d1b-9164-bfb981bed179"
      },
      "source": [
        "df.describe(include=object).T"
      ],
      "execution_count": null,
      "outputs": [
        {
          "output_type": "execute_result",
          "data": {
            "text/html": [
              "<div>\n",
              "<style scoped>\n",
              "    .dataframe tbody tr th:only-of-type {\n",
              "        vertical-align: middle;\n",
              "    }\n",
              "\n",
              "    .dataframe tbody tr th {\n",
              "        vertical-align: top;\n",
              "    }\n",
              "\n",
              "    .dataframe thead th {\n",
              "        text-align: right;\n",
              "    }\n",
              "</style>\n",
              "<table border=\"1\" class=\"dataframe\">\n",
              "  <thead>\n",
              "    <tr style=\"text-align: right;\">\n",
              "      <th></th>\n",
              "      <th>count</th>\n",
              "      <th>unique</th>\n",
              "      <th>top</th>\n",
              "      <th>freq</th>\n",
              "    </tr>\n",
              "  </thead>\n",
              "  <tbody>\n",
              "    <tr>\n",
              "      <th>url</th>\n",
              "      <td>361934</td>\n",
              "      <td>359217</td>\n",
              "      <td>http://www.supermanhomepage.com/</td>\n",
              "      <td>3</td>\n",
              "    </tr>\n",
              "    <tr>\n",
              "      <th>ip_add</th>\n",
              "      <td>361934</td>\n",
              "      <td>361912</td>\n",
              "      <td>72.155.33.196</td>\n",
              "      <td>2</td>\n",
              "    </tr>\n",
              "    <tr>\n",
              "      <th>geo_loc</th>\n",
              "      <td>361934</td>\n",
              "      <td>217</td>\n",
              "      <td>United States</td>\n",
              "      <td>154831</td>\n",
              "    </tr>\n",
              "    <tr>\n",
              "      <th>tld</th>\n",
              "      <td>361934</td>\n",
              "      <td>828</td>\n",
              "      <td>com</td>\n",
              "      <td>218934</td>\n",
              "    </tr>\n",
              "    <tr>\n",
              "      <th>who_is</th>\n",
              "      <td>361934</td>\n",
              "      <td>2</td>\n",
              "      <td>complete</td>\n",
              "      <td>283804</td>\n",
              "    </tr>\n",
              "    <tr>\n",
              "      <th>https</th>\n",
              "      <td>361934</td>\n",
              "      <td>2</td>\n",
              "      <td>yes</td>\n",
              "      <td>283339</td>\n",
              "    </tr>\n",
              "    <tr>\n",
              "      <th>content</th>\n",
              "      <td>361934</td>\n",
              "      <td>361934</td>\n",
              "      <td>Galaxies. \\n launching its california-cancun s...</td>\n",
              "      <td>1</td>\n",
              "    </tr>\n",
              "    <tr>\n",
              "      <th>label</th>\n",
              "      <td>361934</td>\n",
              "      <td>2</td>\n",
              "      <td>good</td>\n",
              "      <td>353872</td>\n",
              "    </tr>\n",
              "  </tbody>\n",
              "</table>\n",
              "</div>"
            ],
            "text/plain": [
              "          count  ...    freq\n",
              "url      361934  ...       3\n",
              "ip_add   361934  ...       2\n",
              "geo_loc  361934  ...  154831\n",
              "tld      361934  ...  218934\n",
              "who_is   361934  ...  283804\n",
              "https    361934  ...  283339\n",
              "content  361934  ...       1\n",
              "label    361934  ...  353872\n",
              "\n",
              "[8 rows x 4 columns]"
            ]
          },
          "metadata": {},
          "execution_count": 10
        }
      ]
    },
    {
      "cell_type": "markdown",
      "metadata": {
        "id": "RHFt1ASQmEog"
      },
      "source": [
        "## Data Visualisation"
      ]
    },
    {
      "cell_type": "code",
      "metadata": {
        "colab": {
          "base_uri": "https://localhost:8080/",
          "height": 296
        },
        "id": "VCm9mwVyIKQM",
        "outputId": "812dbe0d-ad0d-46f1-a8cd-bc2921c37657"
      },
      "source": [
        "sns.countplot(data=df,x=df['label'])"
      ],
      "execution_count": null,
      "outputs": [
        {
          "output_type": "execute_result",
          "data": {
            "text/plain": [
              "<matplotlib.axes._subplots.AxesSubplot at 0x7f03acaf6510>"
            ]
          },
          "metadata": {},
          "execution_count": 53
        },
        {
          "output_type": "display_data",
          "data": {
            "image/png": "[encoded data removed]",
            "text/plain": [
              "<Figure size 432x288 with 1 Axes>"
            ]
          },
          "metadata": {
            "needs_background": "light"
          }
        }
      ]
    },
    {
      "cell_type": "code",
      "metadata": {
        "colab": {
          "base_uri": "https://localhost:8080/",
          "height": 350
        },
        "id": "AZnS07FkLIP-",
        "outputId": "b5adb9a3-7d8b-492f-de75-7e9beb738c03"
      },
      "source": [
        "plt.figure(figsize=(5,5))\n",
        "sns.countplot(data = df, x = 'https', hue = 'label')\n",
        "plt.title('Label vs https')\n",
        "plt.show()"
      ],
      "execution_count": null,
      "outputs": [
        {
          "output_type": "display_data",
          "data": {
            "image/png": "[encoded data removed]",
            "text/plain": [
              "<Figure size 360x360 with 1 Axes>"
            ]
          },
          "metadata": {
            "needs_background": "light"
          }
        }
      ]
    },
    {
      "cell_type": "code",
      "metadata": {
        "colab": {
          "base_uri": "https://localhost:8080/",
          "height": 351
        },
        "id": "tKVfIGidLexi",
        "outputId": "903081ba-f2d8-447e-e1bb-33ca1db6b132"
      },
      "source": [
        "plt.figure(figsize=(5,5))\n",
        "sns.countplot(data = df, x = 'who_is', hue = 'label')\n",
        "plt.title('Label vs whois')\n",
        "plt.show()"
      ],
      "execution_count": null,
      "outputs": [
        {
          "output_type": "display_data",
          "data": {
            "image/png": "[encoded data removed]",
            "text/plain": [
              "<Figure size 360x360 with 1 Axes>"
            ]
          },
          "metadata": {
            "needs_background": "light"
          }
        }
      ]
    },
    {
      "cell_type": "code",
      "metadata": {
        "colab": {
          "base_uri": "https://localhost:8080/",
          "height": 303
        },
        "id": "HCKREjoFxAu0",
        "outputId": "d3b7aaa0-6ba3-461e-a769-d5b529d20d3b"
      },
      "source": [
        "labels = df['label'].value_counts()\n",
        "w = (list(labels.index), list(labels.values))\n",
        "\n",
        "fig = plt.figure(figsize = (7,5))\n",
        "Explode = [0,0.1]\n",
        "plt.pie(w[1],explode=Explode,labels=w[0],shadow=False,startangle=45,\n",
        "        colors=['green','red'],autopct='%.2f%%',textprops={'fontsize': 15})\n",
        "plt.axis('equal')\n",
        "plt.legend(title='Class Labels of Webpages',loc='lower right')\n",
        "#fig.savefig('imgs/Fig03:Pie Chart Distribution of Class Labels.svg')\n",
        "plt.show()"
      ],
      "execution_count": null,
      "outputs": [
        {
          "output_type": "display_data",
          "data": {
            "image/png": "[encoded data removed]",
            "text/plain": [
              "<Figure size 504x360 with 1 Axes>"
            ]
          },
          "metadata": {}
        }
      ]
    },
    {
      "cell_type": "code",
      "metadata": {
        "colab": {
          "base_uri": "https://localhost:8080/",
          "height": 206
        },
        "id": "HUYl_rV8e9sM",
        "outputId": "7dde028b-44cd-41bd-fadf-d7dacfe59f47"
      },
      "source": [
        "dic = df.groupby(by=['geo_loc','label']).size().unstack(fill_value=0).reset_index()\n",
        "dic.head()"
      ],
      "execution_count": null,
      "outputs": [
        {
          "output_type": "execute_result",
          "data": {
            "text/html": [
              "<div>\n",
              "<style scoped>\n",
              "    .dataframe tbody tr th:only-of-type {\n",
              "        vertical-align: middle;\n",
              "    }\n",
              "\n",
              "    .dataframe tbody tr th {\n",
              "        vertical-align: top;\n",
              "    }\n",
              "\n",
              "    .dataframe thead th {\n",
              "        text-align: right;\n",
              "    }\n",
              "</style>\n",
              "<table border=\"1\" class=\"dataframe\">\n",
              "  <thead>\n",
              "    <tr style=\"text-align: right;\">\n",
              "      <th>label</th>\n",
              "      <th>geo_loc</th>\n",
              "      <th>bad</th>\n",
              "      <th>good</th>\n",
              "    </tr>\n",
              "  </thead>\n",
              "  <tbody>\n",
              "    <tr>\n",
              "      <th>0</th>\n",
              "      <td>Afghanistan</td>\n",
              "      <td>2</td>\n",
              "      <td>21</td>\n",
              "    </tr>\n",
              "    <tr>\n",
              "      <th>1</th>\n",
              "      <td>Albania</td>\n",
              "      <td>1</td>\n",
              "      <td>39</td>\n",
              "    </tr>\n",
              "    <tr>\n",
              "      <th>2</th>\n",
              "      <td>Algeria</td>\n",
              "      <td>8</td>\n",
              "      <td>460</td>\n",
              "    </tr>\n",
              "    <tr>\n",
              "      <th>3</th>\n",
              "      <td>American Samoa</td>\n",
              "      <td>0</td>\n",
              "      <td>5</td>\n",
              "    </tr>\n",
              "    <tr>\n",
              "      <th>4</th>\n",
              "      <td>Andorra</td>\n",
              "      <td>1</td>\n",
              "      <td>2</td>\n",
              "    </tr>\n",
              "  </tbody>\n",
              "</table>\n",
              "</div>"
            ],
            "text/plain": [
              "label         geo_loc  bad  good\n",
              "0         Afghanistan    2    21\n",
              "1             Albania    1    39\n",
              "2             Algeria    8   460\n",
              "3      American Samoa    0     5\n",
              "4             Andorra    1     2"
            ]
          },
          "metadata": {},
          "execution_count": 56
        }
      ]
    },
    {
      "cell_type": "code",
      "metadata": {
        "id": "23f2sy4jm5Zt"
      },
      "source": [
        "dic['good_v_bad'] = ((dic['good']-dic['bad'])/(dic['good']+dic['bad']))*100"
      ],
      "execution_count": null,
      "outputs": []
    },
    {
      "cell_type": "code",
      "metadata": {
        "colab": {
          "base_uri": "https://localhost:8080/",
          "height": 206
        },
        "id": "JETWrhmIno_O",
        "outputId": "f9d768dd-49cb-4bbb-8a5e-a1dddebbb79e"
      },
      "source": [
        "dic.head()"
      ],
      "execution_count": null,
      "outputs": [
        {
          "output_type": "execute_result",
          "data": {
            "text/html": [
              "<div>\n",
              "<style scoped>\n",
              "    .dataframe tbody tr th:only-of-type {\n",
              "        vertical-align: middle;\n",
              "    }\n",
              "\n",
              "    .dataframe tbody tr th {\n",
              "        vertical-align: top;\n",
              "    }\n",
              "\n",
              "    .dataframe thead th {\n",
              "        text-align: right;\n",
              "    }\n",
              "</style>\n",
              "<table border=\"1\" class=\"dataframe\">\n",
              "  <thead>\n",
              "    <tr style=\"text-align: right;\">\n",
              "      <th>label</th>\n",
              "      <th>geo_loc</th>\n",
              "      <th>bad</th>\n",
              "      <th>good</th>\n",
              "      <th>good_v_bad</th>\n",
              "    </tr>\n",
              "  </thead>\n",
              "  <tbody>\n",
              "    <tr>\n",
              "      <th>0</th>\n",
              "      <td>Afghanistan</td>\n",
              "      <td>2</td>\n",
              "      <td>21</td>\n",
              "      <td>82.608696</td>\n",
              "    </tr>\n",
              "    <tr>\n",
              "      <th>1</th>\n",
              "      <td>Albania</td>\n",
              "      <td>1</td>\n",
              "      <td>39</td>\n",
              "      <td>95.000000</td>\n",
              "    </tr>\n",
              "    <tr>\n",
              "      <th>2</th>\n",
              "      <td>Algeria</td>\n",
              "      <td>8</td>\n",
              "      <td>460</td>\n",
              "      <td>96.581197</td>\n",
              "    </tr>\n",
              "    <tr>\n",
              "      <th>3</th>\n",
              "      <td>American Samoa</td>\n",
              "      <td>0</td>\n",
              "      <td>5</td>\n",
              "      <td>100.000000</td>\n",
              "    </tr>\n",
              "    <tr>\n",
              "      <th>4</th>\n",
              "      <td>Andorra</td>\n",
              "      <td>1</td>\n",
              "      <td>2</td>\n",
              "      <td>33.333333</td>\n",
              "    </tr>\n",
              "  </tbody>\n",
              "</table>\n",
              "</div>"
            ],
            "text/plain": [
              "label         geo_loc  bad  good  good_v_bad\n",
              "0         Afghanistan    2    21   82.608696\n",
              "1             Albania    1    39   95.000000\n",
              "2             Algeria    8   460   96.581197\n",
              "3      American Samoa    0     5  100.000000\n",
              "4             Andorra    1     2   33.333333"
            ]
          },
          "metadata": {},
          "execution_count": 60
        }
      ]
    },
    {
      "cell_type": "code",
      "metadata": {
        "colab": {
          "base_uri": "https://localhost:8080/",
          "height": 542
        },
        "id": "iwfnfk1lhK05",
        "outputId": "a6ee372f-6c88-42d7-e4d2-aaf505bafbdd"
      },
      "source": [
        "fig = px.choropleth(dic, locations=\"geo_loc\", \n",
        "                    locationmode='country names', color=np.log(dic['good']), \n",
        "                    hover_name=\"geo_loc\", hover_data=['good'],\n",
        "                    color_continuous_scale=\"rdylgn\", \n",
        "                    title='Countries with good websites')\n",
        "fig.update(layout_coloraxis_showscale=False)\n",
        "fig.show()"
      ],
      "execution_count": null,
      "outputs": [
        {
          "output_type": "display_data",
          "data": {
            "text/html": [
              "<html>\n",
              "<head><meta charset=\"utf-8\" /></head>\n",
              "<body>\n",
              "    <div>\n",
              "            <script src=\"https://cdnjs.cloudflare.com/ajax/libs/mathjax/2.7.5/MathJax.js?config=TeX-AMS-MML_SVG\"></script><script type=\"text/javascript\">if (window.MathJax) {MathJax.Hub.Config({SVG: {font: \"STIX-Web\"}});}</script>\n",
              "                <script type=\"text/javascript\">window.PlotlyConfig = {MathJaxConfig: 'local'};</script>\n",
              "        <script src=\"https://cdn.plot.ly/plotly-latest.min.js\"></script>    \n",
              "            <div id=\"75996888-70cd-4b68-810c-a8f5eedf4e30\" class=\"plotly-graph-div\" style=\"height:525px; width:100%;\"></div>\n",
              "            <script type=\"text/javascript\">\n",
              "                \n",
              "                    window.PLOTLYENV=window.PLOTLYENV || {};\n",
              "                    \n",
              "                if (document.getElementById(\"75996888-70cd-4b68-810c-a8f5eedf4e30\")) {\n",
              "                    Plotly.newPlot(\n",
              "                        '75996888-70cd-4b68-810c-a8f5eedf4e30',\n",
              "                        [{\"coloraxis\": \"coloraxis\", \"customdata\": [[21], [39], [460], [5], [2], [99], [1], [3], [1819], [53], [9], [4925], [1067], [61], [17], [58], [154], [18], [182], [2033], [12], [10], [9], [3], [105], [1], [80], [17], [8401], [3], [19], [418], [28], [3], [2], [45], [60], [6806], [14], [7], [987], [33514], [1585], [12], [2], [234], [295], [19], [14], [92], [857], [21], [1311], [4], [1], [153], [3], [286], [2373], [59], [2], [136], [6], [30], [2], [18], [1233], [8257], [9], [5], [32], [20], [123], [12284], [201], [8], [600], [4], [2], [30], [19], [65], [13], [3], [10], [15], [73], [54], [1535], [597], [88], [4103], [1774], [1215], [71], [1288], [9], [752], [5370], [118], [20], [20146], [6], [286], [603], [2], [175], [31], [7], [176], [59], [10], [15], [21], [10], [145], [31], [45], [38], [708], [8], [15], [57], [1], [25], [2], [200], [3], [2824], [4], [8], [21], [1202], [49], [10], [43], [42], [4980], [21], [680], [42], [5], [312], [71], [6], [1604], [94], [594], [60], [173], [13], [96], [358], [550], [2024], [688], [139], [85], [306], [151], [863], [4485], [43], [56], [1], [3], [5], [3], [2], [1012], [41], [237], [61], [7], [1158], [3], [289], [269], [6], [2750], [10843], [2], [3349], [53], [3], [176], [6], [2781], [2041], [121], [2], [3564], [9], [132], [898], [38], [58], [701], [1605], [3], [2], [7], [139], [1198], [375], [11303], [151370], [285], [32], [1], [1], [635], [1465], [17], [173], [19], [6]], \"geo\": \"geo\", \"hoverlabel\": {\"namelength\": 0}, \"hovertemplate\": \"<b>%{hovertext}</b><br><br>good=%{customdata[0]}<br>geo_loc=%{location}<br>color=%{z}\", \"hovertext\": [\"Afghanistan\", \"Albania\", \"Algeria\", \"American Samoa\", \"Andorra\", \"Angola\", \"Anguilla\", \"Antigua and Barbuda\", \"Argentina\", \"Armenia\", \"Aruba\", \"Australia\", \"Austria\", \"Azerbaijan\", \"Bahamas\", \"Bahrain\", \"Bangladesh\", \"Barbados\", \"Belarus\", \"Belgium\", \"Belize\", \"Benin\", \"Bermuda\", \"Bhutan\", \"Bolivia\", \"Bonaire, Sint Eustatius, and Saba\", \"Bosnia and Herzegovina\", \"Botswana\", \"Brazil\", \"British Virgin Islands\", \"Brunei\", \"Bulgaria\", \"Burkina Faso\", \"Burundi\", \"Cabo Verde\", \"Cambodia\", \"Cameroon\", \"Canada\", \"Cayman Islands\", \"Chad\", \"Chile\", \"China\", \"Colombia\", \"Congo Republic\", \"Cook Islands\", \"Costa Rica\", \"Croatia\", \"Cuba\", \"Cura\\u00e7ao\", \"Cyprus\", \"Czechia\", \"DR Congo\", \"Denmark\", \"Djibouti\", \"Dominica\", \"Dominican Republic\", \"East Timor\", \"Ecuador\", \"Egypt\", \"El Salvador\", \"Equatorial Guinea\", \"Estonia\", \"Eswatini\", \"Ethiopia\", \"Faroe Islands\", \"Fiji\", \"Finland\", \"France\", \"French Guiana\", \"French Polynesia\", \"Gabon\", \"Gambia\", \"Georgia\", \"Germany\", \"Ghana\", \"Gibraltar\", \"Greece\", \"Greenland\", \"Grenada\", \"Guadeloupe\", \"Guam\", \"Guatemala\", \"Guernsey\", \"Guinea\", \"Guyana\", \"Haiti\", \"Hashemite Kingdom of Jordan\", \"Honduras\", \"Hong Kong\", \"Hungary\", \"Iceland\", \"India\", \"Indonesia\", \"Iran\", \"Iraq\", \"Ireland\", \"Isle of Man\", \"Israel\", \"Italy\", \"Ivory Coast\", \"Jamaica\", \"Japan\", \"Jersey\", \"Kazakhstan\", \"Kenya\", \"Kiribati\", \"Kuwait\", \"Kyrgyzstan\", \"Laos\", \"Latvia\", \"Lebanon\", \"Lesotho\", \"Liberia\", \"Libya\", \"Liechtenstein\", \"Luxembourg\", \"Macao\", \"Madagascar\", \"Malawi\", \"Malaysia\", \"Maldives\", \"Mali\", \"Malta\", \"Marshall Islands\", \"Martinique\", \"Mauritania\", \"Mauritius\", \"Mayotte\", \"Mexico\", \"Monaco\", \"Mongolia\", \"Montenegro\", \"Morocco\", \"Mozambique\", \"Myanmar\", \"Namibia\", \"Nepal\", \"Netherlands\", \"New Caledonia\", \"New Zealand\", \"Nicaragua\", \"Niger\", \"Nigeria\", \"North Macedonia\", \"Northern Mariana Islands\", \"Norway\", \"Oman\", \"Pakistan\", \"Palestine\", \"Panama\", \"Papua New Guinea\", \"Paraguay\", \"Peru\", \"Philippines\", \"Poland\", \"Portugal\", \"Puerto Rico\", \"Qatar\", \"Republic of Lithuania\", \"Republic of Moldova\", \"Romania\", \"Russia\", \"Rwanda\", \"R\\u00e9union\", \"Saint Barth\\u00e9lemy\", \"Saint Lucia\", \"Saint Martin\", \"Samoa\", \"San Marino\", \"Saudi Arabia\", \"Senegal\", \"Serbia\", \"Seychelles\", \"Sierra Leone\", \"Singapore\", \"Sint Maarten\", \"Slovakia\", \"Slovenia\", \"Somalia\", \"South Africa\", \"South Korea\", \"South Sudan\", \"Spain\", \"Sri Lanka\", \"St Kitts and Nevis\", \"Sudan\", \"Suriname\", \"Sweden\", \"Switzerland\", \"Syria\", \"S\\u00e3o Tom\\u00e9 and Pr\\u00edncipe\", \"Taiwan\", \"Tajikistan\", \"Tanzania\", \"Thailand\", \"Togo\", \"Trinidad and Tobago\", \"Tunisia\", \"Turkey\", \"Turkmenistan\", \"Tuvalu\", \"U.S. Virgin Islands\", \"Uganda\", \"Ukraine\", \"United Arab Emirates\", \"United Kingdom\", \"United States\", \"Uruguay\", \"Uzbekistan\", \"Vanuatu\", \"Vatican City\", \"Venezuela\", \"Vietnam\", \"Yemen\", \"Zambia\", \"Zimbabwe\", \"\\u00c5land\"], \"locationmode\": \"country names\", \"locations\": [\"Afghanistan\", \"Albania\", \"Algeria\", \"American Samoa\", \"Andorra\", \"Angola\", \"Anguilla\", \"Antigua and Barbuda\", \"Argentina\", \"Armenia\", \"Aruba\", \"Australia\", \"Austria\", \"Azerbaijan\", \"Bahamas\", \"Bahrain\", \"Bangladesh\", \"Barbados\", \"Belarus\", \"Belgium\", \"Belize\", \"Benin\", \"Bermuda\", \"Bhutan\", \"Bolivia\", \"Bonaire, Sint Eustatius, and Saba\", \"Bosnia and Herzegovina\", \"Botswana\", \"Brazil\", \"British Virgin Islands\", \"Brunei\", \"Bulgaria\", \"Burkina Faso\", \"Burundi\", \"Cabo Verde\", \"Cambodia\", \"Cameroon\", \"Canada\", \"Cayman Islands\", \"Chad\", \"Chile\", \"China\", \"Colombia\", \"Congo Republic\", \"Cook Islands\", \"Costa Rica\", \"Croatia\", \"Cuba\", \"Cura\\u00e7ao\", \"Cyprus\", \"Czechia\", \"DR Congo\", \"Denmark\", \"Djibouti\", \"Dominica\", \"Dominican Republic\", \"East Timor\", \"Ecuador\", \"Egypt\", \"El Salvador\", \"Equatorial Guinea\", \"Estonia\", \"Eswatini\", \"Ethiopia\", \"Faroe Islands\", \"Fiji\", \"Finland\", \"France\", \"French Guiana\", \"French Polynesia\", \"Gabon\", \"Gambia\", \"Georgia\", \"Germany\", \"Ghana\", \"Gibraltar\", \"Greece\", \"Greenland\", \"Grenada\", \"Guadeloupe\", \"Guam\", \"Guatemala\", \"Guernsey\", \"Guinea\", \"Guyana\", \"Haiti\", \"Hashemite Kingdom of Jordan\", \"Honduras\", \"Hong Kong\", \"Hungary\", \"Iceland\", \"India\", \"Indonesia\", \"Iran\", \"Iraq\", \"Ireland\", \"Isle of Man\", \"Israel\", \"Italy\", \"Ivory Coast\", \"Jamaica\", \"Japan\", \"Jersey\", \"Kazakhstan\", \"Kenya\", \"Kiribati\", \"Kuwait\", \"Kyrgyzstan\", \"Laos\", \"Latvia\", \"Lebanon\", \"Lesotho\", \"Liberia\", \"Libya\", \"Liechtenstein\", \"Luxembourg\", \"Macao\", \"Madagascar\", \"Malawi\", \"Malaysia\", \"Maldives\", \"Mali\", \"Malta\", \"Marshall Islands\", \"Martinique\", \"Mauritania\", \"Mauritius\", \"Mayotte\", \"Mexico\", \"Monaco\", \"Mongolia\", \"Montenegro\", \"Morocco\", \"Mozambique\", \"Myanmar\", \"Namibia\", \"Nepal\", \"Netherlands\", \"New Caledonia\", \"New Zealand\", \"Nicaragua\", \"Niger\", \"Nigeria\", \"North Macedonia\", \"Northern Mariana Islands\", \"Norway\", \"Oman\", \"Pakistan\", \"Palestine\", \"Panama\", \"Papua New Guinea\", \"Paraguay\", \"Peru\", \"Philippines\", \"Poland\", \"Portugal\", \"Puerto Rico\", \"Qatar\", \"Republic of Lithuania\", \"Republic of Moldova\", \"Romania\", \"Russia\", \"Rwanda\", \"R\\u00e9union\", \"Saint Barth\\u00e9lemy\", \"Saint Lucia\", \"Saint Martin\", \"Samoa\", \"San Marino\", \"Saudi Arabia\", \"Senegal\", \"Serbia\", \"Seychelles\", \"Sierra Leone\", \"Singapore\", \"Sint Maarten\", \"Slovakia\", \"Slovenia\", \"Somalia\", \"South Africa\", \"South Korea\", \"South Sudan\", \"Spain\", \"Sri Lanka\", \"St Kitts and Nevis\", \"Sudan\", \"Suriname\", \"Sweden\", \"Switzerland\", \"Syria\", \"S\\u00e3o Tom\\u00e9 and Pr\\u00edncipe\", \"Taiwan\", \"Tajikistan\", \"Tanzania\", \"Thailand\", \"Togo\", \"Trinidad and Tobago\", \"Tunisia\", \"Turkey\", \"Turkmenistan\", \"Tuvalu\", \"U.S. Virgin Islands\", \"Uganda\", \"Ukraine\", \"United Arab Emirates\", \"United Kingdom\", \"United States\", \"Uruguay\", \"Uzbekistan\", \"Vanuatu\", \"Vatican City\", \"Venezuela\", \"Vietnam\", \"Yemen\", \"Zambia\", \"Zimbabwe\", \"\\u00c5land\"], \"name\": \"\", \"type\": \"choropleth\", \"z\": [3.044522437723423, 3.6635616461296463, 6.131226489483141, 1.6094379124341003, 0.6931471805599453, 4.59511985013459, 0.0, 1.0986122886681098, 7.506042178518122, 3.970291913552122, 2.1972245773362196, 8.502079553606189, 6.9726062513017535, 4.110873864173311, 2.833213344056216, 4.060443010546419, 5.0369526024136295, 2.8903717578961645, 5.204006687076795, 7.617267813628347, 2.4849066497880004, 2.302585092994046, 2.1972245773362196, 1.0986122886681098, 4.653960350157523, 0.0, 4.382026634673881, 2.833213344056216, 9.036106025364846, 1.0986122886681098, 2.9444389791664403, 6.035481432524756, 3.332204510175204, 1.0986122886681098, 0.6931471805599453, 3.8066624897703196, 4.0943445622221, 8.82555985506085, 2.6390573296152584, 1.9459101490553132, 6.894670039433482, 10.41971854096067, 7.368339686311381, 2.4849066497880004, 0.6931471805599453, 5.455321115357702, 5.68697535633982, 2.9444389791664403, 2.6390573296152584, 4.5217885770490405, 6.75343791859778, 3.044522437723423, 7.1785454837637, 1.3862943611198906, 0.0, 5.030437921392435, 1.0986122886681098, 5.655991810819852, 7.771910256435763, 4.07753744390572, 0.6931471805599453, 4.912654885736052, 1.791759469228055, 3.4011973816621555, 0.6931471805599453, 2.8903717578961645, 7.117205503164344, 9.01881660441743, 2.1972245773362196, 1.6094379124341003, 3.4657359027997265, 2.995732273553991, 4.812184355372417, 9.416052881560713, 5.303304908059076, 2.0794415416798357, 6.396929655216146, 1.3862943611198906, 0.6931471805599453, 3.4011973816621555, 2.9444389791664403, 4.174387269895637, 2.5649493574615367, 1.0986122886681098, 2.302585092994046, 2.70805020110221, 4.290459441148391, 3.9889840465642745, 7.336285660021297, 6.391917113392602, 4.477336814478207, 8.319473692442186, 7.480992162869525, 7.102499355774649, 4.2626798770413155, 7.160845906664299, 2.1972245773362196, 6.62273632394984, 8.58858318750291, 4.770684624465665, 2.995732273553991, 9.910761036502626, 1.791759469228055, 5.655991810819852, 6.401917196727186, 0.6931471805599453, 5.1647859739235145, 3.4339872044851463, 1.9459101490553132, 5.170483995038151, 4.07753744390572, 2.302585092994046, 2.70805020110221, 3.044522437723423, 2.302585092994046, 4.976733742420574, 3.4339872044851463, 3.8066624897703196, 3.6375861597263857, 6.56244409369372, 2.0794415416798357, 2.70805020110221, 4.04305126783455, 0.0, 3.2188758248682006, 0.6931471805599453, 5.298317366548036, 1.0986122886681098, 7.945909598613133, 1.3862943611198906, 2.0794415416798357, 3.044522437723423, 7.091742115095153, 3.8918202981106265, 2.302585092994046, 3.7612001156935624, 3.7376696182833684, 8.513185170018698, 3.044522437723423, 6.522092798170152, 3.7376696182833684, 1.6094379124341003, 5.7430031878094825, 4.2626798770413155, 1.791759469228055, 7.38025578842646, 4.543294782270004, 6.386879319362645, 4.0943445622221, 5.153291594497779, 2.5649493574615367, 4.564348191467836, 5.8805329864007, 6.309918278226516, 7.6128310304073565, 6.5337888379333435, 4.9344739331306915, 4.442651256490317, 5.723585101952381, 5.017279836814924, 6.760414691083428, 8.408493774492896, 3.7612001156935624, 4.02535169073515, 0.0, 1.0986122886681098, 1.6094379124341003, 1.0986122886681098, 0.6931471805599453, 6.919683849847411, 3.713572066704308, 5.4680601411351315, 4.110873864173311, 1.9459101490553132, 7.05444965813294, 1.0986122886681098, 5.666426688112432, 5.594711379601839, 1.791759469228055, 7.919356190660617, 9.291274989472182, 0.6931471805599453, 8.116417072794205, 3.970291913552122, 1.0986122886681098, 5.170483995038151, 1.791759469228055, 7.930565854233965, 7.621195162809845, 4.795790545596741, 0.6931471805599453, 8.1786387885907, 2.1972245773362196, 4.882801922586371, 6.8001700683022, 3.6375861597263857, 4.060443010546419, 6.55250788703459, 7.380879035564116, 1.0986122886681098, 0.6931471805599453, 1.9459101490553132, 4.9344739331306915, 7.088408778675395, 5.926926025970411, 9.33282345619073, 11.92748244975661, 5.652489180268651, 3.4657359027997265, 0.0, 0.0, 6.453624998892692, 7.289610521451167, 2.833213344056216, 5.153291594497779, 2.9444389791664403, 1.791759469228055]}],\n",
              "                        {\"coloraxis\": {\"colorbar\": {\"title\": {\"text\": \"color\"}}, \"colorscale\": [[0.0, \"rgb(165,0,38)\"], [0.1, \"rgb(215,48,39)\"], [0.2, \"rgb(244,109,67)\"], [0.3, \"rgb(253,174,97)\"], [0.4, \"rgb(254,224,139)\"], [0.5, \"rgb(255,255,191)\"], [0.6, \"rgb(217,239,139)\"], [0.7, \"rgb(166,217,106)\"], [0.8, \"rgb(102,189,99)\"], [0.9, \"rgb(26,152,80)\"], [1.0, \"rgb(0,104,55)\"]], \"showscale\": false}, \"geo\": {\"center\": {}, \"domain\": {\"x\": [0.0, 1.0], \"y\": [0.0, 1.0]}}, \"legend\": {\"tracegroupgap\": 0}, \"template\": {\"data\": {\"bar\": [{\"error_x\": {\"color\": \"#2a3f5f\"}, \"error_y\": {\"color\": \"#2a3f5f\"}, \"marker\": {\"line\": {\"color\": \"#E5ECF6\", \"width\": 0.5}}, \"type\": \"bar\"}], \"barpolar\": [{\"marker\": {\"line\": {\"color\": \"#E5ECF6\", \"width\": 0.5}}, \"type\": \"barpolar\"}], \"carpet\": [{\"aaxis\": {\"endlinecolor\": \"#2a3f5f\", \"gridcolor\": \"white\", \"linecolor\": \"white\", \"minorgridcolor\": \"white\", \"startlinecolor\": \"#2a3f5f\"}, \"baxis\": {\"endlinecolor\": \"#2a3f5f\", \"gridcolor\": \"white\", \"linecolor\": \"white\", \"minorgridcolor\": \"white\", \"startlinecolor\": \"#2a3f5f\"}, \"type\": \"carpet\"}], \"choropleth\": [{\"colorbar\": {\"outlinewidth\": 0, \"ticks\": \"\"}, \"type\": \"choropleth\"}], \"contour\": [{\"colorbar\": {\"outlinewidth\": 0, \"ticks\": \"\"}, \"colorscale\": [[0.0, \"#0d0887\"], [0.1111111111111111, \"#46039f\"], [0.2222222222222222, \"#7201a8\"], [0.3333333333333333, \"#9c179e\"], [0.4444444444444444, \"#bd3786\"], [0.5555555555555556, \"#d8576b\"], [0.6666666666666666, \"#ed7953\"], [0.7777777777777778, \"#fb9f3a\"], [0.8888888888888888, \"#fdca26\"], [1.0, \"#f0f921\"]], \"type\": \"contour\"}], \"contourcarpet\": [{\"colorbar\": {\"outlinewidth\": 0, \"ticks\": \"\"}, \"type\": \"contourcarpet\"}], \"heatmap\": [{\"colorbar\": {\"outlinewidth\": 0, \"ticks\": \"\"}, \"colorscale\": [[0.0, \"#0d0887\"], [0.1111111111111111, \"#46039f\"], [0.2222222222222222, \"#7201a8\"], [0.3333333333333333, \"#9c179e\"], [0.4444444444444444, \"#bd3786\"], [0.5555555555555556, \"#d8576b\"], [0.6666666666666666, \"#ed7953\"], [0.7777777777777778, \"#fb9f3a\"], [0.8888888888888888, \"#fdca26\"], [1.0, \"#f0f921\"]], \"type\": \"heatmap\"}], \"heatmapgl\": [{\"colorbar\": {\"outlinewidth\": 0, \"ticks\": \"\"}, \"colorscale\": [[0.0, \"#0d0887\"], [0.1111111111111111, \"#46039f\"], [0.2222222222222222, \"#7201a8\"], [0.3333333333333333, \"#9c179e\"], [0.4444444444444444, \"#bd3786\"], [0.5555555555555556, \"#d8576b\"], [0.6666666666666666, \"#ed7953\"], [0.7777777777777778, \"#fb9f3a\"], [0.8888888888888888, \"#fdca26\"], [1.0, \"#f0f921\"]], \"type\": \"heatmapgl\"}], \"histogram\": [{\"marker\": {\"colorbar\": {\"outlinewidth\": 0, \"ticks\": \"\"}}, \"type\": \"histogram\"}], \"histogram2d\": [{\"colorbar\": {\"outlinewidth\": 0, \"ticks\": \"\"}, \"colorscale\": [[0.0, \"#0d0887\"], [0.1111111111111111, \"#46039f\"], [0.2222222222222222, \"#7201a8\"], [0.3333333333333333, \"#9c179e\"], [0.4444444444444444, \"#bd3786\"], [0.5555555555555556, \"#d8576b\"], [0.6666666666666666, \"#ed7953\"], [0.7777777777777778, \"#fb9f3a\"], [0.8888888888888888, \"#fdca26\"], [1.0, \"#f0f921\"]], \"type\": \"histogram2d\"}], \"histogram2dcontour\": [{\"colorbar\": {\"outlinewidth\": 0, \"ticks\": \"\"}, \"colorscale\": [[0.0, \"#0d0887\"], [0.1111111111111111, \"#46039f\"], [0.2222222222222222, \"#7201a8\"], [0.3333333333333333, \"#9c179e\"], [0.4444444444444444, \"#bd3786\"], [0.5555555555555556, \"#d8576b\"], [0.6666666666666666, \"#ed7953\"], [0.7777777777777778, \"#fb9f3a\"], [0.8888888888888888, \"#fdca26\"], [1.0, \"#f0f921\"]], \"type\": \"histogram2dcontour\"}], \"mesh3d\": [{\"colorbar\": {\"outlinewidth\": 0, \"ticks\": \"\"}, \"type\": \"mesh3d\"}], \"parcoords\": [{\"line\": {\"colorbar\": {\"outlinewidth\": 0, \"ticks\": \"\"}}, \"type\": \"parcoords\"}], \"pie\": [{\"automargin\": true, \"type\": \"pie\"}], \"scatter\": [{\"marker\": {\"colorbar\": {\"outlinewidth\": 0, \"ticks\": \"\"}}, \"type\": \"scatter\"}], \"scatter3d\": [{\"line\": {\"colorbar\": {\"outlinewidth\": 0, \"ticks\": \"\"}}, \"marker\": {\"colorbar\": {\"outlinewidth\": 0, \"ticks\": \"\"}}, \"type\": \"scatter3d\"}], \"scattercarpet\": [{\"marker\": {\"colorbar\": {\"outlinewidth\": 0, \"ticks\": \"\"}}, \"type\": \"scattercarpet\"}], \"scattergeo\": [{\"marker\": {\"colorbar\": {\"outlinewidth\": 0, \"ticks\": \"\"}}, \"type\": \"scattergeo\"}], \"scattergl\": [{\"marker\": {\"colorbar\": {\"outlinewidth\": 0, \"ticks\": \"\"}}, \"type\": \"scattergl\"}], \"scattermapbox\": [{\"marker\": {\"colorbar\": {\"outlinewidth\": 0, \"ticks\": \"\"}}, \"type\": \"scattermapbox\"}], \"scatterpolar\": [{\"marker\": {\"colorbar\": {\"outlinewidth\": 0, \"ticks\": \"\"}}, \"type\": \"scatterpolar\"}], \"scatterpolargl\": [{\"marker\": {\"colorbar\": {\"outlinewidth\": 0, \"ticks\": \"\"}}, \"type\": \"scatterpolargl\"}], \"scatterternary\": [{\"marker\": {\"colorbar\": {\"outlinewidth\": 0, \"ticks\": \"\"}}, \"type\": \"scatterternary\"}], \"surface\": [{\"colorbar\": {\"outlinewidth\": 0, \"ticks\": \"\"}, \"colorscale\": [[0.0, \"#0d0887\"], [0.1111111111111111, \"#46039f\"], [0.2222222222222222, \"#7201a8\"], [0.3333333333333333, \"#9c179e\"], [0.4444444444444444, \"#bd3786\"], [0.5555555555555556, \"#d8576b\"], [0.6666666666666666, \"#ed7953\"], [0.7777777777777778, \"#fb9f3a\"], [0.8888888888888888, \"#fdca26\"], [1.0, \"#f0f921\"]], \"type\": \"surface\"}], \"table\": [{\"cells\": {\"fill\": {\"color\": \"#EBF0F8\"}, \"line\": {\"color\": \"white\"}}, \"header\": {\"fill\": {\"color\": \"#C8D4E3\"}, \"line\": {\"color\": \"white\"}}, \"type\": \"table\"}]}, \"layout\": {\"annotationdefaults\": {\"arrowcolor\": \"#2a3f5f\", \"arrowhead\": 0, \"arrowwidth\": 1}, \"coloraxis\": {\"colorbar\": {\"outlinewidth\": 0, \"ticks\": \"\"}}, \"colorscale\": {\"diverging\": [[0, \"#8e0152\"], [0.1, \"#c51b7d\"], [0.2, \"#de77ae\"], [0.3, \"#f1b6da\"], [0.4, \"#fde0ef\"], [0.5, \"#f7f7f7\"], [0.6, \"#e6f5d0\"], [0.7, \"#b8e186\"], [0.8, \"#7fbc41\"], [0.9, \"#4d9221\"], [1, \"#276419\"]], \"sequential\": [[0.0, \"#0d0887\"], [0.1111111111111111, \"#46039f\"], [0.2222222222222222, \"#7201a8\"], [0.3333333333333333, \"#9c179e\"], [0.4444444444444444, \"#bd3786\"], [0.5555555555555556, \"#d8576b\"], [0.6666666666666666, \"#ed7953\"], [0.7777777777777778, \"#fb9f3a\"], [0.8888888888888888, \"#fdca26\"], [1.0, \"#f0f921\"]], \"sequentialminus\": [[0.0, \"#0d0887\"], [0.1111111111111111, \"#46039f\"], [0.2222222222222222, \"#7201a8\"], [0.3333333333333333, \"#9c179e\"], [0.4444444444444444, \"#bd3786\"], [0.5555555555555556, \"#d8576b\"], [0.6666666666666666, \"#ed7953\"], [0.7777777777777778, \"#fb9f3a\"], [0.8888888888888888, \"#fdca26\"], [1.0, \"#f0f921\"]]}, \"colorway\": [\"#636efa\", \"#EF553B\", \"#00cc96\", \"#ab63fa\", \"#FFA15A\", \"#19d3f3\", \"#FF6692\", \"#B6E880\", \"#FF97FF\", \"#FECB52\"], \"font\": {\"color\": \"#2a3f5f\"}, \"geo\": {\"bgcolor\": \"white\", \"lakecolor\": \"white\", \"landcolor\": \"#E5ECF6\", \"showlakes\": true, \"showland\": true, \"subunitcolor\": \"white\"}, \"hoverlabel\": {\"align\": \"left\"}, \"hovermode\": \"closest\", \"mapbox\": {\"style\": \"light\"}, \"paper_bgcolor\": \"white\", \"plot_bgcolor\": \"#E5ECF6\", \"polar\": {\"angularaxis\": {\"gridcolor\": \"white\", \"linecolor\": \"white\", \"ticks\": \"\"}, \"bgcolor\": \"#E5ECF6\", \"radialaxis\": {\"gridcolor\": \"white\", \"linecolor\": \"white\", \"ticks\": \"\"}}, \"scene\": {\"xaxis\": {\"backgroundcolor\": \"#E5ECF6\", \"gridcolor\": \"white\", \"gridwidth\": 2, \"linecolor\": \"white\", \"showbackground\": true, \"ticks\": \"\", \"zerolinecolor\": \"white\"}, \"yaxis\": {\"backgroundcolor\": \"#E5ECF6\", \"gridcolor\": \"white\", \"gridwidth\": 2, \"linecolor\": \"white\", \"showbackground\": true, \"ticks\": \"\", \"zerolinecolor\": \"white\"}, \"zaxis\": {\"backgroundcolor\": \"#E5ECF6\", \"gridcolor\": \"white\", \"gridwidth\": 2, \"linecolor\": \"white\", \"showbackground\": true, \"ticks\": \"\", \"zerolinecolor\": \"white\"}}, \"shapedefaults\": {\"line\": {\"color\": \"#2a3f5f\"}}, \"ternary\": {\"aaxis\": {\"gridcolor\": \"white\", \"linecolor\": \"white\", \"ticks\": \"\"}, \"baxis\": {\"gridcolor\": \"white\", \"linecolor\": \"white\", \"ticks\": \"\"}, \"bgcolor\": \"#E5ECF6\", \"caxis\": {\"gridcolor\": \"white\", \"linecolor\": \"white\", \"ticks\": \"\"}}, \"title\": {\"x\": 0.05}, \"xaxis\": {\"automargin\": true, \"gridcolor\": \"white\", \"linecolor\": \"white\", \"ticks\": \"\", \"title\": {\"standoff\": 15}, \"zerolinecolor\": \"white\", \"zerolinewidth\": 2}, \"yaxis\": {\"automargin\": true, \"gridcolor\": \"white\", \"linecolor\": \"white\", \"ticks\": \"\", \"title\": {\"standoff\": 15}, \"zerolinecolor\": \"white\", \"zerolinewidth\": 2}}}, \"title\": {\"text\": \"Countries with good websites\"}},\n",
              "                        {\"responsive\": true}\n",
              "                    ).then(function(){\n",
              "                            \n",
              "var gd = document.getElementById('75996888-70cd-4b68-810c-a8f5eedf4e30');\n",
              "var x = new MutationObserver(function (mutations, observer) {{\n",
              "        var display = window.getComputedStyle(gd).display;\n",
              "        if (!display || display === 'none') {{\n",
              "            console.log([gd, 'removed!']);\n",
              "            Plotly.purge(gd);\n",
              "            observer.disconnect();\n",
              "        }}\n",
              "}});\n",
              "\n",
              "// Listen for the removal of the full notebook cells\n",
              "var notebookContainer = gd.closest('#notebook-container');\n",
              "if (notebookContainer) {{\n",
              "    x.observe(notebookContainer, {childList: true});\n",
              "}}\n",
              "\n",
              "// Listen for the clearing of the current output cell\n",
              "var outputEl = gd.closest('.output');\n",
              "if (outputEl) {{\n",
              "    x.observe(outputEl, {childList: true});\n",
              "}}\n",
              "\n",
              "                        })\n",
              "                };\n",
              "                \n",
              "            </script>\n",
              "        </div>\n",
              "</body>\n",
              "</html>"
            ]
          },
          "metadata": {}
        }
      ]
    },
    {
      "cell_type": "code",
      "metadata": {
        "colab": {
          "base_uri": "https://localhost:8080/",
          "height": 611
        },
        "id": "p0jjxp6ZjYkK",
        "outputId": "fa69f552-b913-487a-843f-90f92b72c793"
      },
      "source": [
        "fig = px.choropleth(dic, locations=\"geo_loc\", \n",
        "                    locationmode='country names', color=np.log(dic['bad']), \n",
        "                    hover_name=\"geo_loc\", hover_data=['bad'],\n",
        "                    color_continuous_scale=\"rdylgn_r\", \n",
        "                    title='Countries with bad websites')\n",
        "#fig.update(layout_coloraxis_showscale=False)\n",
        "fig.show()"
      ],
      "execution_count": null,
      "outputs": [
        {
          "output_type": "stream",
          "name": "stderr",
          "text": [
            "/usr/local/lib/python3.7/dist-packages/pandas/core/series.py:726: RuntimeWarning:\n",
            "\n",
            "divide by zero encountered in log\n",
            "\n"
          ]
        },
        {
          "output_type": "display_data",
          "data": {
            "text/html": [
              "<html>\n",
              "<head><meta charset=\"utf-8\" /></head>\n",
              "<body>\n",
              "    <div>\n",
              "            <script src=\"https://cdnjs.cloudflare.com/ajax/libs/mathjax/2.7.5/MathJax.js?config=TeX-AMS-MML_SVG\"></script><script type=\"text/javascript\">if (window.MathJax) {MathJax.Hub.Config({SVG: {font: \"STIX-Web\"}});}</script>\n",
              "                <script type=\"text/javascript\">window.PlotlyConfig = {MathJaxConfig: 'local'};</script>\n",
              "        <script src=\"https://cdn.plot.ly/plotly-latest.min.js\"></script>    \n",
              "            <div id=\"f004fc1c-d595-4220-baba-e1bca42c8a53\" class=\"plotly-graph-div\" style=\"height:525px; width:100%;\"></div>\n",
              "            <script type=\"text/javascript\">\n",
              "                \n",
              "                    window.PLOTLYENV=window.PLOTLYENV || {};\n",
              "                    \n",
              "                if (document.getElementById(\"f004fc1c-d595-4220-baba-e1bca42c8a53\")) {\n",
              "                    Plotly.newPlot(\n",
              "                        'f004fc1c-d595-4220-baba-e1bca42c8a53',\n",
              "                        [{\"coloraxis\": \"coloraxis\", \"customdata\": [[2], [1], [8], [0], [1], [3], [0], [0], [39], [1], [0], [95], [33], [2], [1], [0], [3], [0], [5], [34], [1], [0], [1], [0], [3], [0], [2], [1], [170], [0], [2], [9], [1], [0], [0], [3], [3], [150], [1], [0], [18], [752], [35], [0], [0], [4], [7], [1], [0], [3], [15], [1], [30], [1], [0], [2], [0], [6], [51], [3], [0], [0], [0], [0], [0], [1], [25], [180], [0], [0], [2], [2], [2], [269], [5], [0], [9], [0], [0], [0], [0], [1], [0], [0], [0], [0], [2], [2], [37], [21], [2], [106], [35], [30], [2], [29], [2], [27], [114], [5], [0], [490], [0], [9], [18], [0], [2], [0], [0], [5], [0], [0], [0], [0], [0], [1], [1], [3], [2], [12], [1], [0], [1], [0], [1], [0], [4], [0], [59], [0], [1], [1], [36], [2], [2], [2], [1], [122], [0], [16], [1], [0], [7], [3], [0], [36], [3], [16], [2], [4], [0], [1], [7], [10], [49], [22], [3], [1], [7], [2], [20], [108], [1], [1], [0], [0], [0], [0], [0], [20], [3], [2], [1], [1], [29], [0], [9], [8], [0], [63], [227], [0], [75], [0], [0], [4], [1], [54], [56], [4], [0], [70], [0], [3], [24], [1], [0], [23], [44], [0], [0], [0], [3], [25], [11], [271], [3461], [3], [0], [0], [0], [20], [32], [1], [3], [0], [0]], \"geo\": \"geo\", \"hoverlabel\": {\"namelength\": 0}, \"hovertemplate\": \"<b>%{hovertext}</b><br><br>bad=%{customdata[0]}<br>geo_loc=%{location}<br>color=%{z}\", \"hovertext\": [\"Afghanistan\", \"Albania\", \"Algeria\", \"American Samoa\", \"Andorra\", \"Angola\", \"Anguilla\", \"Antigua and Barbuda\", \"Argentina\", \"Armenia\", \"Aruba\", \"Australia\", \"Austria\", \"Azerbaijan\", \"Bahamas\", \"Bahrain\", \"Bangladesh\", \"Barbados\", \"Belarus\", \"Belgium\", \"Belize\", \"Benin\", \"Bermuda\", \"Bhutan\", \"Bolivia\", \"Bonaire, Sint Eustatius, and Saba\", \"Bosnia and Herzegovina\", \"Botswana\", \"Brazil\", \"British Virgin Islands\", \"Brunei\", \"Bulgaria\", \"Burkina Faso\", \"Burundi\", \"Cabo Verde\", \"Cambodia\", \"Cameroon\", \"Canada\", \"Cayman Islands\", \"Chad\", \"Chile\", \"China\", \"Colombia\", \"Congo Republic\", \"Cook Islands\", \"Costa Rica\", \"Croatia\", \"Cuba\", \"Cura\\u00e7ao\", \"Cyprus\", \"Czechia\", \"DR Congo\", \"Denmark\", \"Djibouti\", \"Dominica\", \"Dominican Republic\", \"East Timor\", \"Ecuador\", \"Egypt\", \"El Salvador\", \"Equatorial Guinea\", \"Estonia\", \"Eswatini\", \"Ethiopia\", \"Faroe Islands\", \"Fiji\", \"Finland\", \"France\", \"French Guiana\", \"French Polynesia\", \"Gabon\", \"Gambia\", \"Georgia\", \"Germany\", \"Ghana\", \"Gibraltar\", \"Greece\", \"Greenland\", \"Grenada\", \"Guadeloupe\", \"Guam\", \"Guatemala\", \"Guernsey\", \"Guinea\", \"Guyana\", \"Haiti\", \"Hashemite Kingdom of Jordan\", \"Honduras\", \"Hong Kong\", \"Hungary\", \"Iceland\", \"India\", \"Indonesia\", \"Iran\", \"Iraq\", \"Ireland\", \"Isle of Man\", \"Israel\", \"Italy\", \"Ivory Coast\", \"Jamaica\", \"Japan\", \"Jersey\", \"Kazakhstan\", \"Kenya\", \"Kiribati\", \"Kuwait\", \"Kyrgyzstan\", \"Laos\", \"Latvia\", \"Lebanon\", \"Lesotho\", \"Liberia\", \"Libya\", \"Liechtenstein\", \"Luxembourg\", \"Macao\", \"Madagascar\", \"Malawi\", \"Malaysia\", \"Maldives\", \"Mali\", \"Malta\", \"Marshall Islands\", \"Martinique\", \"Mauritania\", \"Mauritius\", \"Mayotte\", \"Mexico\", \"Monaco\", \"Mongolia\", \"Montenegro\", \"Morocco\", \"Mozambique\", \"Myanmar\", \"Namibia\", \"Nepal\", \"Netherlands\", \"New Caledonia\", \"New Zealand\", \"Nicaragua\", \"Niger\", \"Nigeria\", \"North Macedonia\", \"Northern Mariana Islands\", \"Norway\", \"Oman\", \"Pakistan\", \"Palestine\", \"Panama\", \"Papua New Guinea\", \"Paraguay\", \"Peru\", \"Philippines\", \"Poland\", \"Portugal\", \"Puerto Rico\", \"Qatar\", \"Republic of Lithuania\", \"Republic of Moldova\", \"Romania\", \"Russia\", \"Rwanda\", \"R\\u00e9union\", \"Saint Barth\\u00e9lemy\", \"Saint Lucia\", \"Saint Martin\", \"Samoa\", \"San Marino\", \"Saudi Arabia\", \"Senegal\", \"Serbia\", \"Seychelles\", \"Sierra Leone\", \"Singapore\", \"Sint Maarten\", \"Slovakia\", \"Slovenia\", \"Somalia\", \"South Africa\", \"South Korea\", \"South Sudan\", \"Spain\", \"Sri Lanka\", \"St Kitts and Nevis\", \"Sudan\", \"Suriname\", \"Sweden\", \"Switzerland\", \"Syria\", \"S\\u00e3o Tom\\u00e9 and Pr\\u00edncipe\", \"Taiwan\", \"Tajikistan\", \"Tanzania\", \"Thailand\", \"Togo\", \"Trinidad and Tobago\", \"Tunisia\", \"Turkey\", \"Turkmenistan\", \"Tuvalu\", \"U.S. Virgin Islands\", \"Uganda\", \"Ukraine\", \"United Arab Emirates\", \"United Kingdom\", \"United States\", \"Uruguay\", \"Uzbekistan\", \"Vanuatu\", \"Vatican City\", \"Venezuela\", \"Vietnam\", \"Yemen\", \"Zambia\", \"Zimbabwe\", \"\\u00c5land\"], \"locationmode\": \"country names\", \"locations\": [\"Afghanistan\", \"Albania\", \"Algeria\", \"American Samoa\", \"Andorra\", \"Angola\", \"Anguilla\", \"Antigua and Barbuda\", \"Argentina\", \"Armenia\", \"Aruba\", \"Australia\", \"Austria\", \"Azerbaijan\", \"Bahamas\", \"Bahrain\", \"Bangladesh\", \"Barbados\", \"Belarus\", \"Belgium\", \"Belize\", \"Benin\", \"Bermuda\", \"Bhutan\", \"Bolivia\", \"Bonaire, Sint Eustatius, and Saba\", \"Bosnia and Herzegovina\", \"Botswana\", \"Brazil\", \"British Virgin Islands\", \"Brunei\", \"Bulgaria\", \"Burkina Faso\", \"Burundi\", \"Cabo Verde\", \"Cambodia\", \"Cameroon\", \"Canada\", \"Cayman Islands\", \"Chad\", \"Chile\", \"China\", \"Colombia\", \"Congo Republic\", \"Cook Islands\", \"Costa Rica\", \"Croatia\", \"Cuba\", \"Cura\\u00e7ao\", \"Cyprus\", \"Czechia\", \"DR Congo\", \"Denmark\", \"Djibouti\", \"Dominica\", \"Dominican Republic\", \"East Timor\", \"Ecuador\", \"Egypt\", \"El Salvador\", \"Equatorial Guinea\", \"Estonia\", \"Eswatini\", \"Ethiopia\", \"Faroe Islands\", \"Fiji\", \"Finland\", \"France\", \"French Guiana\", \"French Polynesia\", \"Gabon\", \"Gambia\", \"Georgia\", \"Germany\", \"Ghana\", \"Gibraltar\", \"Greece\", \"Greenland\", \"Grenada\", \"Guadeloupe\", \"Guam\", \"Guatemala\", \"Guernsey\", \"Guinea\", \"Guyana\", \"Haiti\", \"Hashemite Kingdom of Jordan\", \"Honduras\", \"Hong Kong\", \"Hungary\", \"Iceland\", \"India\", \"Indonesia\", \"Iran\", \"Iraq\", \"Ireland\", \"Isle of Man\", \"Israel\", \"Italy\", \"Ivory Coast\", \"Jamaica\", \"Japan\", \"Jersey\", \"Kazakhstan\", \"Kenya\", \"Kiribati\", \"Kuwait\", \"Kyrgyzstan\", \"Laos\", \"Latvia\", \"Lebanon\", \"Lesotho\", \"Liberia\", \"Libya\", \"Liechtenstein\", \"Luxembourg\", \"Macao\", \"Madagascar\", \"Malawi\", \"Malaysia\", \"Maldives\", \"Mali\", \"Malta\", \"Marshall Islands\", \"Martinique\", \"Mauritania\", \"Mauritius\", \"Mayotte\", \"Mexico\", \"Monaco\", \"Mongolia\", \"Montenegro\", \"Morocco\", \"Mozambique\", \"Myanmar\", \"Namibia\", \"Nepal\", \"Netherlands\", \"New Caledonia\", \"New Zealand\", \"Nicaragua\", \"Niger\", \"Nigeria\", \"North Macedonia\", \"Northern Mariana Islands\", \"Norway\", \"Oman\", \"Pakistan\", \"Palestine\", \"Panama\", \"Papua New Guinea\", \"Paraguay\", \"Peru\", \"Philippines\", \"Poland\", \"Portugal\", \"Puerto Rico\", \"Qatar\", \"Republic of Lithuania\", \"Republic of Moldova\", \"Romania\", \"Russia\", \"Rwanda\", \"R\\u00e9union\", \"Saint Barth\\u00e9lemy\", \"Saint Lucia\", \"Saint Martin\", \"Samoa\", \"San Marino\", \"Saudi Arabia\", \"Senegal\", \"Serbia\", \"Seychelles\", \"Sierra Leone\", \"Singapore\", \"Sint Maarten\", \"Slovakia\", \"Slovenia\", \"Somalia\", \"South Africa\", \"South Korea\", \"South Sudan\", \"Spain\", \"Sri Lanka\", \"St Kitts and Nevis\", \"Sudan\", \"Suriname\", \"Sweden\", \"Switzerland\", \"Syria\", \"S\\u00e3o Tom\\u00e9 and Pr\\u00edncipe\", \"Taiwan\", \"Tajikistan\", \"Tanzania\", \"Thailand\", \"Togo\", \"Trinidad and Tobago\", \"Tunisia\", \"Turkey\", \"Turkmenistan\", \"Tuvalu\", \"U.S. Virgin Islands\", \"Uganda\", \"Ukraine\", \"United Arab Emirates\", \"United Kingdom\", \"United States\", \"Uruguay\", \"Uzbekistan\", \"Vanuatu\", \"Vatican City\", \"Venezuela\", \"Vietnam\", \"Yemen\", \"Zambia\", \"Zimbabwe\", \"\\u00c5land\"], \"name\": \"\", \"type\": \"choropleth\", \"z\": [0.6931471805599453, 0.0, 2.0794415416798357, null, 0.0, 1.0986122886681098, null, null, 3.6635616461296463, 0.0, null, 4.553876891600541, 3.4965075614664802, 0.6931471805599453, 0.0, null, 1.0986122886681098, null, 1.6094379124341003, 3.5263605246161616, 0.0, null, 0.0, null, 1.0986122886681098, null, 0.6931471805599453, 0.0, 5.135798437050262, null, 0.6931471805599453, 2.1972245773362196, 0.0, null, null, 1.0986122886681098, 1.0986122886681098, 5.0106352940962555, 0.0, null, 2.8903717578961645, 6.62273632394984, 3.5553480614894135, null, null, 1.3862943611198906, 1.9459101490553132, 0.0, null, 1.0986122886681098, 2.70805020110221, 0.0, 3.4011973816621555, 0.0, null, 0.6931471805599453, null, 1.791759469228055, 3.9318256327243257, 1.0986122886681098, null, null, null, null, null, 0.0, 3.2188758248682006, 5.19295685089021, null, null, 0.6931471805599453, 0.6931471805599453, 0.6931471805599453, 5.594711379601839, 1.6094379124341003, null, 2.1972245773362196, null, null, null, null, 0.0, null, null, null, null, 0.6931471805599453, 0.6931471805599453, 3.6109179126442243, 3.044522437723423, 0.6931471805599453, 4.663439094112067, 3.5553480614894135, 3.4011973816621555, 0.6931471805599453, 3.367295829986474, 0.6931471805599453, 3.295836866004329, 4.736198448394496, 1.6094379124341003, null, 6.194405391104672, null, 2.1972245773362196, 2.8903717578961645, null, 0.6931471805599453, null, null, 1.6094379124341003, null, null, null, null, null, 0.0, 0.0, 1.0986122886681098, 0.6931471805599453, 2.4849066497880004, 0.0, null, 0.0, null, 0.0, null, 1.3862943611198906, null, 4.07753744390572, null, 0.0, 0.0, 3.58351893845611, 0.6931471805599453, 0.6931471805599453, 0.6931471805599453, 0.0, 4.804021044733257, null, 2.772588722239781, 0.0, null, 1.9459101490553132, 1.0986122886681098, null, 3.58351893845611, 1.0986122886681098, 2.772588722239781, 0.6931471805599453, 1.3862943611198906, null, 0.0, 1.9459101490553132, 2.302585092994046, 3.8918202981106265, 3.091042453358316, 1.0986122886681098, 0.0, 1.9459101490553132, 0.6931471805599453, 2.995732273553991, 4.68213122712422, 0.0, 0.0, null, null, null, null, null, 2.995732273553991, 1.0986122886681098, 0.6931471805599453, 0.0, 0.0, 3.367295829986474, null, 2.1972245773362196, 2.0794415416798357, null, 4.143134726391533, 5.424950017481403, null, 4.31748811353631, null, null, 1.3862943611198906, 0.0, 3.9889840465642745, 4.02535169073515, 1.3862943611198906, null, 4.248495242049359, null, 1.0986122886681098, 3.1780538303479458, 0.0, null, 3.1354942159291497, 3.784189633918261, null, null, null, 1.0986122886681098, 3.2188758248682006, 2.3978952727983707, 5.602118820879701, 8.149312843635345, 1.0986122886681098, null, null, null, 2.995732273553991, 3.4657359027997265, 0.0, 1.0986122886681098, null, null]}],\n",
              "                        {\"coloraxis\": {\"colorbar\": {\"title\": {\"text\": \"color\"}}, \"colorscale\": [[0.0, \"rgb(0,104,55)\"], [0.1, \"rgb(26,152,80)\"], [0.2, \"rgb(102,189,99)\"], [0.3, \"rgb(166,217,106)\"], [0.4, \"rgb(217,239,139)\"], [0.5, \"rgb(255,255,191)\"], [0.6, \"rgb(254,224,139)\"], [0.7, \"rgb(253,174,97)\"], [0.8, \"rgb(244,109,67)\"], [0.9, \"rgb(215,48,39)\"], [1.0, \"rgb(165,0,38)\"]]}, \"geo\": {\"center\": {}, \"domain\": {\"x\": [0.0, 1.0], \"y\": [0.0, 1.0]}}, \"legend\": {\"tracegroupgap\": 0}, \"template\": {\"data\": {\"bar\": [{\"error_x\": {\"color\": \"#2a3f5f\"}, \"error_y\": {\"color\": \"#2a3f5f\"}, \"marker\": {\"line\": {\"color\": \"#E5ECF6\", \"width\": 0.5}}, \"type\": \"bar\"}], \"barpolar\": [{\"marker\": {\"line\": {\"color\": \"#E5ECF6\", \"width\": 0.5}}, \"type\": \"barpolar\"}], \"carpet\": [{\"aaxis\": {\"endlinecolor\": \"#2a3f5f\", \"gridcolor\": \"white\", \"linecolor\": \"white\", \"minorgridcolor\": \"white\", \"startlinecolor\": \"#2a3f5f\"}, \"baxis\": {\"endlinecolor\": \"#2a3f5f\", \"gridcolor\": \"white\", \"linecolor\": \"white\", \"minorgridcolor\": \"white\", \"startlinecolor\": \"#2a3f5f\"}, \"type\": \"carpet\"}], \"choropleth\": [{\"colorbar\": {\"outlinewidth\": 0, \"ticks\": \"\"}, \"type\": \"choropleth\"}], \"contour\": [{\"colorbar\": {\"outlinewidth\": 0, \"ticks\": \"\"}, \"colorscale\": [[0.0, \"#0d0887\"], [0.1111111111111111, \"#46039f\"], [0.2222222222222222, \"#7201a8\"], [0.3333333333333333, \"#9c179e\"], [0.4444444444444444, \"#bd3786\"], [0.5555555555555556, \"#d8576b\"], [0.6666666666666666, \"#ed7953\"], [0.7777777777777778, \"#fb9f3a\"], [0.8888888888888888, \"#fdca26\"], [1.0, \"#f0f921\"]], \"type\": \"contour\"}], \"contourcarpet\": [{\"colorbar\": {\"outlinewidth\": 0, \"ticks\": \"\"}, \"type\": \"contourcarpet\"}], \"heatmap\": [{\"colorbar\": {\"outlinewidth\": 0, \"ticks\": \"\"}, \"colorscale\": [[0.0, \"#0d0887\"], [0.1111111111111111, \"#46039f\"], [0.2222222222222222, \"#7201a8\"], [0.3333333333333333, \"#9c179e\"], [0.4444444444444444, \"#bd3786\"], [0.5555555555555556, \"#d8576b\"], [0.6666666666666666, \"#ed7953\"], [0.7777777777777778, \"#fb9f3a\"], [0.8888888888888888, \"#fdca26\"], [1.0, \"#f0f921\"]], \"type\": \"heatmap\"}], \"heatmapgl\": [{\"colorbar\": {\"outlinewidth\": 0, \"ticks\": \"\"}, \"colorscale\": [[0.0, \"#0d0887\"], [0.1111111111111111, \"#46039f\"], [0.2222222222222222, \"#7201a8\"], [0.3333333333333333, \"#9c179e\"], [0.4444444444444444, \"#bd3786\"], [0.5555555555555556, \"#d8576b\"], [0.6666666666666666, \"#ed7953\"], [0.7777777777777778, \"#fb9f3a\"], [0.8888888888888888, \"#fdca26\"], [1.0, \"#f0f921\"]], \"type\": \"heatmapgl\"}], \"histogram\": [{\"marker\": {\"colorbar\": {\"outlinewidth\": 0, \"ticks\": \"\"}}, \"type\": \"histogram\"}], \"histogram2d\": [{\"colorbar\": {\"outlinewidth\": 0, \"ticks\": \"\"}, \"colorscale\": [[0.0, \"#0d0887\"], [0.1111111111111111, \"#46039f\"], [0.2222222222222222, \"#7201a8\"], [0.3333333333333333, \"#9c179e\"], [0.4444444444444444, \"#bd3786\"], [0.5555555555555556, \"#d8576b\"], [0.6666666666666666, \"#ed7953\"], [0.7777777777777778, \"#fb9f3a\"], [0.8888888888888888, \"#fdca26\"], [1.0, \"#f0f921\"]], \"type\": \"histogram2d\"}], \"histogram2dcontour\": [{\"colorbar\": {\"outlinewidth\": 0, \"ticks\": \"\"}, \"colorscale\": [[0.0, \"#0d0887\"], [0.1111111111111111, \"#46039f\"], [0.2222222222222222, \"#7201a8\"], [0.3333333333333333, \"#9c179e\"], [0.4444444444444444, \"#bd3786\"], [0.5555555555555556, \"#d8576b\"], [0.6666666666666666, \"#ed7953\"], [0.7777777777777778, \"#fb9f3a\"], [0.8888888888888888, \"#fdca26\"], [1.0, \"#f0f921\"]], \"type\": \"histogram2dcontour\"}], \"mesh3d\": [{\"colorbar\": {\"outlinewidth\": 0, \"ticks\": \"\"}, \"type\": \"mesh3d\"}], \"parcoords\": [{\"line\": {\"colorbar\": {\"outlinewidth\": 0, \"ticks\": \"\"}}, \"type\": \"parcoords\"}], \"pie\": [{\"automargin\": true, \"type\": \"pie\"}], \"scatter\": [{\"marker\": {\"colorbar\": {\"outlinewidth\": 0, \"ticks\": \"\"}}, \"type\": \"scatter\"}], \"scatter3d\": [{\"line\": {\"colorbar\": {\"outlinewidth\": 0, \"ticks\": \"\"}}, \"marker\": {\"colorbar\": {\"outlinewidth\": 0, \"ticks\": \"\"}}, \"type\": \"scatter3d\"}], \"scattercarpet\": [{\"marker\": {\"colorbar\": {\"outlinewidth\": 0, \"ticks\": \"\"}}, \"type\": \"scattercarpet\"}], \"scattergeo\": [{\"marker\": {\"colorbar\": {\"outlinewidth\": 0, \"ticks\": \"\"}}, \"type\": \"scattergeo\"}], \"scattergl\": [{\"marker\": {\"colorbar\": {\"outlinewidth\": 0, \"ticks\": \"\"}}, \"type\": \"scattergl\"}], \"scattermapbox\": [{\"marker\": {\"colorbar\": {\"outlinewidth\": 0, \"ticks\": \"\"}}, \"type\": \"scattermapbox\"}], \"scatterpolar\": [{\"marker\": {\"colorbar\": {\"outlinewidth\": 0, \"ticks\": \"\"}}, \"type\": \"scatterpolar\"}], \"scatterpolargl\": [{\"marker\": {\"colorbar\": {\"outlinewidth\": 0, \"ticks\": \"\"}}, \"type\": \"scatterpolargl\"}], \"scatterternary\": [{\"marker\": {\"colorbar\": {\"outlinewidth\": 0, \"ticks\": \"\"}}, \"type\": \"scatterternary\"}], \"surface\": [{\"colorbar\": {\"outlinewidth\": 0, \"ticks\": \"\"}, \"colorscale\": [[0.0, \"#0d0887\"], [0.1111111111111111, \"#46039f\"], [0.2222222222222222, \"#7201a8\"], [0.3333333333333333, \"#9c179e\"], [0.4444444444444444, \"#bd3786\"], [0.5555555555555556, \"#d8576b\"], [0.6666666666666666, \"#ed7953\"], [0.7777777777777778, \"#fb9f3a\"], [0.8888888888888888, \"#fdca26\"], [1.0, \"#f0f921\"]], \"type\": \"surface\"}], \"table\": [{\"cells\": {\"fill\": {\"color\": \"#EBF0F8\"}, \"line\": {\"color\": \"white\"}}, \"header\": {\"fill\": {\"color\": \"#C8D4E3\"}, \"line\": {\"color\": \"white\"}}, \"type\": \"table\"}]}, \"layout\": {\"annotationdefaults\": {\"arrowcolor\": \"#2a3f5f\", \"arrowhead\": 0, \"arrowwidth\": 1}, \"coloraxis\": {\"colorbar\": {\"outlinewidth\": 0, \"ticks\": \"\"}}, \"colorscale\": {\"diverging\": [[0, \"#8e0152\"], [0.1, \"#c51b7d\"], [0.2, \"#de77ae\"], [0.3, \"#f1b6da\"], [0.4, \"#fde0ef\"], [0.5, \"#f7f7f7\"], [0.6, \"#e6f5d0\"], [0.7, \"#b8e186\"], [0.8, \"#7fbc41\"], [0.9, \"#4d9221\"], [1, \"#276419\"]], \"sequential\": [[0.0, \"#0d0887\"], [0.1111111111111111, \"#46039f\"], [0.2222222222222222, \"#7201a8\"], [0.3333333333333333, \"#9c179e\"], [0.4444444444444444, \"#bd3786\"], [0.5555555555555556, \"#d8576b\"], [0.6666666666666666, \"#ed7953\"], [0.7777777777777778, \"#fb9f3a\"], [0.8888888888888888, \"#fdca26\"], [1.0, \"#f0f921\"]], \"sequentialminus\": [[0.0, \"#0d0887\"], [0.1111111111111111, \"#46039f\"], [0.2222222222222222, \"#7201a8\"], [0.3333333333333333, \"#9c179e\"], [0.4444444444444444, \"#bd3786\"], [0.5555555555555556, \"#d8576b\"], [0.6666666666666666, \"#ed7953\"], [0.7777777777777778, \"#fb9f3a\"], [0.8888888888888888, \"#fdca26\"], [1.0, \"#f0f921\"]]}, \"colorway\": [\"#636efa\", \"#EF553B\", \"#00cc96\", \"#ab63fa\", \"#FFA15A\", \"#19d3f3\", \"#FF6692\", \"#B6E880\", \"#FF97FF\", \"#FECB52\"], \"font\": {\"color\": \"#2a3f5f\"}, \"geo\": {\"bgcolor\": \"white\", \"lakecolor\": \"white\", \"landcolor\": \"#E5ECF6\", \"showlakes\": true, \"showland\": true, \"subunitcolor\": \"white\"}, \"hoverlabel\": {\"align\": \"left\"}, \"hovermode\": \"closest\", \"mapbox\": {\"style\": \"light\"}, \"paper_bgcolor\": \"white\", \"plot_bgcolor\": \"#E5ECF6\", \"polar\": {\"angularaxis\": {\"gridcolor\": \"white\", \"linecolor\": \"white\", \"ticks\": \"\"}, \"bgcolor\": \"#E5ECF6\", \"radialaxis\": {\"gridcolor\": \"white\", \"linecolor\": \"white\", \"ticks\": \"\"}}, \"scene\": {\"xaxis\": {\"backgroundcolor\": \"#E5ECF6\", \"gridcolor\": \"white\", \"gridwidth\": 2, \"linecolor\": \"white\", \"showbackground\": true, \"ticks\": \"\", \"zerolinecolor\": \"white\"}, \"yaxis\": {\"backgroundcolor\": \"#E5ECF6\", \"gridcolor\": \"white\", \"gridwidth\": 2, \"linecolor\": \"white\", \"showbackground\": true, \"ticks\": \"\", \"zerolinecolor\": \"white\"}, \"zaxis\": {\"backgroundcolor\": \"#E5ECF6\", \"gridcolor\": \"white\", \"gridwidth\": 2, \"linecolor\": \"white\", \"showbackground\": true, \"ticks\": \"\", \"zerolinecolor\": \"white\"}}, \"shapedefaults\": {\"line\": {\"color\": \"#2a3f5f\"}}, \"ternary\": {\"aaxis\": {\"gridcolor\": \"white\", \"linecolor\": \"white\", \"ticks\": \"\"}, \"baxis\": {\"gridcolor\": \"white\", \"linecolor\": \"white\", \"ticks\": \"\"}, \"bgcolor\": \"#E5ECF6\", \"caxis\": {\"gridcolor\": \"white\", \"linecolor\": \"white\", \"ticks\": \"\"}}, \"title\": {\"x\": 0.05}, \"xaxis\": {\"automargin\": true, \"gridcolor\": \"white\", \"linecolor\": \"white\", \"ticks\": \"\", \"title\": {\"standoff\": 15}, \"zerolinecolor\": \"white\", \"zerolinewidth\": 2}, \"yaxis\": {\"automargin\": true, \"gridcolor\": \"white\", \"linecolor\": \"white\", \"ticks\": \"\", \"title\": {\"standoff\": 15}, \"zerolinecolor\": \"white\", \"zerolinewidth\": 2}}}, \"title\": {\"text\": \"Countries with bad websites\"}},\n",
              "                        {\"responsive\": true}\n",
              "                    ).then(function(){\n",
              "                            \n",
              "var gd = document.getElementById('f004fc1c-d595-4220-baba-e1bca42c8a53');\n",
              "var x = new MutationObserver(function (mutations, observer) {{\n",
              "        var display = window.getComputedStyle(gd).display;\n",
              "        if (!display || display === 'none') {{\n",
              "            console.log([gd, 'removed!']);\n",
              "            Plotly.purge(gd);\n",
              "            observer.disconnect();\n",
              "        }}\n",
              "}});\n",
              "\n",
              "// Listen for the removal of the full notebook cells\n",
              "var notebookContainer = gd.closest('#notebook-container');\n",
              "if (notebookContainer) {{\n",
              "    x.observe(notebookContainer, {childList: true});\n",
              "}}\n",
              "\n",
              "// Listen for the clearing of the current output cell\n",
              "var outputEl = gd.closest('.output');\n",
              "if (outputEl) {{\n",
              "    x.observe(outputEl, {childList: true});\n",
              "}}\n",
              "\n",
              "                        })\n",
              "                };\n",
              "                \n",
              "            </script>\n",
              "        </div>\n",
              "</body>\n",
              "</html>"
            ]
          },
          "metadata": {}
        }
      ]
    },
    {
      "cell_type": "code",
      "metadata": {
        "colab": {
          "base_uri": "https://localhost:8080/",
          "height": 542
        },
        "id": "xeZqez8dk59d",
        "outputId": "0c7cdaaf-8bcb-4885-adbe-093a28cd6b3c"
      },
      "source": [
        "fig = px.choropleth(dic, locations=\"geo_loc\", \n",
        "                    locationmode='country names', color=dic['good_v_bad'], \n",
        "                    hover_name=\"geo_loc\", hover_data=['good_v_bad'],\n",
        "                    color_continuous_scale=\"rdylgn\", \n",
        "                    range_color=[85,100],\n",
        "                    title='Good V Bad')\n",
        "\n",
        "fig.update(layout_coloraxis_showscale=False)\n",
        "fig.show()"
      ],
      "execution_count": null,
      "outputs": [
        {
          "output_type": "display_data",
          "data": {
            "text/html": [
              "<html>\n",
              "<head><meta charset=\"utf-8\" /></head>\n",
              "<body>\n",
              "    <div>\n",
              "            <script src=\"https://cdnjs.cloudflare.com/ajax/libs/mathjax/2.7.5/MathJax.js?config=TeX-AMS-MML_SVG\"></script><script type=\"text/javascript\">if (window.MathJax) {MathJax.Hub.Config({SVG: {font: \"STIX-Web\"}});}</script>\n",
              "                <script type=\"text/javascript\">window.PlotlyConfig = {MathJaxConfig: 'local'};</script>\n",
              "        <script src=\"https://cdn.plot.ly/plotly-latest.min.js\"></script>    \n",
              "            <div id=\"41e7fe0a-beeb-423f-9ce6-caf5a70fe6b5\" class=\"plotly-graph-div\" style=\"height:525px; width:100%;\"></div>\n",
              "            <script type=\"text/javascript\">\n",
              "                \n",
              "                    window.PLOTLYENV=window.PLOTLYENV || {};\n",
              "                    \n",
              "                if (document.getElementById(\"41e7fe0a-beeb-423f-9ce6-caf5a70fe6b5\")) {\n",
              "                    Plotly.newPlot(\n",
              "                        '41e7fe0a-beeb-423f-9ce6-caf5a70fe6b5',\n",
              "                        [{\"coloraxis\": \"coloraxis\", \"customdata\": [[82.6086956521739], [95.0], [96.58119658119658], [100.0], [33.33333333333333], [94.11764705882352], [100.0], [100.0], [95.80193756727664], [96.29629629629629], [100.0], [96.21513944223108], [94.0], [93.65079365079364], [88.88888888888889], [100.0], [96.17834394904459], [100.0], [94.6524064171123], [96.71020803096275], [84.61538461538461], [100.0], [80.0], [100.0], [94.44444444444444], [100.0], [95.1219512195122], [88.88888888888889], [96.03313499008283], [100.0], [80.95238095238095], [95.78454332552693], [93.10344827586206], [100.0], [100.0], [87.5], [90.47619047619048], [95.68717653824037], [86.66666666666667], [100.0], [96.41791044776119], [95.61080954882391], [95.67901234567901], [100.0], [100.0], [96.63865546218487], [95.36423841059603], [90.0], [100.0], [93.6842105263158], [96.55963302752293], [90.9090909090909], [95.52572706935123], [60.0], [100.0], [97.41935483870968], [100.0], [95.8904109589041], [95.79207920792079], [90.32258064516128], [100.0], [100.0], [100.0], [100.0], [100.0], [89.47368421052632], [96.02543720190779], [95.73308047884319], [100.0], [100.0], [88.23529411764706], [81.81818181818183], [96.8], [95.71417191109694], [95.14563106796116], [100.0], [97.04433497536947], [100.0], [100.0], [100.0], [100.0], [96.96969696969697], [100.0], [100.0], [100.0], [100.0], [94.66666666666667], [92.85714285714286], [95.29262086513995], [93.20388349514563], [95.55555555555556], [94.9631741506296], [96.13045881702598], [95.18072289156626], [94.52054794520548], [95.5960516324981], [63.63636363636363], [93.06803594351733], [95.84245076586433], [91.869918699187], [100.0], [95.25101763907735], [100.0], [93.89830508474576], [94.20289855072464], [100.0], [97.74011299435028], [100.0], [100.0], [94.47513812154696], [100.0], [100.0], [100.0], [100.0], [100.0], [98.63013698630137], [93.75], [87.5], [90.0], [96.66666666666667], [77.77777777777779], [100.0], [96.55172413793103], [100.0], [92.3076923076923], [100.0], [96.07843137254902], [100.0], [95.90704127644814], [100.0], [77.77777777777779], [90.9090909090909], [94.18416801292408], [92.15686274509804], [66.66666666666666], [91.11111111111111], [95.34883720930233], [95.21756174049393], [100.0], [95.40229885057471], [95.34883720930233], [100.0], [95.61128526645768], [91.8918918918919], [100.0], [95.60975609756098], [93.81443298969072], [94.75409836065573], [93.54838709677419], [95.48022598870057], [100.0], [97.9381443298969], [96.16438356164385], [96.42857142857143], [95.27255185721177], [93.80281690140845], [95.77464788732394], [97.67441860465115], [95.52715654952077], [97.38562091503267], [95.46998867497169], [95.2971913781842], [95.45454545454545], [96.49122807017544], [100.0], [100.0], [100.0], [100.0], [100.0], [96.12403100775194], [86.36363636363636], [98.32635983263597], [96.7741935483871], [75.0], [95.11373209772536], [100.0], [93.95973154362416], [94.22382671480143], [100.0], [95.52079630287949], [95.89882565492321], [100.0], [95.61915887850468], [100.0], [100.0], [95.55555555555556], [71.42857142857143], [96.19047619047619], [94.65903671912255], [93.60000000000001], [100.0], [96.147495872317], [100.0], [95.55555555555556], [94.79392624728851], [94.87179487179486], [100.0], [93.646408839779], [94.66343238326257], [100.0], [100.0], [100.0], [95.77464788732394], [95.91169255928045], [94.30051813471503], [95.31709002937619], [95.52931906401173], [97.91666666666666], [100.0], [100.0], [100.0], [93.89312977099237], [95.7247828991316], [88.88888888888889], [96.5909090909091], [100.0], [100.0]], \"geo\": \"geo\", \"hoverlabel\": {\"namelength\": 0}, \"hovertemplate\": \"<b>%{hovertext}</b><br><br>good_v_bad=%{z}<br>geo_loc=%{location}\", \"hovertext\": [\"Afghanistan\", \"Albania\", \"Algeria\", \"American Samoa\", \"Andorra\", \"Angola\", \"Anguilla\", \"Antigua and Barbuda\", \"Argentina\", \"Armenia\", \"Aruba\", \"Australia\", \"Austria\", \"Azerbaijan\", \"Bahamas\", \"Bahrain\", \"Bangladesh\", \"Barbados\", \"Belarus\", \"Belgium\", \"Belize\", \"Benin\", \"Bermuda\", \"Bhutan\", \"Bolivia\", \"Bonaire, Sint Eustatius, and Saba\", \"Bosnia and Herzegovina\", \"Botswana\", \"Brazil\", \"British Virgin Islands\", \"Brunei\", \"Bulgaria\", \"Burkina Faso\", \"Burundi\", \"Cabo Verde\", \"Cambodia\", \"Cameroon\", \"Canada\", \"Cayman Islands\", \"Chad\", \"Chile\", \"China\", \"Colombia\", \"Congo Republic\", \"Cook Islands\", \"Costa Rica\", \"Croatia\", \"Cuba\", \"Cura\\u00e7ao\", \"Cyprus\", \"Czechia\", \"DR Congo\", \"Denmark\", \"Djibouti\", \"Dominica\", \"Dominican Republic\", \"East Timor\", \"Ecuador\", \"Egypt\", \"El Salvador\", \"Equatorial Guinea\", \"Estonia\", \"Eswatini\", \"Ethiopia\", \"Faroe Islands\", \"Fiji\", \"Finland\", \"France\", \"French Guiana\", \"French Polynesia\", \"Gabon\", \"Gambia\", \"Georgia\", \"Germany\", \"Ghana\", \"Gibraltar\", \"Greece\", \"Greenland\", \"Grenada\", \"Guadeloupe\", \"Guam\", \"Guatemala\", \"Guernsey\", \"Guinea\", \"Guyana\", \"Haiti\", \"Hashemite Kingdom of Jordan\", \"Honduras\", \"Hong Kong\", \"Hungary\", \"Iceland\", \"India\", \"Indonesia\", \"Iran\", \"Iraq\", \"Ireland\", \"Isle of Man\", \"Israel\", \"Italy\", \"Ivory Coast\", \"Jamaica\", \"Japan\", \"Jersey\", \"Kazakhstan\", \"Kenya\", \"Kiribati\", \"Kuwait\", \"Kyrgyzstan\", \"Laos\", \"Latvia\", \"Lebanon\", \"Lesotho\", \"Liberia\", \"Libya\", \"Liechtenstein\", \"Luxembourg\", \"Macao\", \"Madagascar\", \"Malawi\", \"Malaysia\", \"Maldives\", \"Mali\", \"Malta\", \"Marshall Islands\", \"Martinique\", \"Mauritania\", \"Mauritius\", \"Mayotte\", \"Mexico\", \"Monaco\", \"Mongolia\", \"Montenegro\", \"Morocco\", \"Mozambique\", \"Myanmar\", \"Namibia\", \"Nepal\", \"Netherlands\", \"New Caledonia\", \"New Zealand\", \"Nicaragua\", \"Niger\", \"Nigeria\", \"North Macedonia\", \"Northern Mariana Islands\", \"Norway\", \"Oman\", \"Pakistan\", \"Palestine\", \"Panama\", \"Papua New Guinea\", \"Paraguay\", \"Peru\", \"Philippines\", \"Poland\", \"Portugal\", \"Puerto Rico\", \"Qatar\", \"Republic of Lithuania\", \"Republic of Moldova\", \"Romania\", \"Russia\", \"Rwanda\", \"R\\u00e9union\", \"Saint Barth\\u00e9lemy\", \"Saint Lucia\", \"Saint Martin\", \"Samoa\", \"San Marino\", \"Saudi Arabia\", \"Senegal\", \"Serbia\", \"Seychelles\", \"Sierra Leone\", \"Singapore\", \"Sint Maarten\", \"Slovakia\", \"Slovenia\", \"Somalia\", \"South Africa\", \"South Korea\", \"South Sudan\", \"Spain\", \"Sri Lanka\", \"St Kitts and Nevis\", \"Sudan\", \"Suriname\", \"Sweden\", \"Switzerland\", \"Syria\", \"S\\u00e3o Tom\\u00e9 and Pr\\u00edncipe\", \"Taiwan\", \"Tajikistan\", \"Tanzania\", \"Thailand\", \"Togo\", \"Trinidad and Tobago\", \"Tunisia\", \"Turkey\", \"Turkmenistan\", \"Tuvalu\", \"U.S. Virgin Islands\", \"Uganda\", \"Ukraine\", \"United Arab Emirates\", \"United Kingdom\", \"United States\", \"Uruguay\", \"Uzbekistan\", \"Vanuatu\", \"Vatican City\", \"Venezuela\", \"Vietnam\", \"Yemen\", \"Zambia\", \"Zimbabwe\", \"\\u00c5land\"], \"locationmode\": \"country names\", \"locations\": [\"Afghanistan\", \"Albania\", \"Algeria\", \"American Samoa\", \"Andorra\", \"Angola\", \"Anguilla\", \"Antigua and Barbuda\", \"Argentina\", \"Armenia\", \"Aruba\", \"Australia\", \"Austria\", \"Azerbaijan\", \"Bahamas\", \"Bahrain\", \"Bangladesh\", \"Barbados\", \"Belarus\", \"Belgium\", \"Belize\", \"Benin\", \"Bermuda\", \"Bhutan\", \"Bolivia\", \"Bonaire, Sint Eustatius, and Saba\", \"Bosnia and Herzegovina\", \"Botswana\", \"Brazil\", \"British Virgin Islands\", \"Brunei\", \"Bulgaria\", \"Burkina Faso\", \"Burundi\", \"Cabo Verde\", \"Cambodia\", \"Cameroon\", \"Canada\", \"Cayman Islands\", \"Chad\", \"Chile\", \"China\", \"Colombia\", \"Congo Republic\", \"Cook Islands\", \"Costa Rica\", \"Croatia\", \"Cuba\", \"Cura\\u00e7ao\", \"Cyprus\", \"Czechia\", \"DR Congo\", \"Denmark\", \"Djibouti\", \"Dominica\", \"Dominican Republic\", \"East Timor\", \"Ecuador\", \"Egypt\", \"El Salvador\", \"Equatorial Guinea\", \"Estonia\", \"Eswatini\", \"Ethiopia\", \"Faroe Islands\", \"Fiji\", \"Finland\", \"France\", \"French Guiana\", \"French Polynesia\", \"Gabon\", \"Gambia\", \"Georgia\", \"Germany\", \"Ghana\", \"Gibraltar\", \"Greece\", \"Greenland\", \"Grenada\", \"Guadeloupe\", \"Guam\", \"Guatemala\", \"Guernsey\", \"Guinea\", \"Guyana\", \"Haiti\", \"Hashemite Kingdom of Jordan\", \"Honduras\", \"Hong Kong\", \"Hungary\", \"Iceland\", \"India\", \"Indonesia\", \"Iran\", \"Iraq\", \"Ireland\", \"Isle of Man\", \"Israel\", \"Italy\", \"Ivory Coast\", \"Jamaica\", \"Japan\", \"Jersey\", \"Kazakhstan\", \"Kenya\", \"Kiribati\", \"Kuwait\", \"Kyrgyzstan\", \"Laos\", \"Latvia\", \"Lebanon\", \"Lesotho\", \"Liberia\", \"Libya\", \"Liechtenstein\", \"Luxembourg\", \"Macao\", \"Madagascar\", \"Malawi\", \"Malaysia\", \"Maldives\", \"Mali\", \"Malta\", \"Marshall Islands\", \"Martinique\", \"Mauritania\", \"Mauritius\", \"Mayotte\", \"Mexico\", \"Monaco\", \"Mongolia\", \"Montenegro\", \"Morocco\", \"Mozambique\", \"Myanmar\", \"Namibia\", \"Nepal\", \"Netherlands\", \"New Caledonia\", \"New Zealand\", \"Nicaragua\", \"Niger\", \"Nigeria\", \"North Macedonia\", \"Northern Mariana Islands\", \"Norway\", \"Oman\", \"Pakistan\", \"Palestine\", \"Panama\", \"Papua New Guinea\", \"Paraguay\", \"Peru\", \"Philippines\", \"Poland\", \"Portugal\", \"Puerto Rico\", \"Qatar\", \"Republic of Lithuania\", \"Republic of Moldova\", \"Romania\", \"Russia\", \"Rwanda\", \"R\\u00e9union\", \"Saint Barth\\u00e9lemy\", \"Saint Lucia\", \"Saint Martin\", \"Samoa\", \"San Marino\", \"Saudi Arabia\", \"Senegal\", \"Serbia\", \"Seychelles\", \"Sierra Leone\", \"Singapore\", \"Sint Maarten\", \"Slovakia\", \"Slovenia\", \"Somalia\", \"South Africa\", \"South Korea\", \"South Sudan\", \"Spain\", \"Sri Lanka\", \"St Kitts and Nevis\", \"Sudan\", \"Suriname\", \"Sweden\", \"Switzerland\", \"Syria\", \"S\\u00e3o Tom\\u00e9 and Pr\\u00edncipe\", \"Taiwan\", \"Tajikistan\", \"Tanzania\", \"Thailand\", \"Togo\", \"Trinidad and Tobago\", \"Tunisia\", \"Turkey\", \"Turkmenistan\", \"Tuvalu\", \"U.S. Virgin Islands\", \"Uganda\", \"Ukraine\", \"United Arab Emirates\", \"United Kingdom\", \"United States\", \"Uruguay\", \"Uzbekistan\", \"Vanuatu\", \"Vatican City\", \"Venezuela\", \"Vietnam\", \"Yemen\", \"Zambia\", \"Zimbabwe\", \"\\u00c5land\"], \"name\": \"\", \"type\": \"choropleth\", \"z\": [82.6086956521739, 95.0, 96.58119658119658, 100.0, 33.33333333333333, 94.11764705882352, 100.0, 100.0, 95.80193756727664, 96.29629629629629, 100.0, 96.21513944223108, 94.0, 93.65079365079364, 88.88888888888889, 100.0, 96.17834394904459, 100.0, 94.6524064171123, 96.71020803096275, 84.61538461538461, 100.0, 80.0, 100.0, 94.44444444444444, 100.0, 95.1219512195122, 88.88888888888889, 96.03313499008283, 100.0, 80.95238095238095, 95.78454332552693, 93.10344827586206, 100.0, 100.0, 87.5, 90.47619047619048, 95.68717653824037, 86.66666666666667, 100.0, 96.41791044776119, 95.61080954882391, 95.67901234567901, 100.0, 100.0, 96.63865546218487, 95.36423841059603, 90.0, 100.0, 93.6842105263158, 96.55963302752293, 90.9090909090909, 95.52572706935123, 60.0, 100.0, 97.41935483870968, 100.0, 95.8904109589041, 95.79207920792079, 90.32258064516128, 100.0, 100.0, 100.0, 100.0, 100.0, 89.47368421052632, 96.02543720190779, 95.73308047884319, 100.0, 100.0, 88.23529411764706, 81.81818181818183, 96.8, 95.71417191109694, 95.14563106796116, 100.0, 97.04433497536947, 100.0, 100.0, 100.0, 100.0, 96.96969696969697, 100.0, 100.0, 100.0, 100.0, 94.66666666666667, 92.85714285714286, 95.29262086513995, 93.20388349514563, 95.55555555555556, 94.9631741506296, 96.13045881702598, 95.18072289156626, 94.52054794520548, 95.5960516324981, 63.63636363636363, 93.06803594351733, 95.84245076586433, 91.869918699187, 100.0, 95.25101763907735, 100.0, 93.89830508474576, 94.20289855072464, 100.0, 97.74011299435028, 100.0, 100.0, 94.47513812154696, 100.0, 100.0, 100.0, 100.0, 100.0, 98.63013698630137, 93.75, 87.5, 90.0, 96.66666666666667, 77.77777777777779, 100.0, 96.55172413793103, 100.0, 92.3076923076923, 100.0, 96.07843137254902, 100.0, 95.90704127644814, 100.0, 77.77777777777779, 90.9090909090909, 94.18416801292408, 92.15686274509804, 66.66666666666666, 91.11111111111111, 95.34883720930233, 95.21756174049393, 100.0, 95.40229885057471, 95.34883720930233, 100.0, 95.61128526645768, 91.8918918918919, 100.0, 95.60975609756098, 93.81443298969072, 94.75409836065573, 93.54838709677419, 95.48022598870057, 100.0, 97.9381443298969, 96.16438356164385, 96.42857142857143, 95.27255185721177, 93.80281690140845, 95.77464788732394, 97.67441860465115, 95.52715654952077, 97.38562091503267, 95.46998867497169, 95.2971913781842, 95.45454545454545, 96.49122807017544, 100.0, 100.0, 100.0, 100.0, 100.0, 96.12403100775194, 86.36363636363636, 98.32635983263597, 96.7741935483871, 75.0, 95.11373209772536, 100.0, 93.95973154362416, 94.22382671480143, 100.0, 95.52079630287949, 95.89882565492321, 100.0, 95.61915887850468, 100.0, 100.0, 95.55555555555556, 71.42857142857143, 96.19047619047619, 94.65903671912255, 93.60000000000001, 100.0, 96.147495872317, 100.0, 95.55555555555556, 94.79392624728851, 94.87179487179486, 100.0, 93.646408839779, 94.66343238326257, 100.0, 100.0, 100.0, 95.77464788732394, 95.91169255928045, 94.30051813471503, 95.31709002937619, 95.52931906401173, 97.91666666666666, 100.0, 100.0, 100.0, 93.89312977099237, 95.7247828991316, 88.88888888888889, 96.5909090909091, 100.0, 100.0]}],\n",
              "                        {\"coloraxis\": {\"cmax\": 100, \"cmin\": 85, \"colorbar\": {\"title\": {\"text\": \"good_v_bad\"}}, \"colorscale\": [[0.0, \"rgb(165,0,38)\"], [0.1, \"rgb(215,48,39)\"], [0.2, \"rgb(244,109,67)\"], [0.3, \"rgb(253,174,97)\"], [0.4, \"rgb(254,224,139)\"], [0.5, \"rgb(255,255,191)\"], [0.6, \"rgb(217,239,139)\"], [0.7, \"rgb(166,217,106)\"], [0.8, \"rgb(102,189,99)\"], [0.9, \"rgb(26,152,80)\"], [1.0, \"rgb(0,104,55)\"]], \"showscale\": false}, \"geo\": {\"center\": {}, \"domain\": {\"x\": [0.0, 1.0], \"y\": [0.0, 1.0]}}, \"legend\": {\"tracegroupgap\": 0}, \"template\": {\"data\": {\"bar\": [{\"error_x\": {\"color\": \"#2a3f5f\"}, \"error_y\": {\"color\": \"#2a3f5f\"}, \"marker\": {\"line\": {\"color\": \"#E5ECF6\", \"width\": 0.5}}, \"type\": \"bar\"}], \"barpolar\": [{\"marker\": {\"line\": {\"color\": \"#E5ECF6\", \"width\": 0.5}}, \"type\": \"barpolar\"}], \"carpet\": [{\"aaxis\": {\"endlinecolor\": \"#2a3f5f\", \"gridcolor\": \"white\", \"linecolor\": \"white\", \"minorgridcolor\": \"white\", \"startlinecolor\": \"#2a3f5f\"}, \"baxis\": {\"endlinecolor\": \"#2a3f5f\", \"gridcolor\": \"white\", \"linecolor\": \"white\", \"minorgridcolor\": \"white\", \"startlinecolor\": \"#2a3f5f\"}, \"type\": \"carpet\"}], \"choropleth\": [{\"colorbar\": {\"outlinewidth\": 0, \"ticks\": \"\"}, \"type\": \"choropleth\"}], \"contour\": [{\"colorbar\": {\"outlinewidth\": 0, \"ticks\": \"\"}, \"colorscale\": [[0.0, \"#0d0887\"], [0.1111111111111111, \"#46039f\"], [0.2222222222222222, \"#7201a8\"], [0.3333333333333333, \"#9c179e\"], [0.4444444444444444, \"#bd3786\"], [0.5555555555555556, \"#d8576b\"], [0.6666666666666666, \"#ed7953\"], [0.7777777777777778, \"#fb9f3a\"], [0.8888888888888888, \"#fdca26\"], [1.0, \"#f0f921\"]], \"type\": \"contour\"}], \"contourcarpet\": [{\"colorbar\": {\"outlinewidth\": 0, \"ticks\": \"\"}, \"type\": \"contourcarpet\"}], \"heatmap\": [{\"colorbar\": {\"outlinewidth\": 0, \"ticks\": \"\"}, \"colorscale\": [[0.0, \"#0d0887\"], [0.1111111111111111, \"#46039f\"], [0.2222222222222222, \"#7201a8\"], [0.3333333333333333, \"#9c179e\"], [0.4444444444444444, \"#bd3786\"], [0.5555555555555556, \"#d8576b\"], [0.6666666666666666, \"#ed7953\"], [0.7777777777777778, \"#fb9f3a\"], [0.8888888888888888, \"#fdca26\"], [1.0, \"#f0f921\"]], \"type\": \"heatmap\"}], \"heatmapgl\": [{\"colorbar\": {\"outlinewidth\": 0, \"ticks\": \"\"}, \"colorscale\": [[0.0, \"#0d0887\"], [0.1111111111111111, \"#46039f\"], [0.2222222222222222, \"#7201a8\"], [0.3333333333333333, \"#9c179e\"], [0.4444444444444444, \"#bd3786\"], [0.5555555555555556, \"#d8576b\"], [0.6666666666666666, \"#ed7953\"], [0.7777777777777778, \"#fb9f3a\"], [0.8888888888888888, \"#fdca26\"], [1.0, \"#f0f921\"]], \"type\": \"heatmapgl\"}], \"histogram\": [{\"marker\": {\"colorbar\": {\"outlinewidth\": 0, \"ticks\": \"\"}}, \"type\": \"histogram\"}], \"histogram2d\": [{\"colorbar\": {\"outlinewidth\": 0, \"ticks\": \"\"}, \"colorscale\": [[0.0, \"#0d0887\"], [0.1111111111111111, \"#46039f\"], [0.2222222222222222, \"#7201a8\"], [0.3333333333333333, \"#9c179e\"], [0.4444444444444444, \"#bd3786\"], [0.5555555555555556, \"#d8576b\"], [0.6666666666666666, \"#ed7953\"], [0.7777777777777778, \"#fb9f3a\"], [0.8888888888888888, \"#fdca26\"], [1.0, \"#f0f921\"]], \"type\": \"histogram2d\"}], \"histogram2dcontour\": [{\"colorbar\": {\"outlinewidth\": 0, \"ticks\": \"\"}, \"colorscale\": [[0.0, \"#0d0887\"], [0.1111111111111111, \"#46039f\"], [0.2222222222222222, \"#7201a8\"], [0.3333333333333333, \"#9c179e\"], [0.4444444444444444, \"#bd3786\"], [0.5555555555555556, \"#d8576b\"], [0.6666666666666666, \"#ed7953\"], [0.7777777777777778, \"#fb9f3a\"], [0.8888888888888888, \"#fdca26\"], [1.0, \"#f0f921\"]], \"type\": \"histogram2dcontour\"}], \"mesh3d\": [{\"colorbar\": {\"outlinewidth\": 0, \"ticks\": \"\"}, \"type\": \"mesh3d\"}], \"parcoords\": [{\"line\": {\"colorbar\": {\"outlinewidth\": 0, \"ticks\": \"\"}}, \"type\": \"parcoords\"}], \"pie\": [{\"automargin\": true, \"type\": \"pie\"}], \"scatter\": [{\"marker\": {\"colorbar\": {\"outlinewidth\": 0, \"ticks\": \"\"}}, \"type\": \"scatter\"}], \"scatter3d\": [{\"line\": {\"colorbar\": {\"outlinewidth\": 0, \"ticks\": \"\"}}, \"marker\": {\"colorbar\": {\"outlinewidth\": 0, \"ticks\": \"\"}}, \"type\": \"scatter3d\"}], \"scattercarpet\": [{\"marker\": {\"colorbar\": {\"outlinewidth\": 0, \"ticks\": \"\"}}, \"type\": \"scattercarpet\"}], \"scattergeo\": [{\"marker\": {\"colorbar\": {\"outlinewidth\": 0, \"ticks\": \"\"}}, \"type\": \"scattergeo\"}], \"scattergl\": [{\"marker\": {\"colorbar\": {\"outlinewidth\": 0, \"ticks\": \"\"}}, \"type\": \"scattergl\"}], \"scattermapbox\": [{\"marker\": {\"colorbar\": {\"outlinewidth\": 0, \"ticks\": \"\"}}, \"type\": \"scattermapbox\"}], \"scatterpolar\": [{\"marker\": {\"colorbar\": {\"outlinewidth\": 0, \"ticks\": \"\"}}, \"type\": \"scatterpolar\"}], \"scatterpolargl\": [{\"marker\": {\"colorbar\": {\"outlinewidth\": 0, \"ticks\": \"\"}}, \"type\": \"scatterpolargl\"}], \"scatterternary\": [{\"marker\": {\"colorbar\": {\"outlinewidth\": 0, \"ticks\": \"\"}}, \"type\": \"scatterternary\"}], \"surface\": [{\"colorbar\": {\"outlinewidth\": 0, \"ticks\": \"\"}, \"colorscale\": [[0.0, \"#0d0887\"], [0.1111111111111111, \"#46039f\"], [0.2222222222222222, \"#7201a8\"], [0.3333333333333333, \"#9c179e\"], [0.4444444444444444, \"#bd3786\"], [0.5555555555555556, \"#d8576b\"], [0.6666666666666666, \"#ed7953\"], [0.7777777777777778, \"#fb9f3a\"], [0.8888888888888888, \"#fdca26\"], [1.0, \"#f0f921\"]], \"type\": \"surface\"}], \"table\": [{\"cells\": {\"fill\": {\"color\": \"#EBF0F8\"}, \"line\": {\"color\": \"white\"}}, \"header\": {\"fill\": {\"color\": \"#C8D4E3\"}, \"line\": {\"color\": \"white\"}}, \"type\": \"table\"}]}, \"layout\": {\"annotationdefaults\": {\"arrowcolor\": \"#2a3f5f\", \"arrowhead\": 0, \"arrowwidth\": 1}, \"coloraxis\": {\"colorbar\": {\"outlinewidth\": 0, \"ticks\": \"\"}}, \"colorscale\": {\"diverging\": [[0, \"#8e0152\"], [0.1, \"#c51b7d\"], [0.2, \"#de77ae\"], [0.3, \"#f1b6da\"], [0.4, \"#fde0ef\"], [0.5, \"#f7f7f7\"], [0.6, \"#e6f5d0\"], [0.7, \"#b8e186\"], [0.8, \"#7fbc41\"], [0.9, \"#4d9221\"], [1, \"#276419\"]], \"sequential\": [[0.0, \"#0d0887\"], [0.1111111111111111, \"#46039f\"], [0.2222222222222222, \"#7201a8\"], [0.3333333333333333, \"#9c179e\"], [0.4444444444444444, \"#bd3786\"], [0.5555555555555556, \"#d8576b\"], [0.6666666666666666, \"#ed7953\"], [0.7777777777777778, \"#fb9f3a\"], [0.8888888888888888, \"#fdca26\"], [1.0, \"#f0f921\"]], \"sequentialminus\": [[0.0, \"#0d0887\"], [0.1111111111111111, \"#46039f\"], [0.2222222222222222, \"#7201a8\"], [0.3333333333333333, \"#9c179e\"], [0.4444444444444444, \"#bd3786\"], [0.5555555555555556, \"#d8576b\"], [0.6666666666666666, \"#ed7953\"], [0.7777777777777778, \"#fb9f3a\"], [0.8888888888888888, \"#fdca26\"], [1.0, \"#f0f921\"]]}, \"colorway\": [\"#636efa\", \"#EF553B\", \"#00cc96\", \"#ab63fa\", \"#FFA15A\", \"#19d3f3\", \"#FF6692\", \"#B6E880\", \"#FF97FF\", \"#FECB52\"], \"font\": {\"color\": \"#2a3f5f\"}, \"geo\": {\"bgcolor\": \"white\", \"lakecolor\": \"white\", \"landcolor\": \"#E5ECF6\", \"showlakes\": true, \"showland\": true, \"subunitcolor\": \"white\"}, \"hoverlabel\": {\"align\": \"left\"}, \"hovermode\": \"closest\", \"mapbox\": {\"style\": \"light\"}, \"paper_bgcolor\": \"white\", \"plot_bgcolor\": \"#E5ECF6\", \"polar\": {\"angularaxis\": {\"gridcolor\": \"white\", \"linecolor\": \"white\", \"ticks\": \"\"}, \"bgcolor\": \"#E5ECF6\", \"radialaxis\": {\"gridcolor\": \"white\", \"linecolor\": \"white\", \"ticks\": \"\"}}, \"scene\": {\"xaxis\": {\"backgroundcolor\": \"#E5ECF6\", \"gridcolor\": \"white\", \"gridwidth\": 2, \"linecolor\": \"white\", \"showbackground\": true, \"ticks\": \"\", \"zerolinecolor\": \"white\"}, \"yaxis\": {\"backgroundcolor\": \"#E5ECF6\", \"gridcolor\": \"white\", \"gridwidth\": 2, \"linecolor\": \"white\", \"showbackground\": true, \"ticks\": \"\", \"zerolinecolor\": \"white\"}, \"zaxis\": {\"backgroundcolor\": \"#E5ECF6\", \"gridcolor\": \"white\", \"gridwidth\": 2, \"linecolor\": \"white\", \"showbackground\": true, \"ticks\": \"\", \"zerolinecolor\": \"white\"}}, \"shapedefaults\": {\"line\": {\"color\": \"#2a3f5f\"}}, \"ternary\": {\"aaxis\": {\"gridcolor\": \"white\", \"linecolor\": \"white\", \"ticks\": \"\"}, \"baxis\": {\"gridcolor\": \"white\", \"linecolor\": \"white\", \"ticks\": \"\"}, \"bgcolor\": \"#E5ECF6\", \"caxis\": {\"gridcolor\": \"white\", \"linecolor\": \"white\", \"ticks\": \"\"}}, \"title\": {\"x\": 0.05}, \"xaxis\": {\"automargin\": true, \"gridcolor\": \"white\", \"linecolor\": \"white\", \"ticks\": \"\", \"title\": {\"standoff\": 15}, \"zerolinecolor\": \"white\", \"zerolinewidth\": 2}, \"yaxis\": {\"automargin\": true, \"gridcolor\": \"white\", \"linecolor\": \"white\", \"ticks\": \"\", \"title\": {\"standoff\": 15}, \"zerolinecolor\": \"white\", \"zerolinewidth\": 2}}}, \"title\": {\"text\": \"Good V Bad\"}},\n",
              "                        {\"responsive\": true}\n",
              "                    ).then(function(){\n",
              "                            \n",
              "var gd = document.getElementById('41e7fe0a-beeb-423f-9ce6-caf5a70fe6b5');\n",
              "var x = new MutationObserver(function (mutations, observer) {{\n",
              "        var display = window.getComputedStyle(gd).display;\n",
              "        if (!display || display === 'none') {{\n",
              "            console.log([gd, 'removed!']);\n",
              "            Plotly.purge(gd);\n",
              "            observer.disconnect();\n",
              "        }}\n",
              "}});\n",
              "\n",
              "// Listen for the removal of the full notebook cells\n",
              "var notebookContainer = gd.closest('#notebook-container');\n",
              "if (notebookContainer) {{\n",
              "    x.observe(notebookContainer, {childList: true});\n",
              "}}\n",
              "\n",
              "// Listen for the clearing of the current output cell\n",
              "var outputEl = gd.closest('.output');\n",
              "if (outputEl) {{\n",
              "    x.observe(outputEl, {childList: true});\n",
              "}}\n",
              "\n",
              "                        })\n",
              "                };\n",
              "                \n",
              "            </script>\n",
              "        </div>\n",
              "</body>\n",
              "</html>"
            ]
          },
          "metadata": {}
        }
      ]
    },
    {
      "cell_type": "code",
      "metadata": {
        "colab": {
          "base_uri": "https://localhost:8080/",
          "height": 650
        },
        "id": "vZf1_rfx0GC_",
        "outputId": "218284b1-257c-4702-ab7e-438fcfc1425f"
      },
      "source": [
        "def tld(s):\n",
        "    p= re.split('\\.',s)\n",
        "    return p[-1]   \n",
        "df_trial = df.iloc[:,]\n",
        "df_trial['tld']= df_trial['tld'].apply(tld)\n",
        "df_trial= df_trial.groupby('tld').filter(lambda x : len(x)>300)\n",
        "fig=plt.figure(figsize=(20,10))\n",
        "ax = sns.countplot(x='tld',data=df_trial,hue='label',\n",
        "                   order=df_trial['tld'].value_counts().index)\n",
        "ax.set_xticklabels(ax.get_xticklabels(),rotation=90, ha=\"right\",fontsize=14)\n",
        "plt.title('Top Level Domain Names', fontsize=14, fontweight='bold')\n",
        "ax.legend(loc='upper right',fontsize=16)\n",
        "plt.xlabel('TLD',fontsize=18)\n",
        "plt.ylabel('Count',fontsize=18)\n",
        "ax.set_yscale(\"log\")\n",
        "#fig.savefig(\"imgs/Fig31:TLD Histogram.png\")\n",
        "plt.show()"
      ],
      "execution_count": null,
      "outputs": [
        {
          "output_type": "display_data",
          "data": {
            "image/png": "[encoded data removed]",
            "text/plain": [
              "<Figure size 1440x720 with 1 Axes>"
            ]
          },
          "metadata": {
            "needs_background": "light"
          }
        }
      ]
    },
    {
      "cell_type": "code",
      "metadata": {
        "colab": {
          "base_uri": "https://localhost:8080/",
          "height": 298
        },
        "id": "2oLazTJy9p7Q",
        "outputId": "68a289a0-8c1e-4dd1-e1e6-285fac2d0d93"
      },
      "source": [
        "sns.histplot(df['url_len'])\n",
        "plt.xlim(0,650)"
      ],
      "execution_count": null,
      "outputs": [
        {
          "output_type": "execute_result",
          "data": {
            "text/plain": [
              "(0.0, 650.0)"
            ]
          },
          "metadata": {},
          "execution_count": 70
        },
        {
          "output_type": "display_data",
          "data": {
            "image/png": "[encoded data removed]",
            "text/plain": [
              "<Figure size 432x288 with 1 Axes>"
            ]
          },
          "metadata": {
            "needs_background": "light"
          }
        }
      ]
    },
    {
      "cell_type": "code",
      "metadata": {
        "colab": {
          "base_uri": "https://localhost:8080/",
          "height": 298
        },
        "id": "dBygK_fd91fb",
        "outputId": "94a74789-594e-4f31-b9a2-404af19f3b50"
      },
      "source": [
        "sns.scatterplot(x=df.js_len,y=df.js_obf_len,hue=df.label)"
      ],
      "execution_count": null,
      "outputs": [
        {
          "output_type": "execute_result",
          "data": {
            "text/plain": [
              "<matplotlib.axes._subplots.AxesSubplot at 0x7f9091469850>"
            ]
          },
          "metadata": {},
          "execution_count": 11
        },
        {
          "output_type": "display_data",
          "data": {
            "image/png": "[encoded data removed]",
            "text/plain": [
              "<Figure size 432x288 with 1 Axes>"
            ]
          },
          "metadata": {
            "needs_background": "light"
          }
        }
      ]
    },
    {
      "cell_type": "code",
      "metadata": {
        "colab": {
          "base_uri": "https://localhost:8080/",
          "height": 298
        },
        "id": "Uuje4Bu29MWW",
        "outputId": "bbb0487f-1afb-4b77-e641-cfc73de6e5b9"
      },
      "source": [
        "sns.scatterplot(x=df.js_len,y=df.label)"
      ],
      "execution_count": null,
      "outputs": [
        {
          "output_type": "execute_result",
          "data": {
            "text/plain": [
              "<matplotlib.axes._subplots.AxesSubplot at 0x7f908f2d8d90>"
            ]
          },
          "metadata": {},
          "execution_count": 12
        },
        {
          "output_type": "display_data",
          "data": {
            "image/png": "[encoded data removed]",
            "text/plain": [
              "<Figure size 432x288 with 1 Axes>"
            ]
          },
          "metadata": {
            "needs_background": "light"
          }
        }
      ]
    },
    {
      "cell_type": "code",
      "metadata": {
        "colab": {
          "base_uri": "https://localhost:8080/"
        },
        "id": "FqzKCwlN-nN5",
        "outputId": "63e22be7-339f-45e5-f396-35ce8a52ed3c"
      },
      "source": [
        "df[(df.js_len==0) & ((df.label=='bad'))].shape[0], df[(df.js_len==0) & ((df.label=='good'))].shape[0]"
      ],
      "execution_count": null,
      "outputs": [
        {
          "output_type": "execute_result",
          "data": {
            "text/plain": [
              "(378, 17721)"
            ]
          },
          "metadata": {},
          "execution_count": 18
        }
      ]
    },
    {
      "cell_type": "code",
      "metadata": {
        "colab": {
          "base_uri": "https://localhost:8080/",
          "height": 298
        },
        "id": "vIanH70B9YdG",
        "outputId": "001f452c-ec3c-4f91-e05d-0b5300580258"
      },
      "source": [
        "sns.scatterplot(x=df.js_obf_len,y=df.label)"
      ],
      "execution_count": null,
      "outputs": [
        {
          "output_type": "execute_result",
          "data": {
            "text/plain": [
              "<matplotlib.axes._subplots.AxesSubplot at 0x7f9090c934d0>"
            ]
          },
          "metadata": {},
          "execution_count": 14
        },
        {
          "output_type": "display_data",
          "data": {
            "image/png": "[encoded data removed]",
            "text/plain": [
              "<Figure size 432x288 with 1 Axes>"
            ]
          },
          "metadata": {
            "needs_background": "light"
          }
        }
      ]
    },
    {
      "cell_type": "code",
      "metadata": {
        "colab": {
          "base_uri": "https://localhost:8080/"
        },
        "id": "mmEnnvHJ_Cd5",
        "outputId": "73a071cd-7028-4388-8a79-b35dffd303c5"
      },
      "source": [
        "df[(df.js_obf_len==0) & ((df.label=='bad'))].shape[0], df[(df.js_obf_len==0) & ((df.label=='good'))].shape[0]"
      ],
      "execution_count": null,
      "outputs": [
        {
          "output_type": "execute_result",
          "data": {
            "text/plain": [
              "(873, 353872)"
            ]
          },
          "metadata": {},
          "execution_count": 19
        }
      ]
    },
    {
      "cell_type": "code",
      "metadata": {
        "colab": {
          "base_uri": "https://localhost:8080/",
          "height": 298
        },
        "id": "qXlbfOAf_O7K",
        "outputId": "554a3757-0dd7-4666-e2a6-8e88070913d8"
      },
      "source": [
        "sns.scatterplot(x=df.url_len,y=df.label)"
      ],
      "execution_count": null,
      "outputs": [
        {
          "output_type": "execute_result",
          "data": {
            "text/plain": [
              "<matplotlib.axes._subplots.AxesSubplot at 0x7f908f922d90>"
            ]
          },
          "metadata": {},
          "execution_count": 20
        },
        {
          "output_type": "display_data",
          "data": {
            "image/png": "[encoded data removed]",
            "text/plain": [
              "<Figure size 432x288 with 1 Axes>"
            ]
          },
          "metadata": {
            "needs_background": "light"
          }
        }
      ]
    },
    {
      "cell_type": "code",
      "metadata": {
        "colab": {
          "base_uri": "https://localhost:8080/",
          "height": 283
        },
        "id": "uts5_Bzd-VlQ",
        "outputId": "e721150e-47fd-4188-e78d-3bf468642ed1"
      },
      "source": [
        "sns.heatmap(df.corr(),annot=True,cbar=False)"
      ],
      "execution_count": null,
      "outputs": [
        {
          "output_type": "execute_result",
          "data": {
            "text/plain": [
              "<matplotlib.axes._subplots.AxesSubplot at 0x7f03ac943f50>"
            ]
          },
          "metadata": {},
          "execution_count": 74
        },
        {
          "output_type": "display_data",
          "data": {
            "image/png": "[encoded data removed]",
            "text/plain": [
              "<Figure size 432x288 with 1 Axes>"
            ]
          },
          "metadata": {
            "needs_background": "light"
          }
        }
      ]
    },
    {
      "cell_type": "markdown",
      "metadata": {
        "id": "Qp_cI2fIAY3x"
      },
      "source": [
        "## Data Cleaning and Preprocessing"
      ]
    },
    {
      "cell_type": "code",
      "metadata": {
        "id": "L-i0Muyo-5yC"
      },
      "source": [
        "df.drop(['js_obf_len'],axis=1,inplace=True)"
      ],
      "execution_count": null,
      "outputs": []
    },
    {
      "cell_type": "code",
      "metadata": {
        "id": "9Bgbx8gCRuVY"
      },
      "source": [
        "import re\n",
        "urls = df['url']\n",
        "tld = df['tld']\n",
        "\n",
        "cleaned = list()\n",
        "for ind,i in enumerate(urls):\n",
        "    a = re.sub(\"[^0-9a-zA-Z]+\", \"/\", i)\n",
        "    a = a.split('/')[1:]\n",
        "    sp = re.sub(\"[^0-9a-zA-Z]+\", \"/\", tld[ind]).split('/')\n",
        "    for j in a:\n",
        "        for k in sp:\n",
        "            if j == k:\n",
        "                a.remove(k)\n",
        "        if j.startswith('www'):\n",
        "            a.remove(j)\n",
        "        if j == 'html' or j == 'htm':\n",
        "            a.remove(j)\n",
        "    a = ' '.join(a).strip()\n",
        "    cleaned.append(a)\n",
        "#cleaned"
      ],
      "execution_count": null,
      "outputs": []
    },
    {
      "cell_type": "code",
      "metadata": {
        "colab": {
          "base_uri": "https://localhost:8080/",
          "height": 206
        },
        "id": "94VeboCMg1kJ",
        "outputId": "61ef1e05-4884-4143-8a64-dfa21ebbe372"
      },
      "source": [
        "df['cleaned_url'] = cleaned\n",
        "df.drop(['url'],axis=1,inplace=True)\n",
        "df.head()"
      ],
      "execution_count": null,
      "outputs": [
        {
          "output_type": "execute_result",
          "data": {
            "text/html": [
              "<div>\n",
              "<style scoped>\n",
              "    .dataframe tbody tr th:only-of-type {\n",
              "        vertical-align: middle;\n",
              "    }\n",
              "\n",
              "    .dataframe tbody tr th {\n",
              "        vertical-align: top;\n",
              "    }\n",
              "\n",
              "    .dataframe thead th {\n",
              "        text-align: right;\n",
              "    }\n",
              "</style>\n",
              "<table border=\"1\" class=\"dataframe\">\n",
              "  <thead>\n",
              "    <tr style=\"text-align: right;\">\n",
              "      <th></th>\n",
              "      <th>url_len</th>\n",
              "      <th>ip_add</th>\n",
              "      <th>geo_loc</th>\n",
              "      <th>tld</th>\n",
              "      <th>who_is</th>\n",
              "      <th>https</th>\n",
              "      <th>js_len</th>\n",
              "      <th>content</th>\n",
              "      <th>label</th>\n",
              "      <th>cleaned_url</th>\n",
              "    </tr>\n",
              "  </thead>\n",
              "  <tbody>\n",
              "    <tr>\n",
              "      <th>0</th>\n",
              "      <td>36</td>\n",
              "      <td>175.67.214.68</td>\n",
              "      <td>China</td>\n",
              "      <td>com</td>\n",
              "      <td>complete</td>\n",
              "      <td>yes</td>\n",
              "      <td>38.5</td>\n",
              "      <td>Decay suggest in 1315.. Current constitution, ...</td>\n",
              "      <td>good</td>\n",
              "      <td>dutchthewiz freeware</td>\n",
              "    </tr>\n",
              "    <tr>\n",
              "      <th>1</th>\n",
              "      <td>32</td>\n",
              "      <td>188.120.171.121</td>\n",
              "      <td>Sweden</td>\n",
              "      <td>com</td>\n",
              "      <td>incomplete</td>\n",
              "      <td>yes</td>\n",
              "      <td>187.0</td>\n",
              "      <td>breast addict nudger whash ky darkie catholics...</td>\n",
              "      <td>good</td>\n",
              "      <td>collectiblejewels</td>\n",
              "    </tr>\n",
              "    <tr>\n",
              "      <th>2</th>\n",
              "      <td>27</td>\n",
              "      <td>193.51.170.1</td>\n",
              "      <td>France</td>\n",
              "      <td>com</td>\n",
              "      <td>complete</td>\n",
              "      <td>yes</td>\n",
              "      <td>31.0</td>\n",
              "      <td>Nato's military stoic philosophy says to accep...</td>\n",
              "      <td>good</td>\n",
              "      <td>deadlinedata</td>\n",
              "    </tr>\n",
              "    <tr>\n",
              "      <th>3</th>\n",
              "      <td>56</td>\n",
              "      <td>13.237.35.44</td>\n",
              "      <td>Australia</td>\n",
              "      <td>fi</td>\n",
              "      <td>complete</td>\n",
              "      <td>yes</td>\n",
              "      <td>152.0</td>\n",
              "      <td>Night being newton. according to the formation...</td>\n",
              "      <td>good</td>\n",
              "      <td>mil maavoimat kalustoesittely 00116 en dsp</td>\n",
              "    </tr>\n",
              "    <tr>\n",
              "      <th>4</th>\n",
              "      <td>40</td>\n",
              "      <td>220.193.62.89</td>\n",
              "      <td>China</td>\n",
              "      <td>com</td>\n",
              "      <td>complete</td>\n",
              "      <td>yes</td>\n",
              "      <td>150.0</td>\n",
              "      <td>34 per two children. if we exercise simple pra...</td>\n",
              "      <td>good</td>\n",
              "      <td>avclub content node 24539</td>\n",
              "    </tr>\n",
              "  </tbody>\n",
              "</table>\n",
              "</div>"
            ],
            "text/plain": [
              "   url_len           ip_add  ... label                                 cleaned_url\n",
              "0       36    175.67.214.68  ...  good                        dutchthewiz freeware\n",
              "1       32  188.120.171.121  ...  good                           collectiblejewels\n",
              "2       27     193.51.170.1  ...  good                                deadlinedata\n",
              "3       56     13.237.35.44  ...  good  mil maavoimat kalustoesittely 00116 en dsp\n",
              "4       40    220.193.62.89  ...  good                   avclub content node 24539\n",
              "\n",
              "[5 rows x 10 columns]"
            ]
          },
          "metadata": {},
          "execution_count": 113
        }
      ]
    },
    {
      "cell_type": "code",
      "metadata": {
        "colab": {
          "base_uri": "https://localhost:8080/",
          "height": 282
        },
        "id": "ccQ4CpduAiQ2",
        "outputId": "09b30651-1f29-42a5-8b9b-bb3043136149"
      },
      "source": [
        "sns.boxplot(data = df['url_len'])\n",
        "plt.figure(figsize=(10,20))\n",
        "plt.show()"
      ],
      "execution_count": null,
      "outputs": [
        {
          "output_type": "display_data",
          "data": {
            "image/png": "[encoded data removed]",
            "text/plain": [
              "<Figure size 432x288 with 1 Axes>"
            ]
          },
          "metadata": {
            "needs_background": "light"
          }
        },
        {
          "output_type": "display_data",
          "data": {
            "text/plain": [
              "<Figure size 720x1440 with 0 Axes>"
            ]
          },
          "metadata": {}
        }
      ]
    },
    {
      "cell_type": "code",
      "metadata": {
        "colab": {
          "base_uri": "https://localhost:8080/",
          "height": 282
        },
        "id": "qOctgb-3Au6b",
        "outputId": "b38a4e8b-73e3-4650-c513-08ad950d87ec"
      },
      "source": [
        "sns.boxplot(data = df['js_len'])\n",
        "plt.figure(figsize=(10,20))\n",
        "plt.show()"
      ],
      "execution_count": null,
      "outputs": [
        {
          "output_type": "display_data",
          "data": {
            "image/png": "[encoded data removed]",
            "text/plain": [
              "<Figure size 432x288 with 1 Axes>"
            ]
          },
          "metadata": {
            "needs_background": "light"
          }
        },
        {
          "output_type": "display_data",
          "data": {
            "text/plain": [
              "<Figure size 720x1440 with 0 Axes>"
            ]
          },
          "metadata": {}
        }
      ]
    },
    {
      "cell_type": "code",
      "metadata": {
        "colab": {
          "base_uri": "https://localhost:8080/"
        },
        "id": "vw7ehAj2A0U2",
        "outputId": "f7c166a4-dd6e-476a-a1fb-a6ee43aa4c72"
      },
      "source": [
        "#removing outliers\n",
        "\n",
        "first_quart=np.percentile(df['url_len'],25)\n",
        "third_quart=np.percentile(df['url_len'],75)\n",
        "iqr=third_quart-first_quart\n",
        "lower=first_quart-1.5*iqr\n",
        "upper=third_quart+1.5*iqr\n",
        "print(\"Lower:\",lower)\n",
        "print(\"Upper:\",upper)"
      ],
      "execution_count": null,
      "outputs": [
        {
          "output_type": "stream",
          "name": "stdout",
          "text": [
            "Lower: 2.0\n",
            "Upper: 66.0\n"
          ]
        }
      ]
    },
    {
      "cell_type": "code",
      "metadata": {
        "colab": {
          "base_uri": "https://localhost:8080/"
        },
        "id": "aFwrmJU-BQxE",
        "outputId": "03fece4d-f060-4123-ddaf-b365b7a7e12d"
      },
      "source": [
        "df[(df['url_len']<lower) | (df['url_len']>upper)]['label'].value_counts()"
      ],
      "execution_count": null,
      "outputs": [
        {
          "output_type": "execute_result",
          "data": {
            "text/plain": [
              "good    12366\n",
              "bad       306\n",
              "Name: label, dtype: int64"
            ]
          },
          "metadata": {},
          "execution_count": 117
        }
      ]
    },
    {
      "cell_type": "code",
      "metadata": {
        "colab": {
          "base_uri": "https://localhost:8080/",
          "height": 206
        },
        "id": "t19-kFguBDRI",
        "outputId": "b7bebba1-8746-43fa-dcd8-c356c035bf4b"
      },
      "source": [
        "df=df[(df['url_len']>=lower) & (df['url_len']<=upper)]\n",
        "df.head()"
      ],
      "execution_count": null,
      "outputs": [
        {
          "output_type": "execute_result",
          "data": {
            "text/html": [
              "<div>\n",
              "<style scoped>\n",
              "    .dataframe tbody tr th:only-of-type {\n",
              "        vertical-align: middle;\n",
              "    }\n",
              "\n",
              "    .dataframe tbody tr th {\n",
              "        vertical-align: top;\n",
              "    }\n",
              "\n",
              "    .dataframe thead th {\n",
              "        text-align: right;\n",
              "    }\n",
              "</style>\n",
              "<table border=\"1\" class=\"dataframe\">\n",
              "  <thead>\n",
              "    <tr style=\"text-align: right;\">\n",
              "      <th></th>\n",
              "      <th>url_len</th>\n",
              "      <th>ip_add</th>\n",
              "      <th>geo_loc</th>\n",
              "      <th>tld</th>\n",
              "      <th>who_is</th>\n",
              "      <th>https</th>\n",
              "      <th>js_len</th>\n",
              "      <th>content</th>\n",
              "      <th>label</th>\n",
              "      <th>cleaned_url</th>\n",
              "    </tr>\n",
              "  </thead>\n",
              "  <tbody>\n",
              "    <tr>\n",
              "      <th>0</th>\n",
              "      <td>36</td>\n",
              "      <td>175.67.214.68</td>\n",
              "      <td>China</td>\n",
              "      <td>com</td>\n",
              "      <td>complete</td>\n",
              "      <td>yes</td>\n",
              "      <td>38.5</td>\n",
              "      <td>Decay suggest in 1315.. Current constitution, ...</td>\n",
              "      <td>good</td>\n",
              "      <td>dutchthewiz freeware</td>\n",
              "    </tr>\n",
              "    <tr>\n",
              "      <th>1</th>\n",
              "      <td>32</td>\n",
              "      <td>188.120.171.121</td>\n",
              "      <td>Sweden</td>\n",
              "      <td>com</td>\n",
              "      <td>incomplete</td>\n",
              "      <td>yes</td>\n",
              "      <td>187.0</td>\n",
              "      <td>breast addict nudger whash ky darkie catholics...</td>\n",
              "      <td>good</td>\n",
              "      <td>collectiblejewels</td>\n",
              "    </tr>\n",
              "    <tr>\n",
              "      <th>2</th>\n",
              "      <td>27</td>\n",
              "      <td>193.51.170.1</td>\n",
              "      <td>France</td>\n",
              "      <td>com</td>\n",
              "      <td>complete</td>\n",
              "      <td>yes</td>\n",
              "      <td>31.0</td>\n",
              "      <td>Nato's military stoic philosophy says to accep...</td>\n",
              "      <td>good</td>\n",
              "      <td>deadlinedata</td>\n",
              "    </tr>\n",
              "    <tr>\n",
              "      <th>3</th>\n",
              "      <td>56</td>\n",
              "      <td>13.237.35.44</td>\n",
              "      <td>Australia</td>\n",
              "      <td>fi</td>\n",
              "      <td>complete</td>\n",
              "      <td>yes</td>\n",
              "      <td>152.0</td>\n",
              "      <td>Night being newton. according to the formation...</td>\n",
              "      <td>good</td>\n",
              "      <td>mil maavoimat kalustoesittely 00116 en dsp</td>\n",
              "    </tr>\n",
              "    <tr>\n",
              "      <th>4</th>\n",
              "      <td>40</td>\n",
              "      <td>220.193.62.89</td>\n",
              "      <td>China</td>\n",
              "      <td>com</td>\n",
              "      <td>complete</td>\n",
              "      <td>yes</td>\n",
              "      <td>150.0</td>\n",
              "      <td>34 per two children. if we exercise simple pra...</td>\n",
              "      <td>good</td>\n",
              "      <td>avclub content node 24539</td>\n",
              "    </tr>\n",
              "  </tbody>\n",
              "</table>\n",
              "</div>"
            ],
            "text/plain": [
              "   url_len           ip_add  ... label                                 cleaned_url\n",
              "0       36    175.67.214.68  ...  good                        dutchthewiz freeware\n",
              "1       32  188.120.171.121  ...  good                           collectiblejewels\n",
              "2       27     193.51.170.1  ...  good                                deadlinedata\n",
              "3       56     13.237.35.44  ...  good  mil maavoimat kalustoesittely 00116 en dsp\n",
              "4       40    220.193.62.89  ...  good                   avclub content node 24539\n",
              "\n",
              "[5 rows x 10 columns]"
            ]
          },
          "metadata": {},
          "execution_count": 120
        }
      ]
    },
    {
      "cell_type": "code",
      "metadata": {
        "id": "PV8TTIkIDx7a"
      },
      "source": [
        "le_geo = LabelEncoder()\n",
        "df['geo_loc'] = le_geo.fit_transform(df['geo_loc'])"
      ],
      "execution_count": null,
      "outputs": []
    },
    {
      "cell_type": "code",
      "metadata": {
        "id": "c-wFRhkvEhgy"
      },
      "source": [
        "le_tld = LabelEncoder()\n",
        "df['tld'] = le_tld.fit_transform(df['tld'])"
      ],
      "execution_count": null,
      "outputs": []
    },
    {
      "cell_type": "code",
      "metadata": {
        "id": "KKdGyDwIEnkg"
      },
      "source": [
        "le_who = LabelEncoder()\n",
        "df['who_is'] = le_who.fit_transform(df['who_is'])"
      ],
      "execution_count": null,
      "outputs": []
    },
    {
      "cell_type": "code",
      "metadata": {
        "id": "rP1hwB47E5Ln"
      },
      "source": [
        "le_https = LabelEncoder()\n",
        "df['https'] = le_https.fit_transform(df['https'])"
      ],
      "execution_count": null,
      "outputs": []
    },
    {
      "cell_type": "code",
      "metadata": {
        "id": "17iryiziFOHC"
      },
      "source": [
        "le_label = LabelEncoder()\n",
        "df['label'] = le_label.fit_transform(df['label'])"
      ],
      "execution_count": null,
      "outputs": []
    },
    {
      "cell_type": "code",
      "metadata": {
        "colab": {
          "base_uri": "https://localhost:8080/",
          "height": 206
        },
        "id": "_NE90dzdFBRw",
        "outputId": "60e3536c-32b7-433c-80c7-d3983583f673"
      },
      "source": [
        "df.head()"
      ],
      "execution_count": null,
      "outputs": [
        {
          "output_type": "execute_result",
          "data": {
            "text/html": [
              "<div>\n",
              "<style scoped>\n",
              "    .dataframe tbody tr th:only-of-type {\n",
              "        vertical-align: middle;\n",
              "    }\n",
              "\n",
              "    .dataframe tbody tr th {\n",
              "        vertical-align: top;\n",
              "    }\n",
              "\n",
              "    .dataframe thead th {\n",
              "        text-align: right;\n",
              "    }\n",
              "</style>\n",
              "<table border=\"1\" class=\"dataframe\">\n",
              "  <thead>\n",
              "    <tr style=\"text-align: right;\">\n",
              "      <th></th>\n",
              "      <th>url_len</th>\n",
              "      <th>ip_add</th>\n",
              "      <th>geo_loc</th>\n",
              "      <th>tld</th>\n",
              "      <th>who_is</th>\n",
              "      <th>https</th>\n",
              "      <th>js_len</th>\n",
              "      <th>content</th>\n",
              "      <th>label</th>\n",
              "      <th>cleaned_url</th>\n",
              "    </tr>\n",
              "  </thead>\n",
              "  <tbody>\n",
              "    <tr>\n",
              "      <th>0</th>\n",
              "      <td>36</td>\n",
              "      <td>175.67.214.68</td>\n",
              "      <td>41</td>\n",
              "      <td>135</td>\n",
              "      <td>0</td>\n",
              "      <td>1</td>\n",
              "      <td>38.5</td>\n",
              "      <td>Decay suggest in 1315.. Current constitution, ...</td>\n",
              "      <td>1</td>\n",
              "      <td>dutchthewiz freeware</td>\n",
              "    </tr>\n",
              "    <tr>\n",
              "      <th>1</th>\n",
              "      <td>32</td>\n",
              "      <td>188.120.171.121</td>\n",
              "      <td>187</td>\n",
              "      <td>135</td>\n",
              "      <td>1</td>\n",
              "      <td>1</td>\n",
              "      <td>187.0</td>\n",
              "      <td>breast addict nudger whash ky darkie catholics...</td>\n",
              "      <td>1</td>\n",
              "      <td>collectiblejewels</td>\n",
              "    </tr>\n",
              "    <tr>\n",
              "      <th>2</th>\n",
              "      <td>27</td>\n",
              "      <td>193.51.170.1</td>\n",
              "      <td>67</td>\n",
              "      <td>135</td>\n",
              "      <td>0</td>\n",
              "      <td>1</td>\n",
              "      <td>31.0</td>\n",
              "      <td>Nato's military stoic philosophy says to accep...</td>\n",
              "      <td>1</td>\n",
              "      <td>deadlinedata</td>\n",
              "    </tr>\n",
              "    <tr>\n",
              "      <th>3</th>\n",
              "      <td>56</td>\n",
              "      <td>13.237.35.44</td>\n",
              "      <td>11</td>\n",
              "      <td>274</td>\n",
              "      <td>0</td>\n",
              "      <td>1</td>\n",
              "      <td>152.0</td>\n",
              "      <td>Night being newton. according to the formation...</td>\n",
              "      <td>1</td>\n",
              "      <td>mil maavoimat kalustoesittely 00116 en dsp</td>\n",
              "    </tr>\n",
              "    <tr>\n",
              "      <th>4</th>\n",
              "      <td>40</td>\n",
              "      <td>220.193.62.89</td>\n",
              "      <td>41</td>\n",
              "      <td>135</td>\n",
              "      <td>0</td>\n",
              "      <td>1</td>\n",
              "      <td>150.0</td>\n",
              "      <td>34 per two children. if we exercise simple pra...</td>\n",
              "      <td>1</td>\n",
              "      <td>avclub content node 24539</td>\n",
              "    </tr>\n",
              "  </tbody>\n",
              "</table>\n",
              "</div>"
            ],
            "text/plain": [
              "   url_len           ip_add  ...  label                                 cleaned_url\n",
              "0       36    175.67.214.68  ...      1                        dutchthewiz freeware\n",
              "1       32  188.120.171.121  ...      1                           collectiblejewels\n",
              "2       27     193.51.170.1  ...      1                                deadlinedata\n",
              "3       56     13.237.35.44  ...      1  mil maavoimat kalustoesittely 00116 en dsp\n",
              "4       40    220.193.62.89  ...      1                   avclub content node 24539\n",
              "\n",
              "[5 rows x 10 columns]"
            ]
          },
          "metadata": {},
          "execution_count": 126
        }
      ]
    },
    {
      "cell_type": "code",
      "metadata": {
        "id": "mgTwxSqjFVDW"
      },
      "source": [
        "ip_split = df['ip_add'].str.split('.')"
      ],
      "execution_count": null,
      "outputs": []
    },
    {
      "cell_type": "code",
      "metadata": {
        "colab": {
          "base_uri": "https://localhost:8080/"
        },
        "id": "-M7L8v5gFphe",
        "outputId": "f3ac35a4-e622-487c-f51a-d5bf7515e170"
      },
      "source": [
        "ip_split"
      ],
      "execution_count": null,
      "outputs": [
        {
          "output_type": "execute_result",
          "data": {
            "text/plain": [
              "0           [175, 67, 214, 68]\n",
              "1         [188, 120, 171, 121]\n",
              "2            [193, 51, 170, 1]\n",
              "3            [13, 237, 35, 44]\n",
              "4           [220, 193, 62, 89]\n",
              "                  ...         \n",
              "361929     [200, 200, 169, 58]\n",
              "361930    [217, 114, 245, 202]\n",
              "361931     [191, 49, 186, 181]\n",
              "361932    [202, 100, 138, 248]\n",
              "361933      [134, 82, 70, 193]\n",
              "Name: ip_add, Length: 349262, dtype: object"
            ]
          },
          "metadata": {},
          "execution_count": 128
        }
      ]
    },
    {
      "cell_type": "code",
      "metadata": {
        "id": "Nxx-utVHFqpb"
      },
      "source": [
        "ip1 = []\n",
        "ip2 = []\n",
        "ip3 = []\n",
        "ip4 = []\n",
        "for n1,n2,n3,n4 in ip_split:\n",
        "  ip1.append(n1)\n",
        "  ip2.append(n2)\n",
        "  ip3.append(n3)\n",
        "  ip4.append(n4)"
      ],
      "execution_count": null,
      "outputs": []
    },
    {
      "cell_type": "code",
      "metadata": {
        "id": "CjZxfNcuGJKq"
      },
      "source": [
        "df['ip_byte_1'] = ip1\n",
        "df['ip_byte_2'] = ip2\n",
        "df['ip_byte_3'] = ip3\n",
        "df['ip_byte_4'] = ip4"
      ],
      "execution_count": null,
      "outputs": []
    },
    {
      "cell_type": "code",
      "metadata": {
        "id": "wHXlOZEsG7A7"
      },
      "source": [
        "df.drop(['ip_add'], axis=1, inplace=True)"
      ],
      "execution_count": null,
      "outputs": []
    },
    {
      "cell_type": "code",
      "metadata": {
        "id": "g6srZQ1-HBd4"
      },
      "source": [
        "df['ip_byte_1'] = df['ip_byte_1'].astype('int')\n",
        "df['ip_byte_2'] = df['ip_byte_2'].astype('int')\n",
        "df['ip_byte_3'] = df['ip_byte_3'].astype('int')\n",
        "df['ip_byte_4'] = df['ip_byte_4'].astype('int')"
      ],
      "execution_count": null,
      "outputs": []
    },
    {
      "cell_type": "code",
      "metadata": {
        "colab": {
          "base_uri": "https://localhost:8080/",
          "height": 206
        },
        "id": "pHPph2BLHAZv",
        "outputId": "720b0387-79bd-4d59-9ead-71cbd528bb38"
      },
      "source": [
        "df.head()"
      ],
      "execution_count": null,
      "outputs": [
        {
          "output_type": "execute_result",
          "data": {
            "text/html": [
              "<div>\n",
              "<style scoped>\n",
              "    .dataframe tbody tr th:only-of-type {\n",
              "        vertical-align: middle;\n",
              "    }\n",
              "\n",
              "    .dataframe tbody tr th {\n",
              "        vertical-align: top;\n",
              "    }\n",
              "\n",
              "    .dataframe thead th {\n",
              "        text-align: right;\n",
              "    }\n",
              "</style>\n",
              "<table border=\"1\" class=\"dataframe\">\n",
              "  <thead>\n",
              "    <tr style=\"text-align: right;\">\n",
              "      <th></th>\n",
              "      <th>url_len</th>\n",
              "      <th>geo_loc</th>\n",
              "      <th>tld</th>\n",
              "      <th>who_is</th>\n",
              "      <th>https</th>\n",
              "      <th>js_len</th>\n",
              "      <th>content</th>\n",
              "      <th>label</th>\n",
              "      <th>cleaned_url</th>\n",
              "      <th>ip_byte_1</th>\n",
              "      <th>ip_byte_2</th>\n",
              "      <th>ip_byte_3</th>\n",
              "      <th>ip_byte_4</th>\n",
              "    </tr>\n",
              "  </thead>\n",
              "  <tbody>\n",
              "    <tr>\n",
              "      <th>0</th>\n",
              "      <td>36</td>\n",
              "      <td>41</td>\n",
              "      <td>135</td>\n",
              "      <td>0</td>\n",
              "      <td>1</td>\n",
              "      <td>38.5</td>\n",
              "      <td>Decay suggest in 1315.. Current constitution, ...</td>\n",
              "      <td>1</td>\n",
              "      <td>dutchthewiz freeware</td>\n",
              "      <td>175</td>\n",
              "      <td>67</td>\n",
              "      <td>214</td>\n",
              "      <td>68</td>\n",
              "    </tr>\n",
              "    <tr>\n",
              "      <th>1</th>\n",
              "      <td>32</td>\n",
              "      <td>187</td>\n",
              "      <td>135</td>\n",
              "      <td>1</td>\n",
              "      <td>1</td>\n",
              "      <td>187.0</td>\n",
              "      <td>breast addict nudger whash ky darkie catholics...</td>\n",
              "      <td>1</td>\n",
              "      <td>collectiblejewels</td>\n",
              "      <td>188</td>\n",
              "      <td>120</td>\n",
              "      <td>171</td>\n",
              "      <td>121</td>\n",
              "    </tr>\n",
              "    <tr>\n",
              "      <th>2</th>\n",
              "      <td>27</td>\n",
              "      <td>67</td>\n",
              "      <td>135</td>\n",
              "      <td>0</td>\n",
              "      <td>1</td>\n",
              "      <td>31.0</td>\n",
              "      <td>Nato's military stoic philosophy says to accep...</td>\n",
              "      <td>1</td>\n",
              "      <td>deadlinedata</td>\n",
              "      <td>193</td>\n",
              "      <td>51</td>\n",
              "      <td>170</td>\n",
              "      <td>1</td>\n",
              "    </tr>\n",
              "    <tr>\n",
              "      <th>3</th>\n",
              "      <td>56</td>\n",
              "      <td>11</td>\n",
              "      <td>274</td>\n",
              "      <td>0</td>\n",
              "      <td>1</td>\n",
              "      <td>152.0</td>\n",
              "      <td>Night being newton. according to the formation...</td>\n",
              "      <td>1</td>\n",
              "      <td>mil maavoimat kalustoesittely 00116 en dsp</td>\n",
              "      <td>13</td>\n",
              "      <td>237</td>\n",
              "      <td>35</td>\n",
              "      <td>44</td>\n",
              "    </tr>\n",
              "    <tr>\n",
              "      <th>4</th>\n",
              "      <td>40</td>\n",
              "      <td>41</td>\n",
              "      <td>135</td>\n",
              "      <td>0</td>\n",
              "      <td>1</td>\n",
              "      <td>150.0</td>\n",
              "      <td>34 per two children. if we exercise simple pra...</td>\n",
              "      <td>1</td>\n",
              "      <td>avclub content node 24539</td>\n",
              "      <td>220</td>\n",
              "      <td>193</td>\n",
              "      <td>62</td>\n",
              "      <td>89</td>\n",
              "    </tr>\n",
              "  </tbody>\n",
              "</table>\n",
              "</div>"
            ],
            "text/plain": [
              "   url_len  geo_loc  tld  who_is  ...  ip_byte_1  ip_byte_2 ip_byte_3  ip_byte_4\n",
              "0       36       41  135       0  ...        175         67       214         68\n",
              "1       32      187  135       1  ...        188        120       171        121\n",
              "2       27       67  135       0  ...        193         51       170          1\n",
              "3       56       11  274       0  ...         13        237        35         44\n",
              "4       40       41  135       0  ...        220        193        62         89\n",
              "\n",
              "[5 rows x 13 columns]"
            ]
          },
          "metadata": {},
          "execution_count": 134
        }
      ]
    },
    {
      "cell_type": "code",
      "metadata": {
        "colab": {
          "base_uri": "https://localhost:8080/"
        },
        "id": "cUVWCRBRHVYJ",
        "outputId": "56f604a1-af71-4a81-e9ed-63d1e96ff0ea"
      },
      "source": [
        "df.info()"
      ],
      "execution_count": null,
      "outputs": [
        {
          "output_type": "stream",
          "name": "stdout",
          "text": [
            "<class 'pandas.core.frame.DataFrame'>\n",
            "Int64Index: 349262 entries, 0 to 361933\n",
            "Data columns (total 13 columns):\n",
            " #   Column       Non-Null Count   Dtype  \n",
            "---  ------       --------------   -----  \n",
            " 0   url_len      349262 non-null  int64  \n",
            " 1   geo_loc      349262 non-null  int64  \n",
            " 2   tld          349262 non-null  int64  \n",
            " 3   who_is       349262 non-null  int64  \n",
            " 4   https        349262 non-null  int64  \n",
            " 5   js_len       349262 non-null  float64\n",
            " 6   content      349262 non-null  object \n",
            " 7   label        349262 non-null  int64  \n",
            " 8   cleaned_url  349262 non-null  object \n",
            " 9   ip_byte_1    349262 non-null  int64  \n",
            " 10  ip_byte_2    349262 non-null  int64  \n",
            " 11  ip_byte_3    349262 non-null  int64  \n",
            " 12  ip_byte_4    349262 non-null  int64  \n",
            "dtypes: float64(1), int64(10), object(2)\n",
            "memory usage: 37.3+ MB\n"
          ]
        }
      ]
    },
    {
      "cell_type": "code",
      "metadata": {
        "colab": {
          "base_uri": "https://localhost:8080/",
          "height": 394
        },
        "id": "g0kaoRU40yvM",
        "outputId": "fc2a45c4-1964-4722-d077-c78cb3a9e082"
      },
      "source": [
        "df.describe().T"
      ],
      "execution_count": null,
      "outputs": [
        {
          "output_type": "execute_result",
          "data": {
            "text/html": [
              "<div>\n",
              "<style scoped>\n",
              "    .dataframe tbody tr th:only-of-type {\n",
              "        vertical-align: middle;\n",
              "    }\n",
              "\n",
              "    .dataframe tbody tr th {\n",
              "        vertical-align: top;\n",
              "    }\n",
              "\n",
              "    .dataframe thead th {\n",
              "        text-align: right;\n",
              "    }\n",
              "</style>\n",
              "<table border=\"1\" class=\"dataframe\">\n",
              "  <thead>\n",
              "    <tr style=\"text-align: right;\">\n",
              "      <th></th>\n",
              "      <th>count</th>\n",
              "      <th>mean</th>\n",
              "      <th>std</th>\n",
              "      <th>min</th>\n",
              "      <th>25%</th>\n",
              "      <th>50%</th>\n",
              "      <th>75%</th>\n",
              "      <th>max</th>\n",
              "    </tr>\n",
              "  </thead>\n",
              "  <tbody>\n",
              "    <tr>\n",
              "      <th>url_len</th>\n",
              "      <td>349262.0</td>\n",
              "      <td>34.194891</td>\n",
              "      <td>10.934717</td>\n",
              "      <td>13.0</td>\n",
              "      <td>26.0</td>\n",
              "      <td>31.0</td>\n",
              "      <td>41.0</td>\n",
              "      <td>66.0</td>\n",
              "    </tr>\n",
              "    <tr>\n",
              "      <th>geo_loc</th>\n",
              "      <td>349262.0</td>\n",
              "      <td>145.954979</td>\n",
              "      <td>69.867571</td>\n",
              "      <td>0.0</td>\n",
              "      <td>73.0</td>\n",
              "      <td>187.0</td>\n",
              "      <td>206.0</td>\n",
              "      <td>216.0</td>\n",
              "    </tr>\n",
              "    <tr>\n",
              "      <th>tld</th>\n",
              "      <td>349262.0</td>\n",
              "      <td>242.517285</td>\n",
              "      <td>194.845736</td>\n",
              "      <td>0.0</td>\n",
              "      <td>135.0</td>\n",
              "      <td>135.0</td>\n",
              "      <td>221.0</td>\n",
              "      <td>819.0</td>\n",
              "    </tr>\n",
              "    <tr>\n",
              "      <th>who_is</th>\n",
              "      <td>349262.0</td>\n",
              "      <td>0.215721</td>\n",
              "      <td>0.411322</td>\n",
              "      <td>0.0</td>\n",
              "      <td>0.0</td>\n",
              "      <td>0.0</td>\n",
              "      <td>0.0</td>\n",
              "      <td>1.0</td>\n",
              "    </tr>\n",
              "    <tr>\n",
              "      <th>https</th>\n",
              "      <td>349262.0</td>\n",
              "      <td>0.782851</td>\n",
              "      <td>0.412306</td>\n",
              "      <td>0.0</td>\n",
              "      <td>1.0</td>\n",
              "      <td>1.0</td>\n",
              "      <td>1.0</td>\n",
              "      <td>1.0</td>\n",
              "    </tr>\n",
              "    <tr>\n",
              "      <th>js_len</th>\n",
              "      <td>349262.0</td>\n",
              "      <td>118.920830</td>\n",
              "      <td>89.982912</td>\n",
              "      <td>0.0</td>\n",
              "      <td>66.0</td>\n",
              "      <td>112.0</td>\n",
              "      <td>158.0</td>\n",
              "      <td>854.1</td>\n",
              "    </tr>\n",
              "    <tr>\n",
              "      <th>label</th>\n",
              "      <td>349262.0</td>\n",
              "      <td>0.977793</td>\n",
              "      <td>0.147356</td>\n",
              "      <td>0.0</td>\n",
              "      <td>1.0</td>\n",
              "      <td>1.0</td>\n",
              "      <td>1.0</td>\n",
              "      <td>1.0</td>\n",
              "    </tr>\n",
              "    <tr>\n",
              "      <th>ip_byte_1</th>\n",
              "      <td>349262.0</td>\n",
              "      <td>111.773124</td>\n",
              "      <td>64.292127</td>\n",
              "      <td>1.0</td>\n",
              "      <td>56.0</td>\n",
              "      <td>111.0</td>\n",
              "      <td>167.0</td>\n",
              "      <td>223.0</td>\n",
              "    </tr>\n",
              "    <tr>\n",
              "      <th>ip_byte_2</th>\n",
              "      <td>349262.0</td>\n",
              "      <td>124.803958</td>\n",
              "      <td>71.953405</td>\n",
              "      <td>1.0</td>\n",
              "      <td>63.0</td>\n",
              "      <td>123.0</td>\n",
              "      <td>187.0</td>\n",
              "      <td>249.0</td>\n",
              "    </tr>\n",
              "    <tr>\n",
              "      <th>ip_byte_3</th>\n",
              "      <td>349262.0</td>\n",
              "      <td>125.069584</td>\n",
              "      <td>71.904248</td>\n",
              "      <td>1.0</td>\n",
              "      <td>63.0</td>\n",
              "      <td>124.0</td>\n",
              "      <td>187.0</td>\n",
              "      <td>249.0</td>\n",
              "    </tr>\n",
              "    <tr>\n",
              "      <th>ip_byte_4</th>\n",
              "      <td>349262.0</td>\n",
              "      <td>125.012773</td>\n",
              "      <td>71.910271</td>\n",
              "      <td>1.0</td>\n",
              "      <td>63.0</td>\n",
              "      <td>124.0</td>\n",
              "      <td>187.0</td>\n",
              "      <td>249.0</td>\n",
              "    </tr>\n",
              "  </tbody>\n",
              "</table>\n",
              "</div>"
            ],
            "text/plain": [
              "              count        mean         std   min    25%    50%    75%    max\n",
              "url_len    349262.0   34.194891   10.934717  13.0   26.0   31.0   41.0   66.0\n",
              "geo_loc    349262.0  145.954979   69.867571   0.0   73.0  187.0  206.0  216.0\n",
              "tld        349262.0  242.517285  194.845736   0.0  135.0  135.0  221.0  819.0\n",
              "who_is     349262.0    0.215721    0.411322   0.0    0.0    0.0    0.0    1.0\n",
              "https      349262.0    0.782851    0.412306   0.0    1.0    1.0    1.0    1.0\n",
              "js_len     349262.0  118.920830   89.982912   0.0   66.0  112.0  158.0  854.1\n",
              "label      349262.0    0.977793    0.147356   0.0    1.0    1.0    1.0    1.0\n",
              "ip_byte_1  349262.0  111.773124   64.292127   1.0   56.0  111.0  167.0  223.0\n",
              "ip_byte_2  349262.0  124.803958   71.953405   1.0   63.0  123.0  187.0  249.0\n",
              "ip_byte_3  349262.0  125.069584   71.904248   1.0   63.0  124.0  187.0  249.0\n",
              "ip_byte_4  349262.0  125.012773   71.910271   1.0   63.0  124.0  187.0  249.0"
            ]
          },
          "metadata": {},
          "execution_count": 139
        }
      ]
    },
    {
      "cell_type": "code",
      "metadata": {
        "colab": {
          "base_uri": "https://localhost:8080/"
        },
        "id": "AfnPRtbUIzfk",
        "outputId": "731923db-8410-4e58-9e3b-46e9cd790134"
      },
      "source": [
        "for index,i in tqdm(enumerate(df['content'])):\n",
        "  ps = PorterStemmer()\n",
        "  stopword = stopwords.words('english')\n",
        "  result = []\n",
        "  for j in i.split():\n",
        "    j = j.lower()\n",
        "    j = ps.stem(j)\n",
        "    if j not in stopword and j.isalnum():\n",
        "      result.append(j)\n",
        "  word = \" \".join(result)\n",
        "  df['content'][index] = word \n"
      ],
      "execution_count": null,
      "outputs": [
        {
          "output_type": "stream",
          "name": "stderr",
          "text": [
            "0it [00:00, ?it/s]/usr/local/lib/python3.7/dist-packages/ipykernel_launcher.py:11: SettingWithCopyWarning:\n",
            "\n",
            "\n",
            "A value is trying to be set on a copy of a slice from a DataFrame\n",
            "\n",
            "See the caveats in the documentation: https://pandas.pydata.org/pandas-docs/stable/user_guide/indexing.html#returning-a-view-versus-a-copy\n",
            "\n",
            "349262it [1:28:41, 65.63it/s]\n"
          ]
        }
      ]
    },
    {
      "cell_type": "code",
      "metadata": {
        "id": "Gbu7waYK-tjn"
      },
      "source": [
        "df.to_csv('cleaned_data_2.csv')"
      ],
      "execution_count": null,
      "outputs": []
    },
    {
      "cell_type": "markdown",
      "metadata": {
        "id": "ZWOv4y14tbcZ"
      },
      "source": [
        "## Model Creation"
      ]
    },
    {
      "cell_type": "code",
      "metadata": {
        "id": "y3n4ElGur17W"
      },
      "source": [
        "cleaned_df=pd.read_csv('/content/drive/MyDrive/FDS/cleaned_data_2.csv')"
      ],
      "execution_count": null,
      "outputs": []
    },
    {
      "cell_type": "code",
      "metadata": {
        "colab": {
          "base_uri": "https://localhost:8080/",
          "height": 345
        },
        "id": "6KEm85WESD3E",
        "outputId": "7caecd5f-a4b8-4bcb-a5a5-be0c538db9f9"
      },
      "source": [
        "cleaned_df.drop(['Unnamed: 0'], axis=1, inplace=True)\n",
        "cleaned_df.head()"
      ],
      "execution_count": null,
      "outputs": [
        {
          "output_type": "execute_result",
          "data": {
            "text/html": [
              "<div>\n",
              "<style scoped>\n",
              "    .dataframe tbody tr th:only-of-type {\n",
              "        vertical-align: middle;\n",
              "    }\n",
              "\n",
              "    .dataframe tbody tr th {\n",
              "        vertical-align: top;\n",
              "    }\n",
              "\n",
              "    .dataframe thead th {\n",
              "        text-align: right;\n",
              "    }\n",
              "</style>\n",
              "<table border=\"1\" class=\"dataframe\">\n",
              "  <thead>\n",
              "    <tr style=\"text-align: right;\">\n",
              "      <th></th>\n",
              "      <th>url_len</th>\n",
              "      <th>geo_loc</th>\n",
              "      <th>tld</th>\n",
              "      <th>who_is</th>\n",
              "      <th>https</th>\n",
              "      <th>js_len</th>\n",
              "      <th>content</th>\n",
              "      <th>label</th>\n",
              "      <th>cleaned_url</th>\n",
              "      <th>ip_byte_1</th>\n",
              "      <th>ip_byte_2</th>\n",
              "      <th>ip_byte_3</th>\n",
              "      <th>ip_byte_4</th>\n",
              "    </tr>\n",
              "  </thead>\n",
              "  <tbody>\n",
              "    <tr>\n",
              "      <th>0</th>\n",
              "      <td>36</td>\n",
              "      <td>41</td>\n",
              "      <td>135</td>\n",
              "      <td>0</td>\n",
              "      <td>1</td>\n",
              "      <td>38.5</td>\n",
              "      <td>decay suggest current cathedr school oop highl...</td>\n",
              "      <td>1</td>\n",
              "      <td>dutchthewiz freeware</td>\n",
              "      <td>175</td>\n",
              "      <td>67</td>\n",
              "      <td>214</td>\n",
              "      <td>68</td>\n",
              "    </tr>\n",
              "    <tr>\n",
              "      <th>1</th>\n",
              "      <td>32</td>\n",
              "      <td>187</td>\n",
              "      <td>135</td>\n",
              "      <td>1</td>\n",
              "      <td>1</td>\n",
              "      <td>187.0</td>\n",
              "      <td>breast addict nudger whash ky darki cathol but...</td>\n",
              "      <td>1</td>\n",
              "      <td>collectiblejewels</td>\n",
              "      <td>188</td>\n",
              "      <td>120</td>\n",
              "      <td>171</td>\n",
              "      <td>121</td>\n",
              "    </tr>\n",
              "    <tr>\n",
              "      <th>2</th>\n",
              "      <td>27</td>\n",
              "      <td>67</td>\n",
              "      <td>135</td>\n",
              "      <td>0</td>\n",
              "      <td>1</td>\n",
              "      <td>31.0</td>\n",
              "      <td>militari stoic philosophi say accept american ...</td>\n",
              "      <td>1</td>\n",
              "      <td>deadlinedata</td>\n",
              "      <td>193</td>\n",
              "      <td>51</td>\n",
              "      <td>170</td>\n",
              "      <td>1</td>\n",
              "    </tr>\n",
              "    <tr>\n",
              "      <th>3</th>\n",
              "      <td>56</td>\n",
              "      <td>11</td>\n",
              "      <td>274</td>\n",
              "      <td>0</td>\n",
              "      <td>1</td>\n",
              "      <td>152.0</td>\n",
              "      <td>night accord format transform danish literatur...</td>\n",
              "      <td>1</td>\n",
              "      <td>mil maavoimat kalustoesittely 00116 en dsp</td>\n",
              "      <td>13</td>\n",
              "      <td>237</td>\n",
              "      <td>35</td>\n",
              "      <td>44</td>\n",
              "    </tr>\n",
              "    <tr>\n",
              "      <th>4</th>\n",
              "      <td>40</td>\n",
              "      <td>41</td>\n",
              "      <td>135</td>\n",
              "      <td>0</td>\n",
              "      <td>1</td>\n",
              "      <td>150.0</td>\n",
              "      <td>34 per two exercis simpl practic collid atom c...</td>\n",
              "      <td>1</td>\n",
              "      <td>avclub content node 24539</td>\n",
              "      <td>220</td>\n",
              "      <td>193</td>\n",
              "      <td>62</td>\n",
              "      <td>89</td>\n",
              "    </tr>\n",
              "  </tbody>\n",
              "</table>\n",
              "</div>"
            ],
            "text/plain": [
              "   url_len  geo_loc  tld  who_is  ...  ip_byte_1  ip_byte_2 ip_byte_3  ip_byte_4\n",
              "0       36       41  135       0  ...        175         67       214         68\n",
              "1       32      187  135       1  ...        188        120       171        121\n",
              "2       27       67  135       0  ...        193         51       170          1\n",
              "3       56       11  274       0  ...         13        237        35         44\n",
              "4       40       41  135       0  ...        220        193        62         89\n",
              "\n",
              "[5 rows x 13 columns]"
            ]
          },
          "metadata": {},
          "execution_count": 23
        }
      ]
    },
    {
      "cell_type": "code",
      "metadata": {
        "colab": {
          "base_uri": "https://localhost:8080/"
        },
        "id": "o8959q6M__IV",
        "outputId": "29dd44e5-58d8-46c5-ebfa-d8ce501d0001"
      },
      "source": [
        "cleaned_df.isnull().sum()"
      ],
      "execution_count": null,
      "outputs": [
        {
          "output_type": "execute_result",
          "data": {
            "text/plain": [
              "url_len        0\n",
              "geo_loc        0\n",
              "tld            0\n",
              "who_is         0\n",
              "https          0\n",
              "js_len         0\n",
              "content        2\n",
              "label          0\n",
              "cleaned_url    0\n",
              "ip_byte_1      0\n",
              "ip_byte_2      0\n",
              "ip_byte_3      0\n",
              "ip_byte_4      0\n",
              "dtype: int64"
            ]
          },
          "metadata": {},
          "execution_count": 24
        }
      ]
    },
    {
      "cell_type": "code",
      "metadata": {
        "id": "IEHOlL_6r7Rr"
      },
      "source": [
        "cleaned_df.dropna(inplace=True)"
      ],
      "execution_count": null,
      "outputs": []
    },
    {
      "cell_type": "code",
      "metadata": {
        "id": "JP3HNA3li4Cv"
      },
      "source": [
        "cv_cont=CountVectorizer(max_features=500)\n",
        "x_cont=cv_cont.fit_transform(cleaned_df['content']).toarray()\n",
        "\n",
        "cv_url=CountVectorizer(max_features=500)\n",
        "x_url=cv_url.fit_transform(cleaned_df['cleaned_url']).toarray()"
      ],
      "execution_count": null,
      "outputs": []
    },
    {
      "cell_type": "code",
      "metadata": {
        "id": "pQz5uptwlvRf"
      },
      "source": [
        "cols = ['url_len','geo_loc','tld','who_is','https','js_len','ip_byte_1','ip_byte_2','ip_byte_3','ip_byte_4']\n",
        "X = cleaned_df.loc[:, cols].values\n",
        "y = cleaned_df['label'].values"
      ],
      "execution_count": null,
      "outputs": []
    },
    {
      "cell_type": "code",
      "metadata": {
        "id": "tW8sC8MKofmY"
      },
      "source": [
        "X=np.concatenate((X,x_url,x_cont),1)"
      ],
      "execution_count": null,
      "outputs": []
    },
    {
      "cell_type": "code",
      "metadata": {
        "id": "HjtX7RLIRnRg"
      },
      "source": [
        "X_train, X_test, y_train, y_test = train_test_split(X, y, test_size = 0.2, stratify = y)"
      ],
      "execution_count": null,
      "outputs": []
    },
    {
      "cell_type": "code",
      "metadata": {
        "id": "FuWysVcoUTSF"
      },
      "source": [
        "sc = StandardScaler()\n",
        "X_train[:,[0,1,2,5,6,7,8,9]] = sc.fit_transform(X_train[:,[0,1,2,5,6,7,8,9]])\n",
        "X_test[:,[0,1,2,5,6,7,8,9]] = sc.transform(X_test[:,[0,1,2,5,6,7,8,9]])"
      ],
      "execution_count": null,
      "outputs": []
    },
    {
      "cell_type": "markdown",
      "metadata": {
        "id": "ND8PK8k32BhP"
      },
      "source": [
        "## Model Creation"
      ]
    },
    {
      "cell_type": "markdown",
      "metadata": {
        "id": "_N0emiXg2eGB"
      },
      "source": [
        "### Naive Bayes Classifier"
      ]
    },
    {
      "cell_type": "code",
      "metadata": {
        "id": "Ci5Bjpg02Ayt",
        "colab": {
          "base_uri": "https://localhost:8080/"
        },
        "outputId": "f5cee713-4a6c-484b-cadb-11dd422da7f7"
      },
      "source": [
        "nb = GaussianNB()\n",
        "\n",
        "nb.fit(X_train,y_train)\n",
        "nb_pred = nb.predict(X_test)\n",
        "accuracy_nb = accuracy_score(nb_pred,y_test)\n",
        "\n",
        "print(accuracy_nb)"
      ],
      "execution_count": null,
      "outputs": [
        {
          "output_type": "stream",
          "name": "stdout",
          "text": [
            "0.21256370612151407\n"
          ]
        }
      ]
    },
    {
      "cell_type": "code",
      "metadata": {
        "colab": {
          "base_uri": "https://localhost:8080/"
        },
        "id": "Pg-ozSl8JLuu",
        "outputId": "e2029124-6ff3-43a8-ed60-af1882306f7e"
      },
      "source": [
        "print(classification_report(nb_pred,y_test))"
      ],
      "execution_count": null,
      "outputs": [
        {
          "output_type": "stream",
          "name": "stdout",
          "text": [
            "              precision    recall  f1-score   support\n",
            "\n",
            "           0       0.98      0.03      0.05     56507\n",
            "           1       0.20      1.00      0.33     13345\n",
            "\n",
            "    accuracy                           0.21     69852\n",
            "   macro avg       0.59      0.51      0.19     69852\n",
            "weighted avg       0.83      0.21      0.10     69852\n",
            "\n"
          ]
        }
      ]
    },
    {
      "cell_type": "code",
      "metadata": {
        "id": "lebpUt7wNimp",
        "colab": {
          "base_uri": "https://localhost:8080/"
        },
        "outputId": "b2673f00-7d1e-4f64-9782-2dc49338a7ef"
      },
      "source": [
        "accuracies = cross_val_score(estimator = nb, X = X_train, y = y_train, cv = 5)\n",
        "print(\"Accuracy: {:.2f} %\".format(accuracies.mean()*100))\n",
        "print(\"Standard Deviation: {:.2f} %\".format(accuracies.std()*100))\n",
        "accuracies"
      ],
      "execution_count": null,
      "outputs": [
        {
          "output_type": "stream",
          "name": "stdout",
          "text": [
            "Accuracy: 21.18 %\n",
            "Standard Deviation: 0.23 %\n"
          ]
        },
        {
          "output_type": "execute_result",
          "data": {
            "text/plain": [
              "array([0.20772342, 0.21185713, 0.21495294, 0.21189671, 0.21273778])"
            ]
          },
          "metadata": {},
          "execution_count": 34
        }
      ]
    },
    {
      "cell_type": "code",
      "metadata": {
        "id": "VjXuHc4LC_a2",
        "colab": {
          "base_uri": "https://localhost:8080/",
          "height": 351
        },
        "outputId": "1cdbd6f3-9889-4993-8af2-0e48da2fb971"
      },
      "source": [
        "cm = confusion_matrix(y_test, nb_pred)\n",
        "df_cm = pd.DataFrame(cm, index = ['bad','good'], columns = ['bad','good'])\n",
        "df_cm.index.name = 'Actual'\n",
        "df_cm.columns.name = 'Predicted'\n",
        "plt.figure(figsize = (5,5))\n",
        "sns.heatmap(df_cm, annot=True, fmt=\"d\", cbar=False)"
      ],
      "execution_count": null,
      "outputs": [
        {
          "output_type": "execute_result",
          "data": {
            "text/plain": [
              "<matplotlib.axes._subplots.AxesSubplot at 0x7fd5e1b41f90>"
            ]
          },
          "metadata": {},
          "execution_count": 35
        },
        {
          "output_type": "display_data",
          "data": {
            "image/png": "[encoded data removed]",
            "text/plain": [
              "<Figure size 360x360 with 1 Axes>"
            ]
          },
          "metadata": {
            "needs_background": "light"
          }
        }
      ]
    },
    {
      "cell_type": "markdown",
      "metadata": {
        "id": "azrGGXwCLzLd"
      },
      "source": [
        "### KNN"
      ]
    },
    {
      "cell_type": "code",
      "metadata": {
        "id": "VGynqcBMbprK"
      },
      "source": [
        "classifier = KNeighborsClassifier(n_neighbors = 5, metric = 'minkowski', p = 2)\n",
        "classifier.fit(X_train, y_train)\n",
        "pred = classifier.predict(X_test)\n",
        "acc_knn = accuracy_score(y_test, pred)"
      ],
      "execution_count": null,
      "outputs": []
    },
    {
      "cell_type": "code",
      "metadata": {
        "colab": {
          "base_uri": "https://localhost:8080/"
        },
        "id": "l85pTtm5JeTA",
        "outputId": "780fc316-b426-41e7-9b9c-1a4a0b1ccbea"
      },
      "source": [
        "print(classification_report(pred,y_test))"
      ],
      "execution_count": null,
      "outputs": [
        {
          "output_type": "stream",
          "name": "stdout",
          "text": [
            "              precision    recall  f1-score   support\n",
            "\n",
            "           0       0.80      1.00      0.89      1244\n",
            "           1       1.00      1.00      1.00     68608\n",
            "\n",
            "    accuracy                           1.00     69852\n",
            "   macro avg       0.90      1.00      0.94     69852\n",
            "weighted avg       1.00      1.00      1.00     69852\n",
            "\n"
          ]
        }
      ]
    },
    {
      "cell_type": "code",
      "metadata": {
        "colab": {
          "base_uri": "https://localhost:8080/"
        },
        "id": "VPQCdXvYfiIN",
        "outputId": "eed7ef82-6502-491e-c5c7-f793ae14fa80"
      },
      "source": [
        "acc_knn"
      ],
      "execution_count": null,
      "outputs": [
        {
          "output_type": "execute_result",
          "data": {
            "text/plain": [
              "0.995461833591021"
            ]
          },
          "metadata": {},
          "execution_count": 13
        }
      ]
    },
    {
      "cell_type": "code",
      "metadata": {
        "id": "1PPlNoOoMJx5",
        "colab": {
          "base_uri": "https://localhost:8080/",
          "height": 351
        },
        "outputId": "0ed74b45-f472-40d5-b156-15f7b85aa2d0"
      },
      "source": [
        "cm = confusion_matrix(y_test, pred)\n",
        "df_cm = pd.DataFrame(cm, index = ['bad','good'], columns = ['bad','good'])\n",
        "df_cm.index.name = 'Actual'\n",
        "df_cm.columns.name = 'Predicted'\n",
        "plt.figure(figsize = (5,5))\n",
        "sns.heatmap(df_cm, annot=True, fmt=\"d\", cbar=False)"
      ],
      "execution_count": null,
      "outputs": [
        {
          "output_type": "execute_result",
          "data": {
            "text/plain": [
              "<matplotlib.axes._subplots.AxesSubplot at 0x7f5afd4ccc50>"
            ]
          },
          "metadata": {},
          "execution_count": 27
        },
        {
          "output_type": "display_data",
          "data": {
            "image/png": "[encoded data removed]",
            "text/plain": [
              "<Figure size 360x360 with 1 Axes>"
            ]
          },
          "metadata": {
            "needs_background": "light"
          }
        }
      ]
    },
    {
      "cell_type": "code",
      "metadata": {
        "id": "j8nJIxm4NtN8",
        "colab": {
          "base_uri": "https://localhost:8080/"
        },
        "outputId": "a0c5daab-9fdb-478e-9ff7-18e1dd5fcbf4"
      },
      "source": [
        "accuracies = cross_val_score(estimator = classifier, X = X_train, y = y_train, cv = 5)\n",
        "print(\"Accuracy: {:.2f} %\".format(accuracies.mean()*100))\n",
        "print(\"Standard Deviation: {:.2f} %\".format(accuracies.std()*100))\n",
        "accuracies"
      ],
      "execution_count": null,
      "outputs": [
        {
          "output_type": "stream",
          "name": "stdout",
          "text": [
            "Accuracy: 99.55 %\n",
            "Standard Deviation: 0.03 %\n"
          ]
        },
        {
          "output_type": "execute_result",
          "data": {
            "text/plain": [
              "array([0.99591997, 0.99527576, 0.99536523, 0.99513251, 0.99583043])"
            ]
          },
          "metadata": {},
          "execution_count": 28
        }
      ]
    },
    {
      "cell_type": "markdown",
      "metadata": {
        "id": "CNUauZmJMMrd"
      },
      "source": [
        "### Logistic Regression"
      ]
    },
    {
      "cell_type": "code",
      "metadata": {
        "id": "SMAfu-hBMe5Q"
      },
      "source": [
        "LR = LogisticRegression(max_iter=1000,random_state=0, \n",
        "                           solver='sag')\n",
        "LR.fit(X_train, y_train)"
      ],
      "execution_count": null,
      "outputs": []
    },
    {
      "cell_type": "code",
      "metadata": {
        "colab": {
          "base_uri": "https://localhost:8080/"
        },
        "id": "nlaYZ-rO-23q",
        "outputId": "cdf9fef9-c382-4eb4-ab89-9588576870ca"
      },
      "source": [
        "LR_pred = LR.predict(X_test)\n",
        "logistic_accuracy=accuracy_score(y_test, LR_pred)\n",
        "print(\"Accuracy:\",logistic_accuracy)"
      ],
      "execution_count": null,
      "outputs": [
        {
          "output_type": "stream",
          "name": "stdout",
          "text": [
            "Accuracy: 0.9985540857813663\n"
          ]
        }
      ]
    },
    {
      "cell_type": "code",
      "metadata": {
        "id": "tPom36oBMlhM",
        "colab": {
          "base_uri": "https://localhost:8080/",
          "height": 351
        },
        "outputId": "121cdfdf-8562-4750-9ac7-a246d077a5fe"
      },
      "source": [
        "cm = confusion_matrix(y_test, LR_pred)\n",
        "df_cm = pd.DataFrame(cm, index = ['bad','good'], columns = ['bad','good'])\n",
        "df_cm.index.name = 'Actual'\n",
        "df_cm.columns.name = 'Predicted'\n",
        "plt.figure(figsize = (5,5))\n",
        "sns.heatmap(df_cm, annot=True, fmt=\"d\", cbar=False)"
      ],
      "execution_count": null,
      "outputs": [
        {
          "output_type": "execute_result",
          "data": {
            "text/plain": [
              "<matplotlib.axes._subplots.AxesSubplot at 0x7f23e2ad5490>"
            ]
          },
          "metadata": {},
          "execution_count": 22
        },
        {
          "output_type": "display_data",
          "data": {
            "image/png": "[encoded data removed]",
            "text/plain": [
              "<Figure size 360x360 with 1 Axes>"
            ]
          },
          "metadata": {
            "needs_background": "light"
          }
        }
      ]
    },
    {
      "cell_type": "code",
      "metadata": {
        "id": "PI_DOH3qOrcY",
        "colab": {
          "base_uri": "https://localhost:8080/"
        },
        "outputId": "50989129-7a0f-4c08-e923-363945c80ff8"
      },
      "source": [
        "accuracies = cross_val_score(estimator = LR, X = X_train, y = y_train, cv = 5)\n",
        "print(\"Accuracy: {:.2f} %\".format(accuracies.mean()*100))\n",
        "print(\"Standard Deviation: {:.2f} %\".format(accuracies.std()*100))\n",
        "accuracies"
      ],
      "execution_count": null,
      "outputs": [
        {
          "output_type": "stream",
          "name": "stdout",
          "text": [
            "Accuracy: 99.82 %\n",
            "Standard Deviation: 0.02 %\n"
          ]
        },
        {
          "output_type": "execute_result",
          "data": {
            "text/plain": [
              "array([0.99831788, 0.99794209, 0.99831788, 0.99817469, 0.99840733])"
            ]
          },
          "metadata": {},
          "execution_count": 25
        }
      ]
    },
    {
      "cell_type": "markdown",
      "metadata": {
        "id": "a-Dy4f7oMrKA"
      },
      "source": [
        "### Decision Tree"
      ]
    },
    {
      "cell_type": "code",
      "metadata": {
        "id": "kphnUz7QMui0",
        "colab": {
          "base_uri": "https://localhost:8080/"
        },
        "outputId": "ba5defcc-87a6-4937-fe8e-56fa501f0800"
      },
      "source": [
        "tree = DecisionTreeClassifier(criterion = 'entropy', random_state = 10)\n",
        "tree.fit(X_train, y_train)\n",
        "DT_pred = tree.predict(X_test)\n",
        "tree_accuracy=accuracy_score(y_test, DT_pred)\n",
        "print(\"Accuracy:\",tree_accuracy)"
      ],
      "execution_count": null,
      "outputs": [
        {
          "output_type": "stream",
          "name": "stdout",
          "text": [
            "Accuracy: 0.9987831414991697\n"
          ]
        }
      ]
    },
    {
      "cell_type": "code",
      "metadata": {
        "colab": {
          "base_uri": "https://localhost:8080/"
        },
        "id": "9MclHu1PJlsQ",
        "outputId": "7679c712-74d6-4c61-d252-99c7be709391"
      },
      "source": [
        "print(classification_report(DT_pred,y_test))"
      ],
      "execution_count": null,
      "outputs": [
        {
          "output_type": "stream",
          "name": "stdout",
          "text": [
            "              precision    recall  f1-score   support\n",
            "\n",
            "           0       0.97      0.98      0.97      1536\n",
            "           1       1.00      1.00      1.00     68316\n",
            "\n",
            "    accuracy                           1.00     69852\n",
            "   macro avg       0.98      0.99      0.99     69852\n",
            "weighted avg       1.00      1.00      1.00     69852\n",
            "\n"
          ]
        }
      ]
    },
    {
      "cell_type": "code",
      "metadata": {
        "id": "7-pzuXUoMxvr",
        "colab": {
          "base_uri": "https://localhost:8080/",
          "height": 351
        },
        "outputId": "126c6ca7-b766-4f47-eab4-2b2b84241254"
      },
      "source": [
        "cm = confusion_matrix(y_test, DT_pred)\n",
        "df_cm = pd.DataFrame(cm, index = ['bad','good'], columns = ['bad','good'])\n",
        "df_cm.index.name = 'Actual'\n",
        "df_cm.columns.name = 'Predicted'\n",
        "plt.figure(figsize = (5,5))\n",
        "sns.heatmap(df_cm, annot=True, fmt=\"d\", cbar=False)"
      ],
      "execution_count": null,
      "outputs": [
        {
          "output_type": "execute_result",
          "data": {
            "text/plain": [
              "<matplotlib.axes._subplots.AxesSubplot at 0x7f5afceb8950>"
            ]
          },
          "metadata": {},
          "execution_count": 25
        },
        {
          "output_type": "display_data",
          "data": {
            "image/png": "[encoded data removed]",
            "text/plain": [
              "<Figure size 360x360 with 1 Axes>"
            ]
          },
          "metadata": {
            "needs_background": "light"
          }
        }
      ]
    },
    {
      "cell_type": "code",
      "metadata": {
        "id": "XrtpdG-FOvCQ",
        "colab": {
          "base_uri": "https://localhost:8080/"
        },
        "outputId": "35249f95-fe19-4fa9-dff0-4fdbbc1ded66"
      },
      "source": [
        "accuracies = cross_val_score(estimator = tree, X = X_train, y = y_train, cv = 5)\n",
        "print(\"Accuracy: {:.2f} %\".format(accuracies.mean()*100))\n",
        "print(\"Standard Deviation: {:.2f} %\".format(accuracies.std()*100))\n",
        "accuracies"
      ],
      "execution_count": null,
      "outputs": [
        {
          "output_type": "stream",
          "name": "stdout",
          "text": [
            "Accuracy: 99.87 %\n",
            "Standard Deviation: 0.01 %\n"
          ]
        },
        {
          "output_type": "execute_result",
          "data": {
            "text/plain": [
              "array([0.99883683, 0.99871157, 0.99847894, 0.99872944, 0.99871155])"
            ]
          },
          "metadata": {},
          "execution_count": 26
        }
      ]
    },
    {
      "cell_type": "markdown",
      "metadata": {
        "id": "-PV3iPnaH1JB"
      },
      "source": [
        "### Random Forest Classifier"
      ]
    },
    {
      "cell_type": "code",
      "metadata": {
        "id": "apgmgBkGO_gc",
        "colab": {
          "base_uri": "https://localhost:8080/"
        },
        "outputId": "21729e91-6f13-4ac6-f4db-899358a95a17"
      },
      "source": [
        "Rtree = RandomForestClassifier(criterion = 'entropy', random_state = 5)\n",
        "Rtree.fit(X_train, y_train)\n",
        "RT_pred = Rtree.predict(X_test)\n",
        "tree_accuracy=accuracy_score(y_test, RT_pred)\n",
        "print(\"Accuracy:\",tree_accuracy)"
      ],
      "execution_count": null,
      "outputs": [
        {
          "output_type": "stream",
          "name": "stdout",
          "text": [
            "Accuracy: 0.998969249269885\n"
          ]
        }
      ]
    },
    {
      "cell_type": "code",
      "metadata": {
        "colab": {
          "base_uri": "https://localhost:8080/"
        },
        "id": "MpEQbTj2JrgZ",
        "outputId": "1c3bb5e3-e582-4044-bb38-3f0de782812f"
      },
      "source": [
        "print(classification_report(RT_pred,y_test))"
      ],
      "execution_count": null,
      "outputs": [
        {
          "output_type": "stream",
          "name": "stdout",
          "text": [
            "              precision    recall  f1-score   support\n",
            "\n",
            "           0       0.95      1.00      0.98      1479\n",
            "           1       1.00      1.00      1.00     68373\n",
            "\n",
            "    accuracy                           1.00     69852\n",
            "   macro avg       0.98      1.00      0.99     69852\n",
            "weighted avg       1.00      1.00      1.00     69852\n",
            "\n"
          ]
        }
      ]
    },
    {
      "cell_type": "code",
      "metadata": {
        "colab": {
          "base_uri": "https://localhost:8080/",
          "height": 351
        },
        "id": "TPBWFDaMHykY",
        "outputId": "be6b5d26-5ec3-4468-bcdf-50be9b6a5f38"
      },
      "source": [
        "cm = confusion_matrix(y_test, RT_pred)\n",
        "df_cm = pd.DataFrame(cm, index = ['bad','good'], columns = ['bad','good'])\n",
        "df_cm.index.name = 'Actual'\n",
        "df_cm.columns.name = 'Predicted'\n",
        "plt.figure(figsize = (5,5))\n",
        "sns.heatmap(df_cm, annot=True, fmt=\"d\", cbar=False)"
      ],
      "execution_count": null,
      "outputs": [
        {
          "output_type": "execute_result",
          "data": {
            "text/plain": [
              "<matplotlib.axes._subplots.AxesSubplot at 0x7f32e06cc390>"
            ]
          },
          "metadata": {},
          "execution_count": 13
        },
        {
          "output_type": "display_data",
          "data": {
            "image/png": "[encoded data removed]",
            "text/plain": [
              "<Figure size 360x360 with 1 Axes>"
            ]
          },
          "metadata": {
            "needs_background": "light"
          }
        }
      ]
    },
    {
      "cell_type": "code",
      "metadata": {
        "colab": {
          "base_uri": "https://localhost:8080/"
        },
        "id": "TPbUfUN1H0Oh",
        "outputId": "a6018fe1-712a-44a4-ad7e-120752b4ce49"
      },
      "source": [
        "accuracies = cross_val_score(estimator = Rtree, X = X_train, y = y_train, cv = 5)\n",
        "print(\"Accuracy: {:.2f} %\".format(accuracies.mean()*100))\n",
        "print(\"Standard Deviation: {:.2f} %\".format(accuracies.std()*100))\n",
        "accuracies"
      ],
      "execution_count": null,
      "outputs": [
        {
          "output_type": "stream",
          "name": "stdout",
          "text": [
            "Accuracy: 99.90 %\n",
            "Standard Deviation: 0.01 %\n"
          ]
        },
        {
          "output_type": "execute_result",
          "data": {
            "text/plain": [
              "array([0.9989621 , 0.9989442 , 0.99917684, 0.99906945, 0.99896208])"
            ]
          },
          "metadata": {},
          "execution_count": 14
        }
      ]
    },
    {
      "cell_type": "markdown",
      "metadata": {
        "id": "LJP7keWaDzDa"
      },
      "source": [
        "## Comparison Graph"
      ]
    },
    {
      "cell_type": "code",
      "metadata": {
        "colab": {
          "base_uri": "https://localhost:8080/",
          "height": 206
        },
        "id": "JxmCQrZ5DaAr",
        "outputId": "bdd57e01-87a7-49be-92ef-e55fe4f4337d"
      },
      "source": [
        "model = ['NAIVE BAYES', 'KNN', 'LOGISTIC REGRESSION','DECISION TREE','RANDOM FOREST']\n",
        "acc = ['21.2563','99.5461','99.8554','99.8783','99.8969']\n",
        "data = pd.DataFrame(acc, index=model, columns=['Accuracy'])\n",
        "data"
      ],
      "execution_count": null,
      "outputs": [
        {
          "output_type": "execute_result",
          "data": {
            "text/html": [
              "<div>\n",
              "<style scoped>\n",
              "    .dataframe tbody tr th:only-of-type {\n",
              "        vertical-align: middle;\n",
              "    }\n",
              "\n",
              "    .dataframe tbody tr th {\n",
              "        vertical-align: top;\n",
              "    }\n",
              "\n",
              "    .dataframe thead th {\n",
              "        text-align: right;\n",
              "    }\n",
              "</style>\n",
              "<table border=\"1\" class=\"dataframe\">\n",
              "  <thead>\n",
              "    <tr style=\"text-align: right;\">\n",
              "      <th></th>\n",
              "      <th>Accuracy</th>\n",
              "    </tr>\n",
              "  </thead>\n",
              "  <tbody>\n",
              "    <tr>\n",
              "      <th>NAIVE BAYES</th>\n",
              "      <td>21.2563</td>\n",
              "    </tr>\n",
              "    <tr>\n",
              "      <th>KNN</th>\n",
              "      <td>99.5461</td>\n",
              "    </tr>\n",
              "    <tr>\n",
              "      <th>LOGISTIC REGRESSION</th>\n",
              "      <td>99.8554</td>\n",
              "    </tr>\n",
              "    <tr>\n",
              "      <th>DECISION TREE</th>\n",
              "      <td>99.8783</td>\n",
              "    </tr>\n",
              "    <tr>\n",
              "      <th>RANDOM FOREST</th>\n",
              "      <td>99.8969</td>\n",
              "    </tr>\n",
              "  </tbody>\n",
              "</table>\n",
              "</div>"
            ],
            "text/plain": [
              "                    Accuracy\n",
              "NAIVE BAYES          21.2563\n",
              "KNN                  99.5461\n",
              "LOGISTIC REGRESSION  99.8554\n",
              "DECISION TREE        99.8783\n",
              "RANDOM FOREST        99.8969"
            ]
          },
          "metadata": {},
          "execution_count": 32
        }
      ]
    },
    {
      "cell_type": "code",
      "metadata": {
        "id": "qYL_SupEFDK_"
      },
      "source": [
        "data['Accuracy']=data['Accuracy'].astype('float64')"
      ],
      "execution_count": null,
      "outputs": []
    },
    {
      "cell_type": "code",
      "metadata": {
        "colab": {
          "base_uri": "https://localhost:8080/",
          "height": 338
        },
        "id": "jkBTE01eEe5J",
        "outputId": "ceb0fb40-0ff5-4966-eaff-6e2396ec18ee"
      },
      "source": [
        "plt.figure(figsize=(10,5))\n",
        "sns.barplot(data=data, y='Accuracy', x=data.index)"
      ],
      "execution_count": null,
      "outputs": [
        {
          "output_type": "execute_result",
          "data": {
            "text/plain": [
              "<matplotlib.axes._subplots.AxesSubplot at 0x7f908570a790>"
            ]
          },
          "metadata": {},
          "execution_count": 41
        },
        {
          "output_type": "display_data",
          "data": {
            "image/png": "[encoded data removed]",
            "text/plain": [
              "<Figure size 720x360 with 1 Axes>"
            ]
          },
          "metadata": {
            "needs_background": "light"
          }
        }
      ]
    },
    {
      "cell_type": "code",
      "metadata": {
        "id": "SmbJGrddEnbe"
      },
      "source": [
        ""
      ],
      "execution_count": null,
      "outputs": []
    }
  ]
}